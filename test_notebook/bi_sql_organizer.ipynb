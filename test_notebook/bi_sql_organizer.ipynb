{
 "cells": [
  {
   "cell_type": "code",
   "execution_count": 1,
   "metadata": {},
   "outputs": [
    {
     "name": "stderr",
     "output_type": "stream",
     "text": [
      "c:\\Users\\sean.chang\\AppData\\Local\\anaconda3\\envs\\bibot\\lib\\site-packages\\tqdm\\auto.py:21: TqdmWarning: IProgress not found. Please update jupyter and ipywidgets. See https://ipywidgets.readthedocs.io/en/stable/user_install.html\n",
      "  from .autonotebook import tqdm as notebook_tqdm\n"
     ]
    }
   ],
   "source": [
    "import sys\n",
    "import os\n",
    "# project_root = os.path.abspath(os.path.join(os.getcwd(), '..'))  # Go up one level to the root\n",
    "# if project_root not in sys.path:\n",
    "#     sys.path.append(project_root)\n",
    "\n",
    "from src.utils import read_config, OracleAgent\n",
    "import re\n",
    "\n",
    "from py2neo import Graph, Node, Relationship\n",
    "from langchain.prompts import PromptTemplate\n",
    "from langchain_openai.chat_models import ChatOpenAI\n",
    "from langchain.prompts.chat import (\n",
    "    ChatPromptTemplate,\n",
    "    SystemMessagePromptTemplate,\n",
    "    HumanMessagePromptTemplate\n",
    ")\n",
    "\n",
    "\n",
    "import google.generativeai as genai\n",
    "from langchain_google_genai import (\n",
    "    ChatGoogleGenerativeAI,\n",
    "    HarmBlockThreshold,\n",
    "    HarmCategory,\n",
    ")\n"
   ]
  },
  {
   "cell_type": "code",
   "execution_count": 4,
   "metadata": {},
   "outputs": [],
   "source": [
    "configs = read_config(\"../.env/info.json\")\n",
    "\n",
    "os.environ[\"GOOGLE_API_KEY\"] = configs['gkey']\n",
    "\n",
    "O_KEY = configs['okey']\n",
    "os.environ[\"OPENAI_API_KEY\"] = O_KEY\n",
    "# openai.api_key = os.environ[\"OPENAI_API_KEY\"]"
   ]
  },
  {
   "cell_type": "code",
   "execution_count": 5,
   "metadata": {},
   "outputs": [
    {
     "ename": "FileNotFoundError",
     "evalue": "[WinError 3] 系統找不到指定的路徑。: './opt/oracle/'",
     "output_type": "error",
     "traceback": [
      "\u001b[1;31m---------------------------------------------------------------------------\u001b[0m",
      "\u001b[1;31mFileNotFoundError\u001b[0m                         Traceback (most recent call last)",
      "Cell \u001b[1;32mIn[5], line 5\u001b[0m\n\u001b[0;32m      2\u001b[0m \u001b[38;5;66;03m# BIDB = configs['BIDB_conn_info']\u001b[39;00m\n\u001b[0;32m      3\u001b[0m \u001b[38;5;66;03m# bi_agent = OracleAgent(BIDB)\u001b[39;00m\n\u001b[0;32m      4\u001b[0m DWDB \u001b[38;5;241m=\u001b[39m configs[\u001b[38;5;124m'\u001b[39m\u001b[38;5;124mDW_conn_info\u001b[39m\u001b[38;5;124m'\u001b[39m]\n\u001b[1;32m----> 5\u001b[0m dw_agent \u001b[38;5;241m=\u001b[39m \u001b[43mOracleAgent\u001b[49m\u001b[43m(\u001b[49m\u001b[43mDWDB\u001b[49m\u001b[43m)\u001b[49m\n",
      "File \u001b[1;32mc:\\Users\\sean.chang\\yfy\\git\\BIBot\\src\\utils.py:53\u001b[0m, in \u001b[0;36mOracleAgent.__init__\u001b[1;34m(self, config)\u001b[0m\n\u001b[0;32m     51\u001b[0m \u001b[38;5;28;01mdef\u001b[39;00m \u001b[38;5;21m__init__\u001b[39m(\u001b[38;5;28mself\u001b[39m, config) \u001b[38;5;241m-\u001b[39m\u001b[38;5;241m>\u001b[39m \u001b[38;5;28;01mNone\u001b[39;00m:\n\u001b[0;32m     52\u001b[0m     \u001b[38;5;28mself\u001b[39m\u001b[38;5;241m.\u001b[39mconfig \u001b[38;5;241m=\u001b[39m config\n\u001b[1;32m---> 53\u001b[0m     \u001b[38;5;28;43mself\u001b[39;49m\u001b[38;5;241;43m.\u001b[39;49m\u001b[43mdb_connector\u001b[49m\u001b[43m(\u001b[49m\u001b[43m)\u001b[49m\n",
      "File \u001b[1;32mc:\\Users\\sean.chang\\yfy\\git\\BIBot\\src\\utils.py:60\u001b[0m, in \u001b[0;36mOracleAgent.db_connector\u001b[1;34m(self)\u001b[0m\n\u001b[0;32m     57\u001b[0m \u001b[38;5;28;01mif\u001b[39;00m \u001b[38;5;129;01mnot\u001b[39;00m OracleAgent\u001b[38;5;241m.\u001b[39m_oracle_initialized:\n\u001b[0;32m     59\u001b[0m     oracle_client_dir \u001b[38;5;241m=\u001b[39m \u001b[38;5;124m'\u001b[39m\u001b[38;5;124m./opt/oracle/\u001b[39m\u001b[38;5;124m'\u001b[39m\n\u001b[1;32m---> 60\u001b[0m     folders \u001b[38;5;241m=\u001b[39m [folder \u001b[38;5;28;01mfor\u001b[39;00m folder \u001b[38;5;129;01min\u001b[39;00m \u001b[43mos\u001b[49m\u001b[38;5;241;43m.\u001b[39;49m\u001b[43mlistdir\u001b[49m\u001b[43m(\u001b[49m\u001b[43moracle_client_dir\u001b[49m\u001b[43m)\u001b[49m \u001b[38;5;28;01mif\u001b[39;00m folder\u001b[38;5;241m.\u001b[39mstartswith(\u001b[38;5;124m\"\u001b[39m\u001b[38;5;124minstantclient\u001b[39m\u001b[38;5;124m\"\u001b[39m)]\n\u001b[0;32m     61\u001b[0m     \u001b[38;5;28;01mif\u001b[39;00m folders:\n\u001b[0;32m     62\u001b[0m         oracle_client_path \u001b[38;5;241m=\u001b[39m os\u001b[38;5;241m.\u001b[39mpath\u001b[38;5;241m.\u001b[39mjoin(oracle_client_dir, folders[\u001b[38;5;241m0\u001b[39m])\n",
      "\u001b[1;31mFileNotFoundError\u001b[0m: [WinError 3] 系統找不到指定的路徑。: './opt/oracle/'"
     ]
    }
   ],
   "source": [
    "configs = read_config(\"../.env/info.json\")\n",
    "# BIDB = configs['BIDB_conn_info']\n",
    "# bi_agent = OracleAgent(BIDB)\n",
    "DWDB = configs['DW_conn_info']\n",
    "dw_agent = OracleAgent(DWDB)"
   ]
  },
  {
   "cell_type": "code",
   "execution_count": 4,
   "metadata": {},
   "outputs": [],
   "source": [
    "query = \"\"\"\n",
    "    SELECT view_name, text FROM ALL_Views\n",
    "    where owner = 'YFYDW'\n",
    "\"\"\"\n",
    "\n",
    "view_info = dw_agent.read_table(query=query)"
   ]
  },
  {
   "cell_type": "code",
   "execution_count": 5,
   "metadata": {},
   "outputs": [
    {
     "data": {
      "text/html": [
       "<div>\n",
       "<style scoped>\n",
       "    .dataframe tbody tr th:only-of-type {\n",
       "        vertical-align: middle;\n",
       "    }\n",
       "\n",
       "    .dataframe tbody tr th {\n",
       "        vertical-align: top;\n",
       "    }\n",
       "\n",
       "    .dataframe thead th {\n",
       "        text-align: right;\n",
       "    }\n",
       "</style>\n",
       "<table border=\"1\" class=\"dataframe\">\n",
       "  <thead>\n",
       "    <tr style=\"text-align: right;\">\n",
       "      <th></th>\n",
       "      <th>view_name</th>\n",
       "      <th>text</th>\n",
       "    </tr>\n",
       "  </thead>\n",
       "  <tbody>\n",
       "    <tr>\n",
       "      <th>0</th>\n",
       "      <td>WACES_CARBON_EMS01_DF_V</td>\n",
       "      <td>SELECT\\n    ORG.ORG_NAME,\\n    CHECKTYPE_CODE,...</td>\n",
       "    </tr>\n",
       "    <tr>\n",
       "      <th>1</th>\n",
       "      <td>WACES_CARBON_EMS02_MF_V</td>\n",
       "      <td>select \\n    org.org_name,\\n    c.check_date p...</td>\n",
       "    </tr>\n",
       "  </tbody>\n",
       "</table>\n",
       "</div>"
      ],
      "text/plain": [
       "                 view_name                                               text\n",
       "0  WACES_CARBON_EMS01_DF_V  SELECT\\n    ORG.ORG_NAME,\\n    CHECKTYPE_CODE,...\n",
       "1  WACES_CARBON_EMS02_MF_V  select \\n    org.org_name,\\n    c.check_date p..."
      ]
     },
     "execution_count": 5,
     "metadata": {},
     "output_type": "execute_result"
    }
   ],
   "source": [
    "view_info"
   ]
  },
  {
   "cell_type": "code",
   "execution_count": 6,
   "metadata": {},
   "outputs": [],
   "source": [
    "# re.DOTALL: This is a flag that allows the '.' in the regular expression to match newline characters\n",
    "# re.IGNORECASE: This flag makes the search case-insenitive. So it will match \"FROM\", \"from\", \"From\" etc\n",
    "view_info['data_source'] = view_info['text'].apply(lambda x: re.search(r'FROM\\s+(.*)', x, re.DOTALL | re.IGNORECASE).group(0))"
   ]
  },
  {
   "cell_type": "code",
   "execution_count": 7,
   "metadata": {},
   "outputs": [
    {
     "data": {
      "text/html": [
       "<div>\n",
       "<style scoped>\n",
       "    .dataframe tbody tr th:only-of-type {\n",
       "        vertical-align: middle;\n",
       "    }\n",
       "\n",
       "    .dataframe tbody tr th {\n",
       "        vertical-align: top;\n",
       "    }\n",
       "\n",
       "    .dataframe thead th {\n",
       "        text-align: right;\n",
       "    }\n",
       "</style>\n",
       "<table border=\"1\" class=\"dataframe\">\n",
       "  <thead>\n",
       "    <tr style=\"text-align: right;\">\n",
       "      <th></th>\n",
       "      <th>view_name</th>\n",
       "      <th>text</th>\n",
       "      <th>data_source</th>\n",
       "    </tr>\n",
       "  </thead>\n",
       "  <tbody>\n",
       "    <tr>\n",
       "      <th>0</th>\n",
       "      <td>WACES_CARBON_EMS01_DF_V</td>\n",
       "      <td>SELECT\\n    ORG.ORG_NAME,\\n    CHECKTYPE_CODE,...</td>\n",
       "      <td>FROM WACES_CARBON_EMS_DF F,\\n       DIM_ORG  O...</td>\n",
       "    </tr>\n",
       "    <tr>\n",
       "      <th>1</th>\n",
       "      <td>WACES_CARBON_EMS02_MF_V</td>\n",
       "      <td>select \\n    org.org_name,\\n    c.check_date p...</td>\n",
       "      <td>from WBIMF_PRODUCTION_INDS_MF p,\\n       (sele...</td>\n",
       "    </tr>\n",
       "  </tbody>\n",
       "</table>\n",
       "</div>"
      ],
      "text/plain": [
       "                 view_name                                               text  \\\n",
       "0  WACES_CARBON_EMS01_DF_V  SELECT\\n    ORG.ORG_NAME,\\n    CHECKTYPE_CODE,...   \n",
       "1  WACES_CARBON_EMS02_MF_V  select \\n    org.org_name,\\n    c.check_date p...   \n",
       "\n",
       "                                         data_source  \n",
       "0  FROM WACES_CARBON_EMS_DF F,\\n       DIM_ORG  O...  \n",
       "1  from WBIMF_PRODUCTION_INDS_MF p,\\n       (sele...  "
      ]
     },
     "execution_count": 7,
     "metadata": {},
     "output_type": "execute_result"
    }
   ],
   "source": [
    "view_info"
   ]
  },
  {
   "cell_type": "code",
   "execution_count": 13,
   "metadata": {},
   "outputs": [],
   "source": [
    "llm = ChatOpenAI(model='gpt-4o-mini', openai_api_key = O_KEY)"
   ]
  },
  {
   "cell_type": "code",
   "execution_count": 14,
   "metadata": {},
   "outputs": [],
   "source": [
    "system_template = \"\"\"\n",
    "    I will provide the table_name and the corresponing Oracle SQL. \n",
    "    Recongize all the unique identifer such as DIM_ORG org, the unique identifier is org.\n",
    "    Understand the relationship, such as org.org_code which means the column org_code in DIM_ORG.\n",
    "    Return the answer with the ORIGINAL table name instead of the unique identifier.\n",
    "\n",
    "    Following is the example, give me the answer based on real case:\n",
    "    ### Oracle SQL:\n",
    "            from WBIPD_PRODUCTION_INDS_MF p,\n",
    "            (select \n",
    "                    org_code,\n",
    "                    check_date,\n",
    "                    EMISSION_CATEGORY,\n",
    "                    sum(co2_qty) co2_qty\n",
    "                from WACES_CARBON_EMS_DF\n",
    "                where 1=1\n",
    "                and checktype_name = '月盤查'\n",
    "                group by org_code, check_date,EMISSION_CATEGORY) c,\n",
    "            DIM_ORG org\n",
    "        where 1=1\n",
    "        and c.org_code = p.org_code(+)\n",
    "        and c.check_date = p.period_date(+)\n",
    "        and org.org_code = c.org_code\n",
    "        and org.rpt_used = 'ESG碳排分析'\n",
    "    ### Result:\n",
    "\n",
    "        Datasource = ['WACES_CARBON_EMS_DF', 'WBIPD_PRODUCTION_INDS_MF', 'DIM_ORG']\n",
    "\n",
    "        Relationship = \n",
    "        [\n",
    "        (GROUPBY: WACES_CARBON_EMS_DF filter with checktype_name = '月盤查', group by org_code, check_date,EMISSION_CATEGORY),\n",
    "        (JOIN: WACES_CARBON_EMS_DF.org_code = WBIPD_PRODUCTION_INDS_MF.org_code(+)),\n",
    "        (JOIN: WACES_CARBON_EMS_DF.period_date = WBIPD_PRODUCTION_INDS_MF.period_date(+)),\n",
    "        (JOIN: DIM_ORG.org_code = WACES_CARBON_EMS_DF.org_code),\n",
    "        (Filter: DIM_ORG.rpt_used = 'ESG碳排分析'),\n",
    "        ]\n",
    "\n",
    "    Just export the summary without any other description.\n",
    "    \n",
    "    table_name: {table_name}\n",
    "\n",
    "    datasource: {datasource}\n",
    "\n",
    "    \"\"\"\n",
    "\n",
    "messages = [\n",
    "    SystemMessagePromptTemplate.from_template(system_template),\n",
    "    HumanMessagePromptTemplate.from_template(\"{table_name}, {datasource}\")\n",
    "]\n",
    "\n",
    "CHAT_PROMPT = ChatPromptTemplate.from_messages(messages)"
   ]
  },
  {
   "cell_type": "code",
   "execution_count": 15,
   "metadata": {},
   "outputs": [],
   "source": [
    "chain = CHAT_PROMPT | llm\n",
    "input_data = {\n",
    "    \"table_name\": view_info.iloc[0].view_name,\n",
    "    \"datasource\": view_info.iloc[0].data_source\n",
    "}\n",
    "llm_response = chain.invoke(input_data)"
   ]
  },
  {
   "cell_type": "code",
   "execution_count": 16,
   "metadata": {},
   "outputs": [
    {
     "data": {
      "text/plain": [
       "\"FROM WACES_CARBON_EMS_DF F,\\n       DIM_ORG  ORG\\n WHERE 1=1\\n   AND ORG.RPT_USED = 'ESG碳排分析'\\n   AND F.ORG_CODE = ORG.ORG_CODE\""
      ]
     },
     "execution_count": 16,
     "metadata": {},
     "output_type": "execute_result"
    }
   ],
   "source": [
    "view_info.iloc[0].data_source"
   ]
  },
  {
   "cell_type": "code",
   "execution_count": 17,
   "metadata": {},
   "outputs": [
    {
     "name": "stdout",
     "output_type": "stream",
     "text": [
      "Datasource = ['WACES_CARBON_EMS_DF', 'DIM_ORG']\n",
      "\n",
      "Relationship = \n",
      "[\n",
      "(JOIN: WACES_CARBON_EMS_DF.org_code = DIM_ORG.org_code),\n",
      "(Filter: DIM_ORG.rpt_used = 'ESG碳排分析'),\n",
      "]\n"
     ]
    }
   ],
   "source": [
    "print(llm_response.content)"
   ]
  },
  {
   "cell_type": "code",
   "execution_count": 18,
   "metadata": {},
   "outputs": [
    {
     "data": {
      "text/plain": [
       "\"Datasource = ['WACES_CARBON_EMS_DF', 'DIM_ORG']\\n\\nRelationship = \\n[\\n(JOIN: WACES_CARBON_EMS_DF.org_code = DIM_ORG.org_code),\\n(Filter: DIM_ORG.rpt_used = 'ESG碳排分析'),\\n]\""
      ]
     },
     "execution_count": 18,
     "metadata": {},
     "output_type": "execute_result"
    }
   ],
   "source": [
    "llm_response.content"
   ]
  },
  {
   "cell_type": "code",
   "execution_count": 19,
   "metadata": {},
   "outputs": [
    {
     "name": "stdout",
     "output_type": "stream",
     "text": [
      "Datasource List: ['WACES_CARBON_EMS_DF', 'DIM_ORG']\n",
      "Relationship List: ['JOIN: WACES_CARBON_EMS_DF.org_code = DIM_ORG.org_code', \"Filter: DIM_ORG.rpt_used = 'ESG碳排分析'\"]\n"
     ]
    }
   ],
   "source": [
    "import ast\n",
    "\n",
    "def extract_lists(input_string):\n",
    "    # Split the input string into sections based on the prefixes\n",
    "    parts = input_string.split('\\n\\n')\n",
    "    \n",
    "    # Initialize dictionaries to hold the lists\n",
    "    extracted_data = {}\n",
    "    \n",
    "    # Loop through each part and extract the corresponding list\n",
    "    for part in parts:\n",
    "        if part.startswith(\"Datasource\"):\n",
    "            # Extract the Datasource list using the prefix\n",
    "            datasource_section = part[len(\"Datasource = \"):].strip()\n",
    "            extracted_data[\"Datasource\"] = ast.literal_eval(datasource_section)\n",
    "        elif part.startswith(\"Relationship\"):\n",
    "            # Extract the Relationship list using the prefix\n",
    "            relationship_section = part[len(\"Relationship = \"):].strip()\n",
    "            # Remove brackets and split into list\n",
    "            relationship_section = relationship_section.strip(\"[]\\n\")\n",
    "            relationship_list = [item.strip().replace(\"(\", \"\").replace(\")\", \"\").replace(\",\", \"\") for item in relationship_section.split(',\\n')]\n",
    "            extracted_data[\"Relationship\"] = relationship_list\n",
    "    \n",
    "    return extracted_data\n",
    "\n",
    "# Example usage\n",
    "input_string = llm_response.content\n",
    "result = extract_lists(input_string)\n",
    "\n",
    "# Output the lists\n",
    "datasource_list = result.get(\"Datasource\", [])\n",
    "relationship_list = result.get(\"Relationship\", [])\n",
    "\n",
    "print(\"Datasource List:\", datasource_list)\n",
    "print(\"Relationship List:\", relationship_list)\n"
   ]
  },
  {
   "cell_type": "code",
   "execution_count": 20,
   "metadata": {},
   "outputs": [
    {
     "data": {
      "text/plain": [
       "'WACES_CARBON_EMS_DF'"
      ]
     },
     "execution_count": 20,
     "metadata": {},
     "output_type": "execute_result"
    }
   ],
   "source": [
    "datasource_list[0]"
   ]
  },
  {
   "cell_type": "code",
   "execution_count": 68,
   "metadata": {},
   "outputs": [],
   "source": [
    "# Create graph\n",
    "graph = Graph(host=\"138.3.214.21\", auth=(\"neo4j\",\"yfy12345\"))"
   ]
  },
  {
   "cell_type": "code",
   "execution_count": 69,
   "metadata": {},
   "outputs": [],
   "source": [
    "result_dict = {}\n",
    "for source_item in datasource_list:\n",
    "    for rel_item in relationship_list:\n",
    "        if source_item in rel_item:\n",
    "            result_dict[source_item] = rel_item\n",
    "            related_source = [rel_source for rel_source in datasource_list if rel_source != source_item]\n",
    "            # num_related_source = len(related_source)\n",
    "            source_table = Node(\"table\", name=source_item)\n",
    "            related_source_table = Node(\"table\", name=related_source[0])\n",
    "\n",
    "            property_dictionary = {}\n",
    "            rel_item = rel_item.replace(\"(\", \"\").replace(\")\", \"\").replace(\",\", \"\")\n",
    "            if \"Filter\" in rel_item:\n",
    "                property_dictionary['condition'] = rel_item\n",
    "            elif \"JOIN\" in rel_item:\n",
    "                property_dictionary['merge'] = rel_item\n",
    "\n",
    "            relationship = Relationship(source_table, \"FROM\", related_source_table, **property_dictionary)\n",
    "\n",
    "            # Check if the relationship already exists\n",
    "            # existing_relationships = graph.match(\n",
    "            #     (source_table, related_source_table), r_type=\"FROM\"\n",
    "            # )\n",
    "            \n",
    "            # if not existing_relationships:\n",
    "            #     graph.create(relationship)\n",
    "                \n",
    "            # relationship_exists = any(\n",
    "            #     rel for rel in existing_relationships if rel['condition'] == property_dictionary.get('condition') or rel['merge'] == property_dictionary.get('merge')\n",
    "            # )\n",
    "\n",
    "            # if not relationship_exists:\n",
    "            #     relationship = Relationship(source_table, \"FROM\", related_source_table, **property_dictionary)\n",
    "            #     graph.create(relationship)\n",
    "            # graph.create(relationship)"
   ]
  },
  {
   "cell_type": "code",
   "execution_count": 70,
   "metadata": {},
   "outputs": [],
   "source": [
    "existing_relationships = graph.match(\n",
    "    (source_table, related_source_table), r_type=\"FROM\"\n",
    ")"
   ]
  },
  {
   "cell_type": "code",
   "execution_count": 71,
   "metadata": {},
   "outputs": [],
   "source": [
    "try:\n",
    "    if existing_relationships:\n",
    "        relationship_exists = any(\n",
    "                rel for rel in existing_relationships if rel['condition'] == property_dictionary.get('condition') or rel['merge'] == property_dictionary.get('merge')\n",
    "            )\n",
    "        print(\"a\")\n",
    "except:\n",
    "    graph.create(relationship)\n"
   ]
  },
  {
   "cell_type": "code",
   "execution_count": 72,
   "metadata": {},
   "outputs": [],
   "source": [
    "if existing_relationships:\n",
    "    relationship_exists = any(\n",
    "            rel for rel in existing_relationships if rel['condition'] == property_dictionary.get('condition') or rel['merge'] == property_dictionary.get('merge')\n",
    "        )"
   ]
  },
  {
   "cell_type": "code",
   "execution_count": 73,
   "metadata": {},
   "outputs": [
    {
     "data": {
      "text/plain": [
       "True"
      ]
     },
     "execution_count": 73,
     "metadata": {},
     "output_type": "execute_result"
    }
   ],
   "source": [
    "relationship_exists"
   ]
  },
  {
   "cell_type": "code",
   "execution_count": 74,
   "metadata": {},
   "outputs": [
    {
     "data": {
      "text/plain": [
       "{'condition': \"Filter: DIM_ORG.rpt_used = 'ESG碳排分析'\"}"
      ]
     },
     "execution_count": 74,
     "metadata": {},
     "output_type": "execute_result"
    }
   ],
   "source": [
    "property_dictionary = {}\n",
    "rel_item = rel_item.replace(\"(\", \"\").replace(\")\", \"\").replace(\",\", \"\")\n",
    "if \"Filter\" in rel_item:\n",
    "    property_dictionary['condition'] = rel_item\n",
    "elif \"JOIN\" in rel_item:\n",
    "    property_dictionary['merge'] = rel_item\n",
    "property_dictionary"
   ]
  },
  {
   "cell_type": "code",
   "execution_count": 75,
   "metadata": {},
   "outputs": [
    {
     "name": "stdout",
     "output_type": "stream",
     "text": [
      "Node A: (_2:table {name: 'DIM_ORG'})\n",
      "Relationship: (DIM_ORG)-[:FROM {condition: \"Filter: DIM_ORG.rpt_used = 'ESG\\u78b3\\u6392\\u5206\\u6790'\"}]->(WACES_CARBON_EMS_DF)\n",
      "Node B: (_3:table {name: 'WACES_CARBON_EMS_DF'})\n"
     ]
    }
   ],
   "source": [
    "# Query to match the nodes and relationship\n",
    "query = \"\"\"\n",
    "MATCH (a)-[r:FROM]->(b)\n",
    "RETURN a, r, b\n",
    "\"\"\"\n",
    "\n",
    "# Execute the query and get the result\n",
    "result = graph.run(query)\n",
    "\n",
    "# Iterate over the result and print it\n",
    "for record in result:\n",
    "    print(f\"Node A: {record['a']}\")\n",
    "    print(f\"Relationship: {record['r']}\")\n",
    "    print(f\"Node B: {record['b']}\")\n"
   ]
  },
  {
   "cell_type": "code",
   "execution_count": 76,
   "metadata": {},
   "outputs": [
    {
     "data": {
      "text/html": [
       "<table><tr><th>a</th><th>r</th><th>b</th></tr><tr><td style=\"text-align:left\">(_2:table {name: &#039;DIM_ORG&#039;})</td><td style=\"text-align:left\">(DIM_ORG)-[:FROM {condition: &quot;Filter: DIM_ORG.rpt_used = &#039;ESG\\u78b3\\u6392\\u5206\\u6790&#039;&quot;}]-&gt;(WACES_CARBON_EMS_DF)</td><td style=\"text-align:left\">(_3:table {name: &#039;WACES_CARBON_EMS_DF&#039;})</td></tr></table>"
      ],
      "text/plain": [
       " a                            | r                                                                                                                | b                                        \n",
       "------------------------------|------------------------------------------------------------------------------------------------------------------|------------------------------------------\n",
       " (_2:table {name: 'DIM_ORG'}) | (DIM_ORG)-[:FROM {condition: \"Filter: DIM_ORG.rpt_used = 'ESG\\u78b3\\u6392\\u5206\\u6790'\"}]->(WACES_CARBON_EMS_DF) | (_3:table {name: 'WACES_CARBON_EMS_DF'}) "
      ]
     },
     "execution_count": 76,
     "metadata": {},
     "output_type": "execute_result"
    }
   ],
   "source": [
    "query = \"\"\"\n",
    "MATCH (a)-[r:FROM]->(b)\n",
    "RETURN a, r, b\n",
    "\"\"\"\n",
    "\n",
    "# Execute the query and get the result\n",
    "result = graph.run(query)\n",
    "result"
   ]
  },
  {
   "cell_type": "code",
   "execution_count": 33,
   "metadata": {},
   "outputs": [
    {
     "data": {
      "text/html": [
       "(No data)"
      ],
      "text/plain": [
       "(No data)"
      ]
     },
     "execution_count": 33,
     "metadata": {},
     "output_type": "execute_result"
    }
   ],
   "source": [
    "# Delete all relationships\n",
    "graph.run(\"MATCH ()-[r]->() DELETE r\")\n",
    "\n",
    "# Delete all nodes\n",
    "graph.run(\"MATCH (n) DELETE n\")"
   ]
  }
 ],
 "metadata": {
  "kernelspec": {
   "display_name": "bibot",
   "language": "python",
   "name": "python3"
  },
  "language_info": {
   "codemirror_mode": {
    "name": "ipython",
    "version": 3
   },
   "file_extension": ".py",
   "mimetype": "text/x-python",
   "name": "python",
   "nbconvert_exporter": "python",
   "pygments_lexer": "ipython3",
   "version": "3.10.14"
  }
 },
 "nbformat": 4,
 "nbformat_minor": 2
}
