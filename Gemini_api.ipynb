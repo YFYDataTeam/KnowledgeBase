{
 "cells": [
  {
   "cell_type": "code",
   "execution_count": 1,
   "metadata": {},
   "outputs": [
    {
     "name": "stderr",
     "output_type": "stream",
     "text": [
      "c:\\Users\\sean.chang\\AppData\\Local\\anaconda3\\envs\\bibot\\lib\\site-packages\\tqdm\\auto.py:21: TqdmWarning: IProgress not found. Please update jupyter and ipywidgets. See https://ipywidgets.readthedocs.io/en/stable/user_install.html\n",
      "  from .autonotebook import tqdm as notebook_tqdm\n"
     ]
    }
   ],
   "source": [
    "import os\n",
    "import textwrap\n",
    "import json\n",
    "import google.generativeai as genai\n",
    "\n",
    "from IPython.display import display\n",
    "from IPython.display import Markdown\n",
    "\n",
    "\n",
    "import cx_Oracle\n",
    "\n",
    "from datetime import datetime\n",
    "\n",
    "import PIL.Image"
   ]
  },
  {
   "cell_type": "code",
   "execution_count": 17,
   "metadata": {},
   "outputs": [],
   "source": [
    "# the path of input \n",
    "dirpath = r\"\\\\10.25.25.216\\FidelisFileServer\\04數據與分析部\\部門資料\\LLM資料\\華紙-營運績效分析月報\\masked\"\n",
    "\n",
    "topic_name = \"華紙-營運績效分析月報\"\n",
    "\n",
    "prompt = \"請用中文說明報表包含哪些指標分析內容\""
   ]
  },
  {
   "cell_type": "markdown",
   "metadata": {},
   "source": [
    "### Helper functions"
   ]
  },
  {
   "cell_type": "code",
   "execution_count": 2,
   "metadata": {},
   "outputs": [],
   "source": [
    "def read_json(data_path):\n",
    "    with open(data_path) as f:\n",
    "        data = json.load(f)\n",
    "    return data"
   ]
  },
  {
   "cell_type": "code",
   "execution_count": 3,
   "metadata": {},
   "outputs": [],
   "source": [
    "def to_markdown(text):\n",
    "  text = text.replace('•', '  *')\n",
    "  return Markdown(textwrap.indent(text, '> ', predicate=lambda _: True))"
   ]
  },
  {
   "cell_type": "markdown",
   "metadata": {},
   "source": [
    "## Generate description for dashboard"
   ]
  },
  {
   "cell_type": "code",
   "execution_count": 4,
   "metadata": {},
   "outputs": [],
   "source": [
    "info_path = '.env/info.json'\n",
    "info = read_json(info_path)\n",
    "API_KEY= info['gkey']\n",
    "genai.configure(api_key=API_KEY)\n",
    "\n",
    "model = genai.GenerativeModel('gemini-1.5-flash')\n"
   ]
  },
  {
   "cell_type": "code",
   "execution_count": 5,
   "metadata": {},
   "outputs": [],
   "source": [
    "oracle_client_dir = './files/oracle/'\n",
    "\n",
    "oracle_client_path = os.path.join(oracle_client_dir, os.listdir(oracle_client_dir)[0])\n",
    "\n",
    "cx_Oracle.init_oracle_client(lib_dir=oracle_client_path)"
   ]
  },
  {
   "cell_type": "code",
   "execution_count": 6,
   "metadata": {},
   "outputs": [],
   "source": [
    "db_info  = info['dw_conn']\n",
    "user = db_info['user']\n",
    "pw = db_info['pw']\n",
    "IP = db_info['IP']\n",
    "port = db_info['port']\n",
    "service_name = db_info['service_name']\n",
    "\n",
    "# datetime object containing current date and time\n",
    "now = datetime.now()\n",
    "\n",
    "# 連線到 BI DWH 資料庫 oracle\n",
    "dsn_tns = cx_Oracle.makedsn(IP, port, service_name=service_name)\n",
    "DWH_conn = cx_Oracle.connect(user=user, password=pw, dsn=dsn_tns)\n",
    "\n",
    "# 建立 cursor\n",
    "DWH_cursor = DWH_conn.cursor()\n"
   ]
  },
  {
   "cell_type": "code",
   "execution_count": 15,
   "metadata": {},
   "outputs": [],
   "source": [
    "def _insert_data(table_name, topic_name,topic_pic_name,topic_content,now ):\n",
    "    sqlstat = \"insert into \" + table_name + \" ( topic_name, topic_pic_name, topic_content, creation_date) values ( :topic_name,:topic_pic_name,:topic_content, :now )\"\n",
    "    try:\n",
    "        # establish a new connection\n",
    "        dsn_tns = cx_Oracle.makedsn('10.25.66.64', '1521', service_name='biprod')\n",
    "        DWH_conn = cx_Oracle.connect(user='YFYDW', password='!(Yfy123456)', dsn=dsn_tns)\n",
    "        with DWH_conn as connection:\n",
    "            # create a cursor\n",
    "            with connection.cursor() as cursor:\n",
    "                # execute the insert statement\n",
    "                cursor.execute(sqlstat, [topic_name, topic_pic_name, topic_content, now])\n",
    "                # commit work\n",
    "                connection.commit()\n",
    "    except cx_Oracle.Error as error:\n",
    "            print('Error occurred:')\n",
    "            print(error)"
   ]
  },
  {
   "cell_type": "code",
   "execution_count": null,
   "metadata": {},
   "outputs": [],
   "source": [
    "# dirpath = r\"\\\\10.25.25.216\\FidelisFileServer\\04數據與分析部\\部門資料\\LLM資料\\華紙-營運績效分析月報\\masked\"\n",
    "d1 = os.listdir(dirpath)\n",
    "table_name = \"ai_report\"\n",
    "for i  in d1:\n",
    "    print(i)\n",
    "    if i != \"Thumbs.db\" :\n",
    "        filename = dirpath + \"\\\\\" + i\n",
    "        img = PIL.Image.open(filename)\n",
    "        response = model.generate_content([prompt, img], stream=True)\n",
    "        response.resolve()\n",
    "        topic_content = response.text\n",
    "        topic_pic_name = filename\n",
    "        print(topic_content)\n",
    "        _insert_data( table_name,topic_name,topic_pic_name,topic_content,now)"
   ]
  }
 ],
 "metadata": {
  "kernelspec": {
   "display_name": "base",
   "language": "python",
   "name": "python3"
  },
  "language_info": {
   "codemirror_mode": {
    "name": "ipython",
    "version": 3
   },
   "file_extension": ".py",
   "mimetype": "text/x-python",
   "name": "python",
   "nbconvert_exporter": "python",
   "pygments_lexer": "ipython3",
   "version": "3.10.14"
  }
 },
 "nbformat": 4,
 "nbformat_minor": 2
}
