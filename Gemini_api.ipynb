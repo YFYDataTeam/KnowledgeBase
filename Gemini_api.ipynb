{
 "cells": [
  {
   "cell_type": "code",
   "execution_count": 7,
   "metadata": {},
   "outputs": [],
   "source": [
    "import os\n",
    "import textwrap\n",
    "import json\n",
    "import google.generativeai as genai\n",
    "\n",
    "from IPython.display import display\n",
    "from IPython.display import Markdown\n",
    "\n",
    "\n",
    "import cx_Oracle\n",
    "\n",
    "from datetime import datetime\n",
    "\n",
    "import PIL.Image"
   ]
  },
  {
   "cell_type": "code",
   "execution_count": 17,
   "metadata": {},
   "outputs": [],
   "source": [
    "# the path of input \n",
    "dirpath = r\"\\\\10.25.25.216\\FidelisFileServer\\04數據與分析部\\部門資料\\LLM資料\\華紙-營運績效分析月報\\masked\"\n",
    "\n",
    "topic_name = \"華紙-營運績效分析月報\"\n",
    "\n",
    "# prompt = \"請用中文說明報表包含哪些指標分析內容\"\n",
    "\n",
    "\n",
    "prompt = \"請用中文說明報表包含哪些指標分析內容，並且不要讀取裡面的數據內容只要專注在坐標軸就好\""
   ]
  },
  {
   "cell_type": "markdown",
   "metadata": {},
   "source": [
    "### Helper functions"
   ]
  },
  {
   "cell_type": "code",
   "execution_count": 18,
   "metadata": {},
   "outputs": [],
   "source": [
    "def read_json(data_path):\n",
    "    with open(data_path) as f:\n",
    "        data = json.load(f)\n",
    "    return data"
   ]
  },
  {
   "cell_type": "code",
   "execution_count": 10,
   "metadata": {},
   "outputs": [],
   "source": [
    "def to_markdown(text):\n",
    "  text = text.replace('•', '  *')\n",
    "  return Markdown(textwrap.indent(text, '> ', predicate=lambda _: True))"
   ]
  },
  {
   "cell_type": "markdown",
   "metadata": {},
   "source": [
    "## Generate description for dashboard"
   ]
  },
  {
   "cell_type": "code",
   "execution_count": 12,
   "metadata": {},
   "outputs": [
    {
     "ename": "ProgrammingError",
     "evalue": "Oracle Client library has already been initialized",
     "output_type": "error",
     "traceback": [
      "\u001b[1;31m---------------------------------------------------------------------------\u001b[0m",
      "\u001b[1;31mProgrammingError\u001b[0m                          Traceback (most recent call last)",
      "Cell \u001b[1;32mIn[12], line 5\u001b[0m\n\u001b[0;32m      1\u001b[0m oracle_client_dir \u001b[38;5;241m=\u001b[39m \u001b[38;5;124m'\u001b[39m\u001b[38;5;124m./opt/oracle/\u001b[39m\u001b[38;5;124m'\u001b[39m\n\u001b[0;32m      3\u001b[0m oracle_client_path \u001b[38;5;241m=\u001b[39m os\u001b[38;5;241m.\u001b[39mpath\u001b[38;5;241m.\u001b[39mjoin(oracle_client_dir, os\u001b[38;5;241m.\u001b[39mlistdir(oracle_client_dir)[\u001b[38;5;241m0\u001b[39m])\n\u001b[1;32m----> 5\u001b[0m \u001b[43mcx_Oracle\u001b[49m\u001b[38;5;241;43m.\u001b[39;49m\u001b[43minit_oracle_client\u001b[49m\u001b[43m(\u001b[49m\u001b[43mlib_dir\u001b[49m\u001b[38;5;241;43m=\u001b[39;49m\u001b[43moracle_client_path\u001b[49m\u001b[43m)\u001b[49m\n",
      "\u001b[1;31mProgrammingError\u001b[0m: Oracle Client library has already been initialized"
     ]
    }
   ],
   "source": [
    "oracle_client_dir = './opt/oracle/'\n",
    "\n",
    "oracle_client_path = os.path.join(oracle_client_dir, os.listdir(oracle_client_dir)[0])\n",
    "\n",
    "cx_Oracle.init_oracle_client(lib_dir=oracle_client_path)"
   ]
  },
  {
   "cell_type": "code",
   "execution_count": 22,
   "metadata": {},
   "outputs": [],
   "source": [
    "info_path = '.env/connections.json'\n",
    "info = read_json(info_path)\n",
    "API_KEY= info['gkey']\n",
    "genai.configure(api_key=API_KEY)\n",
    "\n",
    "model = genai.GenerativeModel('gemini-1.5-flash')\n"
   ]
  },
  {
   "cell_type": "code",
   "execution_count": 7,
   "metadata": {},
   "outputs": [],
   "source": [
    "def _insert_data(table_name, topic_name,topic_pic_name,topic_content,now ):\n",
    "    sqlstat = \"insert into \" + table_name + \" ( topic_name, topic_pic_name, topic_content, creation_date) values ( :topic_name,:topic_pic_name,:topic_content, :now )\"\n",
    "    try:\n",
    "        db_info  = info['dw_conn']\n",
    "        user = db_info['user']\n",
    "        pw = db_info['pw']\n",
    "        IP = db_info['IP']\n",
    "        port = db_info['port']\n",
    "        service_name = db_info['service_name']\n",
    "\n",
    "        # establish a new connection\n",
    "        dsn_tns = cx_Oracle.makedsn(IP, port, service_name=service_name)\n",
    "        DWH_conn = cx_Oracle.connect(user=user, password=pw, dsn=dsn_tns)\n",
    "\n",
    "        with DWH_conn as connection:\n",
    "            # create a cursor\n",
    "            with connection.cursor() as cursor:\n",
    "                # execute the insert statement\n",
    "                cursor.execute(sqlstat, [topic_name, topic_pic_name, topic_content, now])\n",
    "                # commit work\n",
    "                connection.commit()\n",
    "    except cx_Oracle.Error as error:\n",
    "            print('Error occurred:')\n",
    "            print(error)"
   ]
  },
  {
   "cell_type": "code",
   "execution_count": 8,
   "metadata": {},
   "outputs": [],
   "source": [
    "# dirpath = r\"\\\\10.25.25.216\\FidelisFileServer\\04數據與分析部\\部門資料\\LLM資料\\華紙-營運績效分析月報\\masked\"\n",
    "now = datetime.now()\n",
    "d1 = os.listdir(dirpath)"
   ]
  },
  {
   "cell_type": "code",
   "execution_count": 12,
   "metadata": {},
   "outputs": [
    {
     "name": "stdout",
     "output_type": "stream",
     "text": [
      "Thumbs.db\n",
      "事業部層-全廠損益.jpg\n",
      "報表包含了以下指標分析內容：\n",
      "\n",
      "**本月：**\n",
      "\n",
      "* 銷售收入\n",
      "* 銷售成本\n",
      "* 銷售毛利\n",
      "* 營業利益\n",
      "* 稅前淨益\n",
      "\n",
      "**全年累計：**\n",
      "\n",
      "* 銷售收入\n",
      "* 銷售成本\n",
      "* 銷售毛利\n",
      "* 營業利益\n",
      "* 稅前淨益\n",
      "* 年度預算\n",
      "* 達成率\n",
      "\n",
      "**商品別：**\n",
      "\n",
      "* 啤酒 (TWD)\n",
      "* 久釀 (TWD)\n",
      "* 花雕 (TWD)\n",
      "* 台啤 (TWD)\n",
      "* 啤酒 (TWD)\n",
      "* P廠 (TWD)\n",
      "* 啤酒 (CNY)\n",
      "* 啤酒 (CNY)\n",
      "* 啤酒 (CNY)\n",
      "* 台啤 (TWD)\n"
     ]
    }
   ],
   "source": [
    "# dirpath = r\"\\\\10.25.25.216\\FidelisFileServer\\04數據與分析部\\部門資料\\LLM資料\\華紙-營運績效分析月報\\masked\"\n",
    "now = datetime.now()\n",
    "d1 = os.listdir(dirpath)\n",
    "table_name = \"ai_report\"\n",
    "for i  in d1[:2]:\n",
    "    print(i)\n",
    "    if i != \"Thumbs.db\" :\n",
    "        filename = dirpath + \"\\\\\" + i\n",
    "        img = PIL.Image.open(filename)\n",
    "        response = model.generate_content([prompt, img], stream=True)\n",
    "        response.resolve()\n",
    "        topic_content = response.text\n",
    "        topic_pic_name = filename\n",
    "        print(topic_content)\n",
    "        # _insert_data( table_name,topic_name,topic_pic_name,topic_content,now)"
   ]
  }
 ],
 "metadata": {
  "kernelspec": {
   "display_name": "base",
   "language": "python",
   "name": "python3"
  },
  "language_info": {
   "codemirror_mode": {
    "name": "ipython",
    "version": 3
   },
   "file_extension": ".py",
   "mimetype": "text/x-python",
   "name": "python",
   "nbconvert_exporter": "python",
   "pygments_lexer": "ipython3",
   "version": "3.10.14"
  }
 },
 "nbformat": 4,
 "nbformat_minor": 2
}
