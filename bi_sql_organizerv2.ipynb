{
 "cells": [
  {
   "cell_type": "code",
   "execution_count": 17,
   "metadata": {},
   "outputs": [],
   "source": [
    "from utils import read_config, OracleAgent, MySQLAgent\n",
    "import re\n",
    "import os\n",
    "from py2neo import Graph, Node, Relationship\n",
    "from langchain.prompts import PromptTemplate\n",
    "from langchain_openai.chat_models import ChatOpenAI\n",
    "from langchain.prompts.chat import (\n",
    "    ChatPromptTemplate,\n",
    "    SystemMessagePromptTemplate,\n",
    "    HumanMessagePromptTemplate\n",
    ")\n",
    "\n",
    "from langchain.chat_models  import AzureChatOpenAI\n",
    "\n",
    "import google.generativeai as genai\n",
    "from langchain_google_genai import (\n",
    "    ChatGoogleGenerativeAI,\n",
    "    HarmBlockThreshold,\n",
    "    HarmCategory,\n",
    ")\n"
   ]
  },
  {
   "cell_type": "markdown",
   "metadata": {},
   "source": [
    "## DW"
   ]
  },
  {
   "cell_type": "code",
   "execution_count": 18,
   "metadata": {},
   "outputs": [],
   "source": [
    "from utils import read_config, OracleAgent, MySQLAgent\n",
    "import os\n",
    "configs = read_config(\".env/info.json\")\n",
    "\n",
    "os.environ[\"GOOGLE_API_KEY\"] = configs['gkey']\n",
    "\n",
    "O_KEY = configs['okey']\n",
    "os.environ[\"OPENAI_API_KEY\"] = O_KEY\n",
    "DWDB = configs['DW_conn_info']\n",
    "dw_agent = OracleAgent(DWDB)"
   ]
  },
  {
   "cell_type": "code",
   "execution_count": 19,
   "metadata": {},
   "outputs": [],
   "source": [
    "mysql_configs = configs[\"Crawler_mysql_conn_info_BIData\"]\n",
    "mysql_agent = MySQLAgent(mysql_configs)\n",
    "\n",
    "aoai_configs = configs['AOAI']"
   ]
  },
  {
   "cell_type": "code",
   "execution_count": 20,
   "metadata": {},
   "outputs": [
    {
     "data": {
      "text/html": [
       "<div>\n",
       "<style scoped>\n",
       "    .dataframe tbody tr th:only-of-type {\n",
       "        vertical-align: middle;\n",
       "    }\n",
       "\n",
       "    .dataframe tbody tr th {\n",
       "        vertical-align: top;\n",
       "    }\n",
       "\n",
       "    .dataframe thead th {\n",
       "        text-align: right;\n",
       "    }\n",
       "</style>\n",
       "<table border=\"1\" class=\"dataframe\">\n",
       "  <thead>\n",
       "    <tr style=\"text-align: right;\">\n",
       "      <th></th>\n",
       "      <th>view_name</th>\n",
       "      <th>text</th>\n",
       "      <th>data_source</th>\n",
       "    </tr>\n",
       "  </thead>\n",
       "  <tbody>\n",
       "    <tr>\n",
       "      <th>0</th>\n",
       "      <td>WACES_CARBON_EMS01_DF_V</td>\n",
       "      <td>SELECT\\n    ORG.ORG_NAME,\\n    CHECKTYPE_CODE,...</td>\n",
       "      <td>FROM WACES_CARBON_EMS_DF F,\\n       DIM_ORG  O...</td>\n",
       "    </tr>\n",
       "    <tr>\n",
       "      <th>1</th>\n",
       "      <td>WACES_CARBON_EMS02_MF_V</td>\n",
       "      <td>select \\n    org.org_name,\\n    c.check_date p...</td>\n",
       "      <td>from WBIMF_PRODUCTION_INDS_MF p,\\n       (sele...</td>\n",
       "    </tr>\n",
       "  </tbody>\n",
       "</table>\n",
       "</div>"
      ],
      "text/plain": [
       "                 view_name                                               text  \\\n",
       "0  WACES_CARBON_EMS01_DF_V  SELECT\\n    ORG.ORG_NAME,\\n    CHECKTYPE_CODE,...   \n",
       "1  WACES_CARBON_EMS02_MF_V  select \\n    org.org_name,\\n    c.check_date p...   \n",
       "\n",
       "                                         data_source  \n",
       "0  FROM WACES_CARBON_EMS_DF F,\\n       DIM_ORG  O...  \n",
       "1  from WBIMF_PRODUCTION_INDS_MF p,\\n       (sele...  "
      ]
     },
     "execution_count": 20,
     "metadata": {},
     "output_type": "execute_result"
    }
   ],
   "source": [
    "query = \"\"\"\n",
    "    SELECT view_name, text FROM ALL_Views\n",
    "    where owner = 'YFYDW'\n",
    "\"\"\"\n",
    "\n",
    "view_info = dw_agent.read_table(query=query)\n",
    "view_info['data_source'] = view_info['text'].apply(lambda x: re.search(r'FROM\\s+(.*)', x, re.DOTALL | re.IGNORECASE).group(0))\n",
    "view_info"
   ]
  },
  {
   "cell_type": "code",
   "execution_count": 21,
   "metadata": {},
   "outputs": [],
   "source": [
    "OPENAI_API_BASE = aoai_configs['OPENAI_API_BASE']\n",
    "OPEN_AI_VERSION = aoai_configs['OPEN_AI_VERSION']\n",
    "GPT_DEPLOYMENT_NAME = aoai_configs['GPT_DEPLOYMENT_NAME']\n",
    "OPENAI_API_KEY = aoai_configs['OPENAI_API_KEY']\n",
    "OPENAI_API_TYPE = aoai_configs['OPENAI_API_TYPE']\n",
    "\n",
    "llm = AzureChatOpenAI(\n",
    "    azure_endpoint=OPENAI_API_BASE,\n",
    "    openai_api_version=OPEN_AI_VERSION,\n",
    "    azure_deployment=GPT_DEPLOYMENT_NAME,\n",
    "    openai_api_key=OPENAI_API_KEY,\n",
    "    openai_api_type=\"azure\",\n",
    ")\n",
    "\n",
    "# llm = ChatOpenAI(model='gpt-4o-mini', openai_api_key = O_KEY)"
   ]
  },
  {
   "cell_type": "code",
   "execution_count": 29,
   "metadata": {},
   "outputs": [],
   "source": [
    "system_template = \"\"\"\n",
    "    I will provide the table_name and the corresponing Oracle SQL. \n",
    "    Recongize all the unique identifer such as DIM_ORG org, the unique identifier is org.\n",
    "    Understand the relationship, such as org.org_code which means the column org_code in DIM_ORG.\n",
    "    Return the answer with the ORIGINAL table name instead of the unique identifier.\n",
    "\n",
    "    Following is the example, give me the answer based on real case:\n",
    "    ### Oracle SQL:\n",
    "            from WBIPD_PRODUCTION_INDS_MF p,\n",
    "            (select \n",
    "                    org_code,\n",
    "                    check_date,\n",
    "                    EMISSION_CATEGORY,\n",
    "                    sum(co2_qty) co2_qty\n",
    "                from WACES_CARBON_EMS_DF\n",
    "                where 1=1\n",
    "                and checktype_name = '月盤查'\n",
    "                group by org_code, check_date,EMISSION_CATEGORY) c,\n",
    "            DIM_ORG org\n",
    "        where 1=1\n",
    "        and c.org_code = p.org_code(+)\n",
    "        and c.check_date = p.period_date(+)\n",
    "        and org.org_code = c.org_code\n",
    "        and org.rpt_used = 'ESG碳排分析'\n",
    "    ### Result:\n",
    "\n",
    "        Datasource = ['WACES_CARBON_EMS_DF', 'WBIPD_PRODUCTION_INDS_MF', 'DIM_ORG']\n",
    "\n",
    "        Relationship = \n",
    "        [\n",
    "        (GROUPBY: WACES_CARBON_EMS_DF filter with checktype_name = '月盤查', group by org_code, check_date,EMISSION_CATEGORY),\n",
    "        (JOIN: WACES_CARBON_EMS_DF.org_code = WBIPD_PRODUCTION_INDS_MF.org_code(+)),\n",
    "        (JOIN: WACES_CARBON_EMS_DF.period_date = WBIPD_PRODUCTION_INDS_MF.period_date(+)),\n",
    "        (JOIN: DIM_ORG.org_code = WACES_CARBON_EMS_DF.org_code),\n",
    "        (Filter: DIM_ORG.rpt_used = 'ESG碳排分析'),\n",
    "        ]\n",
    "\n",
    "    Just export the Datasource and Relationship part.\n",
    "    \n",
    "    table_name: {table_name}\n",
    "\n",
    "    datasource: {datasource}\n",
    "\n",
    "    \"\"\"\n",
    "\n",
    "messages = [\n",
    "    SystemMessagePromptTemplate.from_template(system_template),\n",
    "    HumanMessagePromptTemplate.from_template(\"{table_name}, {datasource}\")\n",
    "]\n",
    "\n",
    "CHAT_PROMPT = ChatPromptTemplate.from_messages(messages)"
   ]
  },
  {
   "cell_type": "code",
   "execution_count": 30,
   "metadata": {},
   "outputs": [],
   "source": [
    "chain = CHAT_PROMPT | llm\n",
    "input_data = {\n",
    "    \"table_name\": view_info.iloc[0].view_name,\n",
    "    \"datasource\": view_info.iloc[0].data_source\n",
    "}\n",
    "llm_response = chain.invoke(input_data)"
   ]
  },
  {
   "cell_type": "code",
   "execution_count": 31,
   "metadata": {},
   "outputs": [
    {
     "data": {
      "text/plain": [
       "{'completion_tokens': 66, 'prompt_tokens': 581, 'total_tokens': 647}"
      ]
     },
     "execution_count": 31,
     "metadata": {},
     "output_type": "execute_result"
    }
   ],
   "source": [
    "llm_response.response_metadata['token_usage']"
   ]
  },
  {
   "cell_type": "code",
   "execution_count": 33,
   "metadata": {},
   "outputs": [
    {
     "data": {
      "text/plain": [
       "\"### Result:\\n\\nDatasource = ['WACES_CARBON_EMS_DF', 'DIM_ORG']\\n\\nRelationship = \\n[\\n(JOIN: WACES_CARBON_EMS_DF.ORG_CODE = DIM_ORG.ORG_CODE),\\n(Filter: DIM_ORG.RPT_USED = 'ESG碳排分析')\\n]\""
      ]
     },
     "execution_count": 33,
     "metadata": {},
     "output_type": "execute_result"
    }
   ],
   "source": [
    "llm_response.content"
   ]
  },
  {
   "cell_type": "code",
   "execution_count": 34,
   "metadata": {},
   "outputs": [
    {
     "name": "stdout",
     "output_type": "stream",
     "text": [
      "### Result:\n",
      "\n",
      "Datasource = ['WACES_CARBON_EMS_DF', 'DIM_ORG']\n",
      "\n",
      "Relationship = \n",
      "[\n",
      "(JOIN: WACES_CARBON_EMS_DF.ORG_CODE = DIM_ORG.ORG_CODE),\n",
      "(Filter: DIM_ORG.RPT_USED = 'ESG碳排分析')\n",
      "]\n"
     ]
    }
   ],
   "source": [
    "print(llm_response.content)"
   ]
  },
  {
   "cell_type": "code",
   "execution_count": 35,
   "metadata": {},
   "outputs": [
    {
     "name": "stdout",
     "output_type": "stream",
     "text": [
      "Datasource List: ['WACES_CARBON_EMS_DF', 'DIM_ORG']\n",
      "Relationship List: ['JOIN: WACES_CARBON_EMS_DF.ORG_CODE = DIM_ORG.ORG_CODE', \"Filter: DIM_ORG.RPT_USED = 'ESG碳排分析'\"]\n"
     ]
    }
   ],
   "source": [
    "import ast\n",
    "\n",
    "def extract_lists(input_string):\n",
    "    # Split the input string into sections based on the prefixes\n",
    "    parts = input_string.split('\\n\\n')\n",
    "    \n",
    "    # Initialize dictionaries to hold the lists\n",
    "    extracted_data = {}\n",
    "    \n",
    "    # Loop through each part and extract the corresponding list\n",
    "    for part in parts:\n",
    "        if part.startswith(\"Datasource\"):\n",
    "            # Extract the Datasource list using the prefix\n",
    "            datasource_section = part[len(\"Datasource = \"):].strip()\n",
    "            extracted_data[\"Datasource\"] = ast.literal_eval(datasource_section)\n",
    "        elif part.startswith(\"Relationship\"):\n",
    "            # Extract the Relationship list using the prefix\n",
    "            relationship_section = part[len(\"Relationship = \"):].strip()\n",
    "            # Remove brackets and split into list\n",
    "            relationship_section = relationship_section.strip(\"[]\\n\")\n",
    "            relationship_list = [item.strip().replace(\"(\", \"\").replace(\")\", \"\").replace(\",\", \"\") for item in relationship_section.split(',\\n')]\n",
    "            extracted_data[\"Relationship\"] = relationship_list\n",
    "    \n",
    "    return extracted_data\n",
    "\n",
    "# Example usage\n",
    "input_string = llm_response.content\n",
    "result = extract_lists(input_string)\n",
    "\n",
    "# Output the lists\n",
    "datasource_list = result.get(\"Datasource\", [])\n",
    "relationship_list = result.get(\"Relationship\", [])\n",
    "\n",
    "print(\"Datasource List:\", datasource_list)\n",
    "print(\"Relationship List:\", relationship_list)\n"
   ]
  },
  {
   "cell_type": "markdown",
   "metadata": {},
   "source": [
    "### Export data into MySQL"
   ]
  },
  {
   "cell_type": "code",
   "execution_count": 31,
   "metadata": {},
   "outputs": [],
   "source": [
    "view_lineage = view_info.copy()\n",
    "view_lineage['lineage'] = \"\"\n",
    "view_lineage.at[0, 'lineage'] = llm_response.content"
   ]
  },
  {
   "cell_type": "code",
   "execution_count": 32,
   "metadata": {},
   "outputs": [
    {
     "data": {
      "text/html": [
       "<div>\n",
       "<style scoped>\n",
       "    .dataframe tbody tr th:only-of-type {\n",
       "        vertical-align: middle;\n",
       "    }\n",
       "\n",
       "    .dataframe tbody tr th {\n",
       "        vertical-align: top;\n",
       "    }\n",
       "\n",
       "    .dataframe thead th {\n",
       "        text-align: right;\n",
       "    }\n",
       "</style>\n",
       "<table border=\"1\" class=\"dataframe\">\n",
       "  <thead>\n",
       "    <tr style=\"text-align: right;\">\n",
       "      <th></th>\n",
       "      <th>view_name</th>\n",
       "      <th>text</th>\n",
       "      <th>data_source</th>\n",
       "      <th>lineage</th>\n",
       "    </tr>\n",
       "  </thead>\n",
       "  <tbody>\n",
       "    <tr>\n",
       "      <th>0</th>\n",
       "      <td>WACES_CARBON_EMS01_DF_V</td>\n",
       "      <td>SELECT\\n    ORG.ORG_NAME,\\n    CHECKTYPE_CODE,...</td>\n",
       "      <td>FROM WACES_CARBON_EMS_DF F,\\n       DIM_ORG  O...</td>\n",
       "      <td>Datasource = ['WACES_CARBON_EMS_DF', 'DIM_ORG'...</td>\n",
       "    </tr>\n",
       "    <tr>\n",
       "      <th>1</th>\n",
       "      <td>WACES_CARBON_EMS02_MF_V</td>\n",
       "      <td>select \\n    org.org_name,\\n    c.check_date p...</td>\n",
       "      <td>from WBIMF_PRODUCTION_INDS_MF p,\\n       (sele...</td>\n",
       "      <td></td>\n",
       "    </tr>\n",
       "  </tbody>\n",
       "</table>\n",
       "</div>"
      ],
      "text/plain": [
       "                 view_name                                               text  \\\n",
       "0  WACES_CARBON_EMS01_DF_V  SELECT\\n    ORG.ORG_NAME,\\n    CHECKTYPE_CODE,...   \n",
       "1  WACES_CARBON_EMS02_MF_V  select \\n    org.org_name,\\n    c.check_date p...   \n",
       "\n",
       "                                         data_source  \\\n",
       "0  FROM WACES_CARBON_EMS_DF F,\\n       DIM_ORG  O...   \n",
       "1  from WBIMF_PRODUCTION_INDS_MF p,\\n       (sele...   \n",
       "\n",
       "                                             lineage  \n",
       "0  Datasource = ['WACES_CARBON_EMS_DF', 'DIM_ORG'...  \n",
       "1                                                     "
      ]
     },
     "execution_count": 32,
     "metadata": {},
     "output_type": "execute_result"
    }
   ],
   "source": [
    "view_lineage"
   ]
  },
  {
   "cell_type": "markdown",
   "metadata": {},
   "source": [
    "#### add one complicated case"
   ]
  },
  {
   "cell_type": "code",
   "execution_count": 34,
   "metadata": {},
   "outputs": [],
   "source": [
    "# rela = \"\"\"\n",
    "# Datasource = [\n",
    "#     'apps.mtl_material_transactions',\n",
    "#     'apps.oe_order_headers_all',\n",
    "#     'apps.mtl_transaction_types',\n",
    "#     'org_organization_definitions',\n",
    "#     'apps.oe_order_lines_all',\n",
    "#     'apps.oe_transaction_types_tl',\n",
    "#     'apps.mtl_system_items_b',\n",
    "#     'apps.mtl_item_categories_v',\n",
    "#     'apps.ar_customers_all_v',\n",
    "#     'xxom_quote_margin',\n",
    "#     'xxinv_items_upload_t1',\n",
    "#     'apps.ra_customer_trx_all',\n",
    "#     'apps.ra_customer_trx_lines_all',\n",
    "#     'apps.ra_cust_trx_types_all',\n",
    "#     'apps.hz_cust_accounts',\n",
    "#     'xxtcpq_pcg_avcost',\n",
    "#     'hr_operating_units'\n",
    "# ]\\n\\n\n",
    "# Relationship = [\n",
    "#     (JOIN: apps.oe_order_headers_all.header_id = apps.oe_order_lines_all.header_id),\n",
    "#     (JOIN: apps.mtl_material_transactions.source_line_id = apps.oe_order_lines_all.line_id),\n",
    "#     (JOIN: apps.mtl_material_transactions.transaction_type_id = apps.mtl_transaction_types.transaction_type_id),\n",
    "#     (JOIN: org_organization_definitions.organization_id = apps.oe_order_headers_all.org_id),\n",
    "#     (JOIN: org_organization_definitions.organization_id = apps.mtl_system_items_b.organization_id),\n",
    "#     (JOIN: apps.mtl_system_items_b.inventory_item_id = apps.oe_order_lines_all.inventory_item_id),\n",
    "#     (JOIN: apps.mtl_system_items_b.inventory_item_id = apps.mtl_item_categories_v.inventory_item_id),\n",
    "#     (JOIN: apps.mtl_item_categories_v.organization_id = org_organization_definitions.organization_id),\n",
    "#     (JOIN: apps.ar_customers_all_v.customer_id = apps.oe_order_headers_all.sold_to_org_id),\n",
    "#     (JOIN: apps.hz_cust_accounts.cust_account_id = apps.ar_customers_all_v.customer_id),\n",
    "#     (JOIN: apps.ra_customer_trx_lines_all.customer_trx_id = apps.ra_customer_trx_all.customer_trx_id),\n",
    "#     (JOIN: apps.ra_customer_trx_lines_all.inventory_item_id = apps.mtl_system_items_b.inventory_item_id),\n",
    "#     (JOIN: apps.ra_cust_trx_types_all.cust_trx_type_id = apps.ra_customer_trx_lines_all.cust_trx_type_id),\n",
    "#     (JOIN: apps.ra_cust_trx_types_all.org_id = org_organization_definitions.operating_unit),\n",
    "#     (JOIN: xxtcpq_pcg_avcost.ebs_so_header_id = apps.oe_order_headers_all.header_id),\n",
    "#     (JOIN: xxom_quote_margin.quote_number = apps.oe_order_headers_all.order_number),\n",
    "#     (JOIN: xxinv_items_upload_t1.segment1 = apps.mtl_system_items_b.segment1),\n",
    "#     (Filter: apps.mtl_item_categories_v.category_set_name = 'YFY Inventory'),\n",
    "#     (Filter: apps.mtl_item_categories_v.enabled_flag = 'Y'),\n",
    "#     (Filter: apps.oe_transaction_types_tl.LANGUAGE = 'US'),\n",
    "#     (Filter: org_organization_definitions.organization_code NOT IN ('AEG')),\n",
    "#     (Filter: apps.oe_order_lines_all.item_type_code <> 'MODEL'),\n",
    "#     (Filter: apps.oe_order_lines_all.flow_status_code = 'CLOSED'),\n",
    "#     (Filter: apps.mtl_material_transactions.subinventory_code = 'STAGE')\n",
    "# ]\n",
    "\n",
    "# \"\"\"\n"
   ]
  },
  {
   "cell_type": "code",
   "execution_count": 35,
   "metadata": {},
   "outputs": [],
   "source": [
    "# view_lineage.at[2, 'view_name'] = 'XXBI_SALES_DETAILS_PCG_TW'\n",
    "# view_lineage.at[2, 'text'] = text_sql\n",
    "# view_lineage.at[2, 'lineage'] = rela\n"
   ]
  },
  {
   "cell_type": "code",
   "execution_count": 36,
   "metadata": {},
   "outputs": [],
   "source": [
    "# mysql_agent.write_table(data=view_lineage, table_name='data_lineage', if_exists='replace', data_type=None, index=None)"
   ]
  },
  {
   "cell_type": "markdown",
   "metadata": {},
   "source": [
    "## BIDB"
   ]
  },
  {
   "cell_type": "code",
   "execution_count": 39,
   "metadata": {},
   "outputs": [],
   "source": [
    "BIDB = configs['BIDB_conn_info']\n",
    "bidb_agent = OracleAgent(BIDB)"
   ]
  },
  {
   "cell_type": "code",
   "execution_count": 78,
   "metadata": {},
   "outputs": [],
   "source": [
    "query = \"\"\"\n",
    "SELECT view_name, text FROM ALL_Views\n",
    "where owner = 'ODS' AND rownum <= 5\n",
    "\"\"\"\n",
    "\n",
    "bidb_view = bidb_agent.read_table(query=query)"
   ]
  },
  {
   "cell_type": "code",
   "execution_count": 96,
   "metadata": {},
   "outputs": [],
   "source": [
    "bidb_view['text'] = bidb_view['text'].str.replace('\\n', ' ')\n",
    "bidb_view['text'] = bidb_view['text'].str.replace('\\t', ' ')\n",
    "bidb_view['source'] = bidb_view['text'].apply(lambda x: re.search(r'FROM\\s+(.*)', x, re.DOTALL | re.IGNORECASE).group(0))\n",
    "bidb_view['source'] = bidb_view['source'].apply(lambda x: x.split('UNION')[0].strip())\n",
    "bidb_view['source'] = bidb_view['source'].apply(lambda x:re.sub(r'--.*?(\\s+|$)', '', x)) \n"
   ]
  },
  {
   "cell_type": "code",
   "execution_count": 97,
   "metadata": {},
   "outputs": [
    {
     "data": {
      "text/html": [
       "<div>\n",
       "<style scoped>\n",
       "    .dataframe tbody tr th:only-of-type {\n",
       "        vertical-align: middle;\n",
       "    }\n",
       "\n",
       "    .dataframe tbody tr th {\n",
       "        vertical-align: top;\n",
       "    }\n",
       "\n",
       "    .dataframe thead th {\n",
       "        text-align: right;\n",
       "    }\n",
       "</style>\n",
       "<table border=\"1\" class=\"dataframe\">\n",
       "  <thead>\n",
       "    <tr style=\"text-align: right;\">\n",
       "      <th></th>\n",
       "      <th>view_name</th>\n",
       "      <th>text</th>\n",
       "      <th>source</th>\n",
       "    </tr>\n",
       "  </thead>\n",
       "  <tbody>\n",
       "    <tr>\n",
       "      <th>0</th>\n",
       "      <td>C$_0W_YFY_AV_TW_R</td>\n",
       "      <td>select \"C1_ROW_ID\",\"C2_ORG_ID\",\"C3_REF_AV_HEAD...</td>\n",
       "      <td>from (    select   W_YFY_AV_TW_R.ROW_ID C1_ROW...</td>\n",
       "    </tr>\n",
       "    <tr>\n",
       "      <th>1</th>\n",
       "      <td>C$_0W_YFY_IND_FIN_INFO_FS</td>\n",
       "      <td>select   FIN_INFO.SEQ    C1_SEQ,  FIN_INFO.ACC...</td>\n",
       "      <td>from ODS.TC$_0W_YFY_IND_FIN_INFO_FS  FIN_INFO</td>\n",
       "    </tr>\n",
       "    <tr>\n",
       "      <th>2</th>\n",
       "      <td>OP_FACT_CHP_INVENTORY_ETH_PULP</td>\n",
       "      <td>SELECT PERIOD_NAME,STOCK_DATE TDATE,ORG_CODE,'...</td>\n",
       "      <td>FROM W_FACTORY_INV_BALANCE_F</td>\n",
       "    </tr>\n",
       "    <tr>\n",
       "      <th>3</th>\n",
       "      <td>OP_FACT_CHP_INVENTORY_REDEFINE</td>\n",
       "      <td>SELECT PERIOD_NAME,TDATE,ORG_CODE   ,CASE ORG_...</td>\n",
       "      <td>FROM (   SELECT F.PERIOD_NAME,F.BALANCE_DATE T...</td>\n",
       "    </tr>\n",
       "    <tr>\n",
       "      <th>4</th>\n",
       "      <td>OP_FACT_CHP_SALES_DETAILS</td>\n",
       "      <td>SELECT      '當月受訂' TYPE,     --GREATEST(F.REQU...</td>\n",
       "      <td>from W_CHP_SALES_NOMANUAL_F F     ,W_CHP_ORDER...</td>\n",
       "    </tr>\n",
       "  </tbody>\n",
       "</table>\n",
       "</div>"
      ],
      "text/plain": [
       "                        view_name  \\\n",
       "0               C$_0W_YFY_AV_TW_R   \n",
       "1       C$_0W_YFY_IND_FIN_INFO_FS   \n",
       "2  OP_FACT_CHP_INVENTORY_ETH_PULP   \n",
       "3  OP_FACT_CHP_INVENTORY_REDEFINE   \n",
       "4       OP_FACT_CHP_SALES_DETAILS   \n",
       "\n",
       "                                                text  \\\n",
       "0  select \"C1_ROW_ID\",\"C2_ORG_ID\",\"C3_REF_AV_HEAD...   \n",
       "1  select   FIN_INFO.SEQ    C1_SEQ,  FIN_INFO.ACC...   \n",
       "2  SELECT PERIOD_NAME,STOCK_DATE TDATE,ORG_CODE,'...   \n",
       "3  SELECT PERIOD_NAME,TDATE,ORG_CODE   ,CASE ORG_...   \n",
       "4  SELECT      '當月受訂' TYPE,     --GREATEST(F.REQU...   \n",
       "\n",
       "                                              source  \n",
       "0  from (    select   W_YFY_AV_TW_R.ROW_ID C1_ROW...  \n",
       "1      from ODS.TC$_0W_YFY_IND_FIN_INFO_FS  FIN_INFO  \n",
       "2                       FROM W_FACTORY_INV_BALANCE_F  \n",
       "3  FROM (   SELECT F.PERIOD_NAME,F.BALANCE_DATE T...  \n",
       "4  from W_CHP_SALES_NOMANUAL_F F     ,W_CHP_ORDER...  "
      ]
     },
     "execution_count": 97,
     "metadata": {},
     "output_type": "execute_result"
    }
   ],
   "source": [
    "bidb_view"
   ]
  },
  {
   "cell_type": "code",
   "execution_count": 115,
   "metadata": {},
   "outputs": [
    {
     "name": "stdout",
     "output_type": "stream",
     "text": [
      "from (    select   W_YFY_AV_TW_R.ROW_ID C1_ROW_ID,  W_YFY_AV_TW_R.ORG_ID C2_ORG_ID,  W_YFY_AV_TW_R.REF_AV_HEADER_ID C3_REF_AV_HEADER_ID,  W_YFY_AV_TW_R.ORDER_AV C4_ORDER_AV,  W_YFY_AV_TW_R.UPDATE_DT C5_UPDATE_DT,  W_YFY_AV_TW_R.CREATION_DT C6_CREATION_DT,  W_YFY_AV_TW_R.DATASOURCE_NUM_ID C7_DATASOURCE_NUM_ID,  W_YFY_AV_TW_R.MODEL_ITEM C8_MODEL_ITEM,  W_YFY_AV_TW_R.ORDER_TRANSPORT_FEE C9_ORDER_TRANSPORT_FEE,  W_YFY_AV_TW_R.PRICECLASS_COST C10_PRICECLASS_COST from ODS.W_YFY_AV_TW_R   W_YFY_AV_TW_R where (1=1)        )\n",
      "from ODS.TC$_0W_YFY_IND_FIN_INFO_FS  FIN_INFO\n",
      "FROM W_FACTORY_INV_BALANCE_F\n",
      "FROM (   SELECT F.PERIOD_NAME,F.BALANCE_DATE TDATE   ,NVL(R.ORG_CODE_NEW,O.ORG_CODE) ORG_CODE   ORG_CODE_Original   ,F.INVENTORY_ITEM_ID   ITEM_NO   ,'MT' UOM,F.END_QTY / 1000 AS QTY   FROM W_YFY_INV_BALANCE_F F       ,w_chp_item_d I       ,W_YFY_ORG_D O       ,W_CHP_TS_BELONG_ORG_R R   WHERE 1=1     AND F.ORGANIZATION_ID IN (290,291,305,286,287,288,289)     AND F.ORGANIZATION_ID = I.ORGANIZATION_ID AND F.INVENTORY_ITEM_ID = I.INVENTORY_ITEM_ID     AND F.ORGANIZATION_ID = O.ORG_ID     AND I.ITEM_NUMBER LIKE '4%' AND I.CATEGORY_CODE='FG' AND F.UOM='KG'     AND I.ITEM_DESC_TCH <> '漿塑盤'     AND NOT(F.SUB_INVENTORY  IN ('RM','MTL','SFG','SFGW','FG-PP','FG-PP1')           OR F.SUB_INVENTORY LIKE '%FGS%' )       AND R.ORG_CODE(+) = O.ORG_CODE AND R.SUBINVENTORY_CODE(+) = F.SUB_INVENTORY            AND F.PERIOD_NAME >= '2023/01'\n",
      "from W_CHP_SALES_NOMANUAL_F F     ,W_CHP_ORDER_TYPE_D O     ,W_CHP_PAPER_SALES_ORNT_R R     ,W_CHP_PAPER_STAT_GROUP_R G     ,W_YFY_ORG_D ORG     ,(SELECT DISTINCT PAPER_STAT_GROUP_SALES,PAPER_STAT_CATEGORY_SALES FROM W_CHP_PAPER_STAT_GROUP_R) CG where 1=1    and f.order_type = O.order_type and f.line_order_type = O.order_line_type   and O.USED = '損益'   and F.ORDER_LINE_STATUS = 'AWAITING_SHIPPING'   and GREATEST(F.REQUEST_DATE,F.SCHEDULE_SHIP_DATE) >= trunc(ADD_MONTHS(sysdate,-2),'mm')   AND F.PAPER_STAT_GROUP_SALES = R.PAPER_STAT_GROUP_SALES(+)   AND F.paper_stat_element = G.paper_stat_element(+)   AND F.om_customer_no <> 'S0001'   AND (F.om_customer_no NOT LIKE 'Z%' OR F.om_customer_no='Z5170')   AND F.ORG_CODE = ORG.ORG_CODE   AND F.PAPER_STAT_GROUP_SALES = CG.PAPER_STAT_GROUP_SALES(+) /*上月等候出貨資料*/\n"
     ]
    }
   ],
   "source": [
    "for row in bidb_view.itertuples():\n",
    "    print(row.source)"
   ]
  }
 ],
 "metadata": {
  "kernelspec": {
   "display_name": "bibot",
   "language": "python",
   "name": "python3"
  },
  "language_info": {
   "codemirror_mode": {
    "name": "ipython",
    "version": 3
   },
   "file_extension": ".py",
   "mimetype": "text/x-python",
   "name": "python",
   "nbconvert_exporter": "python",
   "pygments_lexer": "ipython3",
   "version": "3.10.14"
  }
 },
 "nbformat": 4,
 "nbformat_minor": 2
}
