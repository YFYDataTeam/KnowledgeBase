{
 "cells": [
  {
   "cell_type": "code",
   "execution_count": 5,
   "metadata": {},
   "outputs": [],
   "source": [
    "from utils import read_config, OracleAgent, MySQLAgent\n",
    "import re\n",
    "import pandas as pd\n",
    "import os\n",
    "from py2neo import Graph, Node, Relationship\n",
    "from langchain.prompts import PromptTemplate\n",
    "from langchain_openai.chat_models import ChatOpenAI\n",
    "from langchain.prompts.chat import (\n",
    "    ChatPromptTemplate,\n",
    "    SystemMessagePromptTemplate,\n",
    "    HumanMessagePromptTemplate\n",
    ")\n",
    "\n",
    "from langchain.chat_models  import AzureChatOpenAI\n",
    "\n",
    "import google.generativeai as genai\n",
    "from langchain_google_genai import (\n",
    "    ChatGoogleGenerativeAI,\n",
    "    HarmBlockThreshold,\n",
    "    HarmCategory,\n",
    ")\n",
    "\n",
    "import prompts\n",
    "import ast"
   ]
  },
  {
   "cell_type": "code",
   "execution_count": 2,
   "metadata": {},
   "outputs": [],
   "source": [
    "from utils import read_config, OracleAgent, MySQLAgent\n",
    "import os\n",
    "configs = read_config(\".env/info.json\")\n",
    "\n",
    "os.environ[\"GOOGLE_API_KEY\"] = configs['gkey']\n",
    "\n",
    "O_KEY = configs['okey']\n",
    "os.environ[\"OPENAI_API_KEY\"] = O_KEY\n",
    "DWDB = configs['DW_conn_info']\n",
    "dw_agent = OracleAgent(DWDB)"
   ]
  },
  {
   "cell_type": "code",
   "execution_count": 3,
   "metadata": {},
   "outputs": [],
   "source": [
    "mysql_configs = configs[\"Crawler_mysql_conn_info_BIData\"]\n",
    "mysql_agent = MySQLAgent(mysql_configs)\n",
    "\n",
    "aoai_configs = configs['AOAI']"
   ]
  },
  {
   "cell_type": "code",
   "execution_count": 4,
   "metadata": {},
   "outputs": [
    {
     "name": "stderr",
     "output_type": "stream",
     "text": [
      "c:\\Users\\sean.chang\\AppData\\Local\\anaconda3\\envs\\bibot\\lib\\site-packages\\langchain_core\\_api\\deprecation.py:141: LangChainDeprecationWarning: The class `AzureChatOpenAI` was deprecated in LangChain 0.0.10 and will be removed in 0.3.0. An updated version of the class exists in the langchain-openai package and should be used instead. To use it run `pip install -U langchain-openai` and import as `from langchain_openai import AzureChatOpenAI`.\n",
      "  warn_deprecated(\n"
     ]
    }
   ],
   "source": [
    "OPENAI_API_BASE = aoai_configs['OPENAI_API_BASE']\n",
    "OPEN_AI_VERSION = aoai_configs['OPEN_AI_VERSION']\n",
    "GPT_DEPLOYMENT_NAME = aoai_configs['GPT_DEPLOYMENT_NAME']\n",
    "OPENAI_API_KEY = aoai_configs['OPENAI_API_KEY']\n",
    "OPENAI_API_TYPE = aoai_configs['OPENAI_API_TYPE']\n",
    "\n",
    "llm = AzureChatOpenAI(\n",
    "    azure_endpoint=OPENAI_API_BASE,\n",
    "    openai_api_version=OPEN_AI_VERSION,\n",
    "    azure_deployment=GPT_DEPLOYMENT_NAME,\n",
    "    openai_api_key=OPENAI_API_KEY,\n",
    "    openai_api_type=\"azure\",\n",
    ")\n",
    "\n",
    "# llm = ChatOpenAI(model='gpt-4o-mini', openai_api_key = O_KEY)"
   ]
  },
  {
   "cell_type": "markdown",
   "metadata": {},
   "source": [
    "#### add one complicated case"
   ]
  },
  {
   "cell_type": "code",
   "execution_count": 5,
   "metadata": {},
   "outputs": [],
   "source": [
    "# rela = \"\"\"\n",
    "# Datasource = [\n",
    "#     'apps.mtl_material_transactions',\n",
    "#     'apps.oe_order_headers_all',\n",
    "#     'apps.mtl_transaction_types',\n",
    "#     'org_organization_definitions',\n",
    "#     'apps.oe_order_lines_all',\n",
    "#     'apps.oe_transaction_types_tl',\n",
    "#     'apps.mtl_system_items_b',\n",
    "#     'apps.mtl_item_categories_v',\n",
    "#     'apps.ar_customers_all_v',\n",
    "#     'xxom_quote_margin',\n",
    "#     'xxinv_items_upload_t1',\n",
    "#     'apps.ra_customer_trx_all',\n",
    "#     'apps.ra_customer_trx_lines_all',\n",
    "#     'apps.ra_cust_trx_types_all',\n",
    "#     'apps.hz_cust_accounts',\n",
    "#     'xxtcpq_pcg_avcost',\n",
    "#     'hr_operating_units'\n",
    "# ]\\n\\n\n",
    "# Relationship = [\n",
    "#     (JOIN: apps.oe_order_headers_all.header_id = apps.oe_order_lines_all.header_id),\n",
    "#     (JOIN: apps.mtl_material_transactions.source_line_id = apps.oe_order_lines_all.line_id),\n",
    "#     (JOIN: apps.mtl_material_transactions.transaction_type_id = apps.mtl_transaction_types.transaction_type_id),\n",
    "#     (JOIN: org_organization_definitions.organization_id = apps.oe_order_headers_all.org_id),\n",
    "#     (JOIN: org_organization_definitions.organization_id = apps.mtl_system_items_b.organization_id),\n",
    "#     (JOIN: apps.mtl_system_items_b.inventory_item_id = apps.oe_order_lines_all.inventory_item_id),\n",
    "#     (JOIN: apps.mtl_system_items_b.inventory_item_id = apps.mtl_item_categories_v.inventory_item_id),\n",
    "#     (JOIN: apps.mtl_item_categories_v.organization_id = org_organization_definitions.organization_id),\n",
    "#     (JOIN: apps.ar_customers_all_v.customer_id = apps.oe_order_headers_all.sold_to_org_id),\n",
    "#     (JOIN: apps.hz_cust_accounts.cust_account_id = apps.ar_customers_all_v.customer_id),\n",
    "#     (JOIN: apps.ra_customer_trx_lines_all.customer_trx_id = apps.ra_customer_trx_all.customer_trx_id),\n",
    "#     (JOIN: apps.ra_customer_trx_lines_all.inventory_item_id = apps.mtl_system_items_b.inventory_item_id),\n",
    "#     (JOIN: apps.ra_cust_trx_types_all.cust_trx_type_id = apps.ra_customer_trx_lines_all.cust_trx_type_id),\n",
    "#     (JOIN: apps.ra_cust_trx_types_all.org_id = org_organization_definitions.operating_unit),\n",
    "#     (JOIN: xxtcpq_pcg_avcost.ebs_so_header_id = apps.oe_order_headers_all.header_id),\n",
    "#     (JOIN: xxom_quote_margin.quote_number = apps.oe_order_headers_all.order_number),\n",
    "#     (JOIN: xxinv_items_upload_t1.segment1 = apps.mtl_system_items_b.segment1),\n",
    "#     (Filter: apps.mtl_item_categories_v.category_set_name = 'YFY Inventory'),\n",
    "#     (Filter: apps.mtl_item_categories_v.enabled_flag = 'Y'),\n",
    "#     (Filter: apps.oe_transaction_types_tl.LANGUAGE = 'US'),\n",
    "#     (Filter: org_organization_definitions.organization_code NOT IN ('AEG')),\n",
    "#     (Filter: apps.oe_order_lines_all.item_type_code <> 'MODEL'),\n",
    "#     (Filter: apps.oe_order_lines_all.flow_status_code = 'CLOSED'),\n",
    "#     (Filter: apps.mtl_material_transactions.subinventory_code = 'STAGE')\n",
    "# ]\n",
    "\n",
    "# \"\"\"\n"
   ]
  },
  {
   "cell_type": "code",
   "execution_count": 6,
   "metadata": {},
   "outputs": [],
   "source": [
    "# view_lineage.at[2, 'view_name'] = 'XXBI_SALES_DETAILS_PCG_TW'\n",
    "# view_lineage.at[2, 'text'] = text_sql\n",
    "# view_lineage.at[2, 'lineage'] = rela\n"
   ]
  },
  {
   "cell_type": "code",
   "execution_count": 7,
   "metadata": {},
   "outputs": [],
   "source": [
    "# mysql_agent.write_table(data=view_lineage, table_name='data_lineage', if_exists='replace', data_type=None, index=None)"
   ]
  },
  {
   "cell_type": "markdown",
   "metadata": {},
   "source": [
    "## BIDB"
   ]
  },
  {
   "cell_type": "code",
   "execution_count": 8,
   "metadata": {},
   "outputs": [],
   "source": [
    "BIDB = configs['BIDB_conn_info']\n",
    "bidb_agent = OracleAgent(BIDB)"
   ]
  },
  {
   "cell_type": "code",
   "execution_count": 9,
   "metadata": {},
   "outputs": [],
   "source": [
    "query = \"\"\"\n",
    "SELECT view_name, text FROM ALL_Views\n",
    "where owner = 'ODS' AND rownum <= 5\n",
    "\"\"\"\n",
    "\n",
    "bidb_view = bidb_agent.read_table(query=query)"
   ]
  },
  {
   "cell_type": "code",
   "execution_count": 42,
   "metadata": {},
   "outputs": [],
   "source": [
    "bidb_view['text'] = bidb_view['text'].str.replace('\\n', ' ')\n",
    "bidb_view['text'] = bidb_view['text'].str.replace('\\t', ' ')\n",
    "bidb_view['source'] = bidb_view['text'].apply(lambda x: re.search(r'FROM\\s+(.*)', x, re.DOTALL | re.IGNORECASE).group(0))\n",
    "# bidb_view['source'] = bidb_view['source'].apply(lambda x: x.split('UNION' if 'UNION' in x else 'union')[0].strip())\n",
    "bidb_view['source'] = bidb_view['source'].apply(lambda x:re.sub(r'--.*?(\\s+|$)', '', x)) \n",
    "bidb_view['source'] = bidb_view['source'].apply(lambda x:re.sub(r'1=1.*?(\\s+|$)', '', x)) \n",
    "bidb_view['lineage'] = ''"
   ]
  },
  {
   "cell_type": "code",
   "execution_count": 44,
   "metadata": {},
   "outputs": [
    {
     "data": {
      "text/html": [
       "<div>\n",
       "<style scoped>\n",
       "    .dataframe tbody tr th:only-of-type {\n",
       "        vertical-align: middle;\n",
       "    }\n",
       "\n",
       "    .dataframe tbody tr th {\n",
       "        vertical-align: top;\n",
       "    }\n",
       "\n",
       "    .dataframe thead th {\n",
       "        text-align: right;\n",
       "    }\n",
       "</style>\n",
       "<table border=\"1\" class=\"dataframe\">\n",
       "  <thead>\n",
       "    <tr style=\"text-align: right;\">\n",
       "      <th></th>\n",
       "      <th>view_name</th>\n",
       "      <th>text</th>\n",
       "      <th>source</th>\n",
       "      <th>lineage</th>\n",
       "    </tr>\n",
       "  </thead>\n",
       "  <tbody>\n",
       "    <tr>\n",
       "      <th>0</th>\n",
       "      <td>C$_0W_YFY_AV_TW_R</td>\n",
       "      <td>select \"C1_ROW_ID\",\"C2_ORG_ID\",\"C3_REF_AV_HEAD...</td>\n",
       "      <td>from (    select   W_YFY_AV_TW_R.ROW_ID C1_ROW...</td>\n",
       "      <td></td>\n",
       "    </tr>\n",
       "    <tr>\n",
       "      <th>1</th>\n",
       "      <td>C$_0W_YFY_IND_FIN_INFO_FS</td>\n",
       "      <td>select   FIN_INFO.SEQ    C1_SEQ,  FIN_INFO.ACC...</td>\n",
       "      <td>from ODS.TC$_0W_YFY_IND_FIN_INFO_FS  FIN_INFO</td>\n",
       "      <td></td>\n",
       "    </tr>\n",
       "    <tr>\n",
       "      <th>2</th>\n",
       "      <td>OP_FACT_CHP_INVENTORY_ETH_PULP</td>\n",
       "      <td>SELECT PERIOD_NAME,STOCK_DATE TDATE,ORG_CODE,'...</td>\n",
       "      <td>FROM W_FACTORY_INV_BALANCE_F UNION ALL SELECT ...</td>\n",
       "      <td></td>\n",
       "    </tr>\n",
       "    <tr>\n",
       "      <th>3</th>\n",
       "      <td>OP_FACT_CHP_INVENTORY_REDEFINE</td>\n",
       "      <td>SELECT PERIOD_NAME,TDATE,ORG_CODE   ,CASE ORG_...</td>\n",
       "      <td>FROM (   SELECT F.PERIOD_NAME,F.BALANCE_DATE T...</td>\n",
       "      <td></td>\n",
       "    </tr>\n",
       "    <tr>\n",
       "      <th>4</th>\n",
       "      <td>OP_FACT_CHP_SALES_DETAILS</td>\n",
       "      <td>SELECT      '當月受訂' TYPE,     --GREATEST(F.REQU...</td>\n",
       "      <td>from W_CHP_SALES_NOMANUAL_F F     ,W_CHP_ORDER...</td>\n",
       "      <td></td>\n",
       "    </tr>\n",
       "  </tbody>\n",
       "</table>\n",
       "</div>"
      ],
      "text/plain": [
       "                        view_name  \\\n",
       "0               C$_0W_YFY_AV_TW_R   \n",
       "1       C$_0W_YFY_IND_FIN_INFO_FS   \n",
       "2  OP_FACT_CHP_INVENTORY_ETH_PULP   \n",
       "3  OP_FACT_CHP_INVENTORY_REDEFINE   \n",
       "4       OP_FACT_CHP_SALES_DETAILS   \n",
       "\n",
       "                                                text  \\\n",
       "0  select \"C1_ROW_ID\",\"C2_ORG_ID\",\"C3_REF_AV_HEAD...   \n",
       "1  select   FIN_INFO.SEQ    C1_SEQ,  FIN_INFO.ACC...   \n",
       "2  SELECT PERIOD_NAME,STOCK_DATE TDATE,ORG_CODE,'...   \n",
       "3  SELECT PERIOD_NAME,TDATE,ORG_CODE   ,CASE ORG_...   \n",
       "4  SELECT      '當月受訂' TYPE,     --GREATEST(F.REQU...   \n",
       "\n",
       "                                              source lineage  \n",
       "0  from (    select   W_YFY_AV_TW_R.ROW_ID C1_ROW...          \n",
       "1     from ODS.TC$_0W_YFY_IND_FIN_INFO_FS  FIN_INFO           \n",
       "2  FROM W_FACTORY_INV_BALANCE_F UNION ALL SELECT ...          \n",
       "3  FROM (   SELECT F.PERIOD_NAME,F.BALANCE_DATE T...          \n",
       "4  from W_CHP_SALES_NOMANUAL_F F     ,W_CHP_ORDER...          "
      ]
     },
     "execution_count": 44,
     "metadata": {},
     "output_type": "execute_result"
    }
   ],
   "source": [
    "bidb_view"
   ]
  },
  {
   "cell_type": "code",
   "execution_count": 45,
   "metadata": {},
   "outputs": [],
   "source": [
    "system_template = prompts.SYSTEM_PROMPT\n",
    "messages = [\n",
    "    SystemMessagePromptTemplate.from_template(system_template),\n",
    "    HumanMessagePromptTemplate.from_template(\"{table_name}, {datasource}\")\n",
    "]\n",
    "\n",
    "CHAT_PROMPT = ChatPromptTemplate.from_messages(messages)"
   ]
  },
  {
   "cell_type": "code",
   "execution_count": 46,
   "metadata": {},
   "outputs": [],
   "source": [
    "chain = CHAT_PROMPT | llm\n",
    "for idx, row in bidb_view.iterrows():\n",
    "    input_data = {\n",
    "        'table_name': row.view_name,\n",
    "        'datasource': row.source\n",
    "    }\n",
    "    llm_response = chain.invoke(input_data)\n",
    "\n",
    "    bidb_view.at[idx, 'lineage'] = llm_response.content"
   ]
  },
  {
   "cell_type": "code",
   "execution_count": 47,
   "metadata": {},
   "outputs": [
    {
     "data": {
      "text/html": [
       "<div>\n",
       "<style scoped>\n",
       "    .dataframe tbody tr th:only-of-type {\n",
       "        vertical-align: middle;\n",
       "    }\n",
       "\n",
       "    .dataframe tbody tr th {\n",
       "        vertical-align: top;\n",
       "    }\n",
       "\n",
       "    .dataframe thead th {\n",
       "        text-align: right;\n",
       "    }\n",
       "</style>\n",
       "<table border=\"1\" class=\"dataframe\">\n",
       "  <thead>\n",
       "    <tr style=\"text-align: right;\">\n",
       "      <th></th>\n",
       "      <th>view_name</th>\n",
       "      <th>text</th>\n",
       "      <th>source</th>\n",
       "      <th>lineage</th>\n",
       "    </tr>\n",
       "  </thead>\n",
       "  <tbody>\n",
       "    <tr>\n",
       "      <th>0</th>\n",
       "      <td>C$_0W_YFY_AV_TW_R</td>\n",
       "      <td>select \"C1_ROW_ID\",\"C2_ORG_ID\",\"C3_REF_AV_HEAD...</td>\n",
       "      <td>from (    select   W_YFY_AV_TW_R.ROW_ID C1_ROW...</td>\n",
       "      <td>Datasource = ['ODS.W_YFY_AV_TW_R']\\n\\nRelation...</td>\n",
       "    </tr>\n",
       "    <tr>\n",
       "      <th>1</th>\n",
       "      <td>C$_0W_YFY_IND_FIN_INFO_FS</td>\n",
       "      <td>select   FIN_INFO.SEQ    C1_SEQ,  FIN_INFO.ACC...</td>\n",
       "      <td>from ODS.TC$_0W_YFY_IND_FIN_INFO_FS  FIN_INFO</td>\n",
       "      <td>Datasource = ['ODS.TC$_0W_YFY_IND_FIN_INFO_FS'...</td>\n",
       "    </tr>\n",
       "    <tr>\n",
       "      <th>2</th>\n",
       "      <td>OP_FACT_CHP_INVENTORY_ETH_PULP</td>\n",
       "      <td>SELECT PERIOD_NAME,STOCK_DATE TDATE,ORG_CODE,'...</td>\n",
       "      <td>FROM W_FACTORY_INV_BALANCE_F UNION ALL SELECT ...</td>\n",
       "      <td>Datasource = ['W_FACTORY_INV_BALANCE_F', 'W_FA...</td>\n",
       "    </tr>\n",
       "    <tr>\n",
       "      <th>3</th>\n",
       "      <td>OP_FACT_CHP_INVENTORY_REDEFINE</td>\n",
       "      <td>SELECT PERIOD_NAME,TDATE,ORG_CODE   ,CASE ORG_...</td>\n",
       "      <td>FROM (   SELECT F.PERIOD_NAME,F.BALANCE_DATE T...</td>\n",
       "      <td>Datasource = ['W_YFY_INV_BALANCE_F', 'w_chp_it...</td>\n",
       "    </tr>\n",
       "    <tr>\n",
       "      <th>4</th>\n",
       "      <td>OP_FACT_CHP_SALES_DETAILS</td>\n",
       "      <td>SELECT      '當月受訂' TYPE,     --GREATEST(F.REQU...</td>\n",
       "      <td>from W_CHP_SALES_NOMANUAL_F F     ,W_CHP_ORDER...</td>\n",
       "      <td>Datasource = ['W_CHP_SALES_NOMANUAL_F', 'W_CHP...</td>\n",
       "    </tr>\n",
       "  </tbody>\n",
       "</table>\n",
       "</div>"
      ],
      "text/plain": [
       "                        view_name  \\\n",
       "0               C$_0W_YFY_AV_TW_R   \n",
       "1       C$_0W_YFY_IND_FIN_INFO_FS   \n",
       "2  OP_FACT_CHP_INVENTORY_ETH_PULP   \n",
       "3  OP_FACT_CHP_INVENTORY_REDEFINE   \n",
       "4       OP_FACT_CHP_SALES_DETAILS   \n",
       "\n",
       "                                                text  \\\n",
       "0  select \"C1_ROW_ID\",\"C2_ORG_ID\",\"C3_REF_AV_HEAD...   \n",
       "1  select   FIN_INFO.SEQ    C1_SEQ,  FIN_INFO.ACC...   \n",
       "2  SELECT PERIOD_NAME,STOCK_DATE TDATE,ORG_CODE,'...   \n",
       "3  SELECT PERIOD_NAME,TDATE,ORG_CODE   ,CASE ORG_...   \n",
       "4  SELECT      '當月受訂' TYPE,     --GREATEST(F.REQU...   \n",
       "\n",
       "                                              source  \\\n",
       "0  from (    select   W_YFY_AV_TW_R.ROW_ID C1_ROW...   \n",
       "1     from ODS.TC$_0W_YFY_IND_FIN_INFO_FS  FIN_INFO    \n",
       "2  FROM W_FACTORY_INV_BALANCE_F UNION ALL SELECT ...   \n",
       "3  FROM (   SELECT F.PERIOD_NAME,F.BALANCE_DATE T...   \n",
       "4  from W_CHP_SALES_NOMANUAL_F F     ,W_CHP_ORDER...   \n",
       "\n",
       "                                             lineage  \n",
       "0  Datasource = ['ODS.W_YFY_AV_TW_R']\\n\\nRelation...  \n",
       "1  Datasource = ['ODS.TC$_0W_YFY_IND_FIN_INFO_FS'...  \n",
       "2  Datasource = ['W_FACTORY_INV_BALANCE_F', 'W_FA...  \n",
       "3  Datasource = ['W_YFY_INV_BALANCE_F', 'w_chp_it...  \n",
       "4  Datasource = ['W_CHP_SALES_NOMANUAL_F', 'W_CHP...  "
      ]
     },
     "execution_count": 47,
     "metadata": {},
     "output_type": "execute_result"
    }
   ],
   "source": [
    "bidb_view"
   ]
  },
  {
   "cell_type": "code",
   "execution_count": 49,
   "metadata": {},
   "outputs": [
    {
     "data": {
      "text/plain": [
       "\"Datasource = ['ODS.TC$_0W_YFY_IND_FIN_INFO_FS']\\n\\nRelationship = []\""
      ]
     },
     "execution_count": 49,
     "metadata": {},
     "output_type": "execute_result"
    }
   ],
   "source": [
    "bidb_view.iloc[1].lineage"
   ]
  },
  {
   "cell_type": "code",
   "execution_count": null,
   "metadata": {},
   "outputs": [],
   "source": []
  },
  {
   "cell_type": "code",
   "execution_count": 50,
   "metadata": {},
   "outputs": [],
   "source": [
    "# def lineage_check(df):\n",
    "#     for i, row in df[3:].iterrows():\n",
    "#         print(f\"#####{row.view_name}\\n\")\n",
    "#         print(row. source)\n",
    "\n",
    "#         print(row.lineage)\n",
    "\n",
    "#         print(\"#####\\n\")\n",
    "\n",
    "# lineage_check(bidb_view[bidb_view['view_name'] == 'OP_FACT_CHP_INVENTORY_REDEFINE'].text)"
   ]
  },
  {
   "cell_type": "code",
   "execution_count": 51,
   "metadata": {},
   "outputs": [],
   "source": [
    "def extract_lists(input_string):\n",
    "    # Initialize dictionary to hold the lists\n",
    "    extracted_data = {}\n",
    "    \n",
    "    # Use regex to find the Datasource part\n",
    "    datasource_match = re.search(r\"Datasource\\s*=\\s*(\\[.*?\\])\", input_string, re.DOTALL)\n",
    "    if datasource_match:\n",
    "        datasource_section = datasource_match.group(1).strip()\n",
    "        extracted_data[\"Datasource\"] = ast.literal_eval(datasource_section)\n",
    "    \n",
    "    # Use regex to find the Relationship part\n",
    "    relationship_match = re.search(r\"Relationship\\s*=\\s*(\\[.*?\\])\", input_string, re.DOTALL)\n",
    "    if relationship_match:\n",
    "        relationship_section = relationship_match.group(1).strip()\n",
    "        # Split the relationship section into individual items\n",
    "        relationship_list = re.findall(r'\\((.*?)\\)', relationship_section, re.DOTALL)\n",
    "        \n",
    "        # Process each item in the relationship list\n",
    "        processed_list = []\n",
    "        for item in relationship_list:\n",
    "            # Replace any variation of \"FILTER\" with \"Filter\"\n",
    "            item = re.sub(r'^FILTER\\s*:?', 'Filter:', item, flags=re.IGNORECASE)\n",
    "            # Remove any newline characters and extra spaces\n",
    "            item = re.sub(r'\\s+', ' ', item.strip())\n",
    "            processed_list.append(item)\n",
    "        \n",
    "        extracted_data[\"Relationship\"] = processed_list\n",
    "\n",
    "    return extracted_data"
   ]
  },
  {
   "cell_type": "code",
   "execution_count": 53,
   "metadata": {},
   "outputs": [
    {
     "data": {
      "text/plain": [
       "view_name                            C$_0W_YFY_IND_FIN_INFO_FS\n",
       "text         select   FIN_INFO.SEQ    C1_SEQ,  FIN_INFO.ACC...\n",
       "source          from ODS.TC$_0W_YFY_IND_FIN_INFO_FS  FIN_INFO \n",
       "lineage      Datasource = ['ODS.TC$_0W_YFY_IND_FIN_INFO_FS'...\n",
       "Name: 1, dtype: object"
      ]
     },
     "execution_count": 53,
     "metadata": {},
     "output_type": "execute_result"
    }
   ],
   "source": [
    "bidb_view.iloc[1]"
   ]
  },
  {
   "cell_type": "code",
   "execution_count": 54,
   "metadata": {},
   "outputs": [
    {
     "name": "stdout",
     "output_type": "stream",
     "text": [
      "[]\n",
      "[]\n",
      "[]\n",
      "['Filter: W_YFY_INV_BALANCE_F.ORGANIZATION_ID IN (290,291,305,286,287,288,289', 'JOIN: W_YFY_INV_BALANCE_F.ORGANIZATION_ID = w_chp_item_d.ORGANIZATION_ID', 'JOIN: W_YFY_INV_BALANCE_F.INVENTORY_ITEM_ID = w_chp_item_d.INVENTORY_ITEM_ID', 'JOIN: W_YFY_INV_BALANCE_F.ORGANIZATION_ID = W_YFY_ORG_D.ORG_ID', \"Filter: w_chp_item_d.ITEM_NUMBER LIKE '4%'\", \"Filter: w_chp_item_d.CATEGORY_CODE = 'FG'\", \"Filter: W_YFY_INV_BALANCE_F.UOM = 'KG'\", \"Filter: w_chp_item_d.ITEM_DESC_TCH <> '漿塑盤'\", \"Filter: NOT(W_YFY_INV_BALANCE_F.SUB_INVENTORY IN ('RM','MTL','SFG','SFGW','FG-PP','FG-PP1'\", 'JOIN: W_CHP_TS_BELONG_ORG_R.ORG_CODE(+', 'JOIN: W_CHP_TS_BELONG_ORG_R.SUBINVENTORY_CODE(+', \"Filter: W_YFY_INV_BALANCE_F.PERIOD_NAME >= '2023/01'\", 'UNION ALL', \"Filter: W_YFY_INV_BALANCE_F.PERIOD_NAME = TO_CHAR(add_months(trunc(CURRENT_DATE,'mm'\", \"Filter: TO_CHAR(CURRENT_DATE,'dd'\", 'UNION ALL', 'Filter: W_CHP_MMT_F.ORGANIZATION_ID IN (290,291,305,286,287,288,289', 'JOIN: W_CHP_MMT_F.ORGANIZATION_ID = w_chp_item_d.ORGANIZATION_ID', 'JOIN: W_CHP_MMT_F.INVENTORY_ITEM_ID = w_chp_item_d.INVENTORY_ITEM_ID', 'JOIN: W_CHP_MMT_F.ORGANIZATION_ID = W_YFY_ORG_D.ORG_ID', \"Filter: w_chp_item_d.ITEM_NUMBER LIKE '4%'\", \"Filter: w_chp_item_d.CATEGORY_CODE = 'FG'\", \"Filter: W_CHP_MMT_F.TRANSACTION_UOM = 'KG'\", \"Filter: w_chp_item_d.ITEM_DESC_TCH <> '漿塑盤'\", \"Filter: NOT(W_CHP_MMT_F.SUB_INVENTORY IN ('RM','MTL','SFG','SFGW','FG-PP','FG-PP1'\", 'JOIN: W_CHP_TS_BELONG_ORG_R.ORG_CODE(+', 'JOIN: W_CHP_TS_BELONG_ORG_R.SUBINVENTORY_CODE(+', \"Filter: W_CHP_MMT_F.PERIOD_NAME = TO_CHAR(CURRENT_DATE,'YYYY/MM'\", 'Filter: W_CHP_MMT_F.TRANSACTION_DATE < trunc(CURRENT_DATE']\n",
      "[\"Filter: W_CHP_ORDER_TYPE_D.USED = '損益'\", \"Filter: W_CHP_SALES_NOMANUAL_F.ORDER_LINE_STATUS = 'AWAITING_SHIPPING'\", 'Filter: GREATEST(W_CHP_SALES_NOMANUAL_F.REQUEST_DATE, W_CHP_SALES_NOMANUAL_F.SCHEDULE_SHIP_DATE', 'ADD_MONTHS(sysdate, -2', \"Filter: W_CHP_SALES_NOMANUAL_F.om_customer_no <> 'S0001'\", \"Filter: W_CHP_SALES_NOMANUAL_F.om_customer_no NOT LIKE 'Z%' OR W_CHP_SALES_NOMANUAL_F.om_customer_no = 'Z5170'\", \"Filter: W_CHP_SALES_NOMANUAL_F.ar_customer_no <> 'S0001'\", \"Filter: W_CHP_SALES_NOMANUAL_F.ar_customer_no NOT LIKE 'Z%' OR W_CHP_SALES_NOMANUAL_F.ar_customer_no = 'Z5170'\", 'Filter: W_CHP_SALES_NOMANUAL_F.TRX_DATE IS NOT NULL', 'JOIN: W_CHP_SALES_NOMANUAL_F.order_type = W_CHP_ORDER_TYPE_D.order_type', 'JOIN: W_CHP_SALES_NOMANUAL_F.line_order_type = W_CHP_ORDER_TYPE_D.order_line_type', 'JOIN: W_CHP_SALES_NOMANUAL_F.PAPER_STAT_GROUP_SALES = W_CHP_PAPER_SALES_ORNT_R.PAPER_STAT_GROUP_SALES(+', 'JOIN: W_CHP_SALES_NOMANUAL_F.paper_stat_element = W_CHP_PAPER_STAT_GROUP_R.paper_stat_element(+', 'JOIN: W_CHP_SALES_NOMANUAL_F.ORG_CODE = W_YFY_ORG_D.ORG_CODE', 'JOIN: W_CHP_SALES_NOMANUAL_F.PAPER_STAT_GROUP_SALES = (SELECT DISTINCT PAPER_STAT_GROUP_SALES FROM W_CHP_PAPER_STAT_GROUP_R', '+']\n"
     ]
    }
   ],
   "source": [
    "for idx, row in bidb_view.iterrows():\n",
    "    # print(row)\n",
    "    result = extract_lists(row.lineage)\n",
    "    # print(result)\n",
    "    datasource_list = result.get(\"Datasource\", [])\n",
    "    \n",
    "    relationship_list = result.get(\"Relationship\", [])\n",
    "    print(relationship_list)\n",
    "\n"
   ]
  },
  {
   "cell_type": "code",
   "execution_count": 55,
   "metadata": {},
   "outputs": [],
   "source": [
    "# print(bidb_view_raw.iloc[3].text)"
   ]
  },
  {
   "cell_type": "code",
   "execution_count": 56,
   "metadata": {},
   "outputs": [
    {
     "name": "stdout",
     "output_type": "stream",
     "text": [
      "FROM W_FACTORY_INV_BALANCE_F UNION ALL SELECT PERIOD_NAME,STOCK_DATE TDATE,ORG_CODE,'紙漿' STOCK_TYPE, 4 STOCK_TYPE_SORT   ,INVENTORY_ITEM_ID   ,UOM,QTY FROM W_FACTORY_INV_F INV     ,(select max(stock_date) tdate from W_FACTORY_INV_F where ORG_CODE='ETH' AND MEMO='花蓮自製漿' AND PERIOD_NAME = to_char(CURRENT_DATE,'yyyy/mm') ) MS WHERE and INV.STOCK_DATE = MS.TDATE   AND INV.ORG_CODE='ETH' AND INV.MEMO='花蓮自製漿'\n"
     ]
    }
   ],
   "source": [
    "print(bidb_view.iloc[2].source)"
   ]
  },
  {
   "cell_type": "code",
   "execution_count": 57,
   "metadata": {},
   "outputs": [
    {
     "name": "stdout",
     "output_type": "stream",
     "text": [
      "Datasource = ['W_FACTORY_INV_BALANCE_F', 'W_FACTORY_INV_F']\n",
      "\n",
      "[\n",
      "(Filter: W_FACTORY_INV_F.ORG_CODE = 'ETH'),\n",
      "(Filter: W_FACTORY_INV_F.MEMO = '花蓮自製漿'),\n",
      "(JOIN: W_FACTORY_INV_F.STOCK_DATE = (SELECT max(stock_date) FROM W_FACTORY_INV_F WHERE ORG_CODE='ETH' AND MEMO='花蓮自製漿' AND PERIOD_NAME = to_char(CURRENT_DATE, 'yyyy/mm')) MS.TDATE)\n",
      "]\n"
     ]
    }
   ],
   "source": [
    "print(bidb_view.iloc[2].lineage)"
   ]
  },
  {
   "cell_type": "code",
   "execution_count": 58,
   "metadata": {},
   "outputs": [
    {
     "name": "stdout",
     "output_type": "stream",
     "text": [
      "Datasource = ['W_YFY_INV_BALANCE_F', 'w_chp_item_d', 'W_YFY_ORG_D', 'W_CHP_TS_BELONG_ORG_R', 'W_CHP_MMT_F']\n",
      "\n",
      "Relationship = [\n",
      "    (Filter: W_YFY_INV_BALANCE_F.ORGANIZATION_ID IN (290,291,305,286,287,288,289)),\n",
      "    (JOIN: W_YFY_INV_BALANCE_F.ORGANIZATION_ID = w_chp_item_d.ORGANIZATION_ID),\n",
      "    (JOIN: W_YFY_INV_BALANCE_F.INVENTORY_ITEM_ID = w_chp_item_d.INVENTORY_ITEM_ID),\n",
      "    (JOIN: W_YFY_INV_BALANCE_F.ORGANIZATION_ID = W_YFY_ORG_D.ORG_ID),\n",
      "    (Filter: w_chp_item_d.ITEM_NUMBER LIKE '4%'),\n",
      "    (Filter: w_chp_item_d.CATEGORY_CODE = 'FG'),\n",
      "    (Filter: W_YFY_INV_BALANCE_F.UOM = 'KG'),\n",
      "    (Filter: w_chp_item_d.ITEM_DESC_TCH <> '漿塑盤'),\n",
      "    (Filter: NOT(W_YFY_INV_BALANCE_F.SUB_INVENTORY IN ('RM','MTL','SFG','SFGW','FG-PP','FG-PP1') OR W_YFY_INV_BALANCE_F.SUB_INVENTORY LIKE '%FGS%')),\n",
      "    (JOIN: W_CHP_TS_BELONG_ORG_R.ORG_CODE(+) = W_YFY_ORG_D.ORG_CODE),\n",
      "    (JOIN: W_CHP_TS_BELONG_ORG_R.SUBINVENTORY_CODE(+) = W_YFY_INV_BALANCE_F.SUB_INVENTORY),\n",
      "    (Filter: W_YFY_INV_BALANCE_F.PERIOD_NAME >= '2023/01'),\n",
      "    (UNION ALL),\n",
      "    (Filter: W_YFY_INV_BALANCE_F.PERIOD_NAME = TO_CHAR(add_months(trunc(CURRENT_DATE,'mm'),-1),'YYYY/MM')),\n",
      "    (Filter: TO_CHAR(CURRENT_DATE,'dd') <> '01'),\n",
      "    (UNION ALL),\n",
      "    (Filter: W_CHP_MMT_F.ORGANIZATION_ID IN (290,291,305,286,287,288,289)),\n",
      "    (JOIN: W_CHP_MMT_F.ORGANIZATION_ID = w_chp_item_d.ORGANIZATION_ID),\n",
      "    (JOIN: W_CHP_MMT_F.INVENTORY_ITEM_ID = w_chp_item_d.INVENTORY_ITEM_ID),\n",
      "    (JOIN: W_CHP_MMT_F.ORGANIZATION_ID = W_YFY_ORG_D.ORG_ID),\n",
      "    (Filter: w_chp_item_d.ITEM_NUMBER LIKE '4%'),\n",
      "    (Filter: w_chp_item_d.CATEGORY_CODE = 'FG'),\n",
      "    (Filter: W_CHP_MMT_F.TRANSACTION_UOM = 'KG'),\n",
      "    (Filter: w_chp_item_d.ITEM_DESC_TCH <> '漿塑盤'),\n",
      "    (Filter: NOT(W_CHP_MMT_F.SUB_INVENTORY IN ('RM','MTL','SFG','SFGW','FG-PP','FG-PP1') OR W_CHP_MMT_F.SUB_INVENTORY LIKE '%FGS%')),\n",
      "    (JOIN: W_CHP_TS_BELONG_ORG_R.ORG_CODE(+) = W_YFY_ORG_D.ORG_CODE),\n",
      "    (JOIN: W_CHP_TS_BELONG_ORG_R.SUBINVENTORY_CODE(+) = W_CHP_MMT_F.SUB_INVENTORY),\n",
      "    (Filter: W_CHP_MMT_F.PERIOD_NAME = TO_CHAR(CURRENT_DATE,'YYYY/MM')),\n",
      "    (Filter: W_CHP_MMT_F.TRANSACTION_DATE < trunc(CURRENT_DATE)),\n",
      "]\n"
     ]
    }
   ],
   "source": [
    "print(bidb_view.iloc[3].lineage)"
   ]
  },
  {
   "cell_type": "code",
   "execution_count": 61,
   "metadata": {},
   "outputs": [],
   "source": [
    "# bidb_view.to_csv('./result/temp1.csv', index=False)"
   ]
  },
  {
   "cell_type": "markdown",
   "metadata": {},
   "source": [
    "### Insert the datasource and relationship into Neo4j"
   ]
  },
  {
   "cell_type": "code",
   "execution_count": 10,
   "metadata": {},
   "outputs": [],
   "source": [
    "# Create graph\n",
    "graph = Graph(host=\"138.3.214.21\", auth=(\"neo4j\",\"yfy12345\"))"
   ]
  },
  {
   "cell_type": "code",
   "execution_count": 8,
   "metadata": {},
   "outputs": [
    {
     "data": {
      "text/html": [
       "<div>\n",
       "<style scoped>\n",
       "    .dataframe tbody tr th:only-of-type {\n",
       "        vertical-align: middle;\n",
       "    }\n",
       "\n",
       "    .dataframe tbody tr th {\n",
       "        vertical-align: top;\n",
       "    }\n",
       "\n",
       "    .dataframe thead th {\n",
       "        text-align: right;\n",
       "    }\n",
       "</style>\n",
       "<table border=\"1\" class=\"dataframe\">\n",
       "  <thead>\n",
       "    <tr style=\"text-align: right;\">\n",
       "      <th></th>\n",
       "      <th>view_name</th>\n",
       "      <th>text</th>\n",
       "      <th>source</th>\n",
       "      <th>lineage</th>\n",
       "    </tr>\n",
       "  </thead>\n",
       "  <tbody>\n",
       "    <tr>\n",
       "      <th>0</th>\n",
       "      <td>C$_0W_YFY_AV_TW_R</td>\n",
       "      <td>select \"C1_ROW_ID\",\"C2_ORG_ID\",\"C3_REF_AV_HEAD...</td>\n",
       "      <td>from (    select   W_YFY_AV_TW_R.ROW_ID C1_ROW...</td>\n",
       "      <td>Datasource = ['ODS.W_YFY_AV_TW_R']\\n\\nRelation...</td>\n",
       "    </tr>\n",
       "    <tr>\n",
       "      <th>1</th>\n",
       "      <td>C$_0W_YFY_IND_FIN_INFO_FS</td>\n",
       "      <td>select   FIN_INFO.SEQ    C1_SEQ,  FIN_INFO.ACC...</td>\n",
       "      <td>from ODS.TC$_0W_YFY_IND_FIN_INFO_FS  FIN_INFO</td>\n",
       "      <td>Datasource = ['ODS.TC$_0W_YFY_IND_FIN_INFO_FS'...</td>\n",
       "    </tr>\n",
       "    <tr>\n",
       "      <th>2</th>\n",
       "      <td>OP_FACT_CHP_INVENTORY_ETH_PULP</td>\n",
       "      <td>SELECT PERIOD_NAME,STOCK_DATE TDATE,ORG_CODE,'...</td>\n",
       "      <td>FROM W_FACTORY_INV_BALANCE_F UNION ALL SELECT ...</td>\n",
       "      <td>Datasource = ['W_FACTORY_INV_BALANCE_F', 'W_FA...</td>\n",
       "    </tr>\n",
       "    <tr>\n",
       "      <th>3</th>\n",
       "      <td>OP_FACT_CHP_INVENTORY_REDEFINE</td>\n",
       "      <td>SELECT PERIOD_NAME,TDATE,ORG_CODE   ,CASE ORG_...</td>\n",
       "      <td>FROM (   SELECT F.PERIOD_NAME,F.BALANCE_DATE T...</td>\n",
       "      <td>Datasource = ['W_YFY_INV_BALANCE_F', 'w_chp_it...</td>\n",
       "    </tr>\n",
       "    <tr>\n",
       "      <th>4</th>\n",
       "      <td>OP_FACT_CHP_SALES_DETAILS</td>\n",
       "      <td>SELECT      '當月受訂' TYPE,     --GREATEST(F.REQU...</td>\n",
       "      <td>from W_CHP_SALES_NOMANUAL_F F     ,W_CHP_ORDER...</td>\n",
       "      <td>Datasource = ['W_CHP_SALES_NOMANUAL_F', 'W_CHP...</td>\n",
       "    </tr>\n",
       "  </tbody>\n",
       "</table>\n",
       "</div>"
      ],
      "text/plain": [
       "                        view_name  \\\n",
       "0               C$_0W_YFY_AV_TW_R   \n",
       "1       C$_0W_YFY_IND_FIN_INFO_FS   \n",
       "2  OP_FACT_CHP_INVENTORY_ETH_PULP   \n",
       "3  OP_FACT_CHP_INVENTORY_REDEFINE   \n",
       "4       OP_FACT_CHP_SALES_DETAILS   \n",
       "\n",
       "                                                text  \\\n",
       "0  select \"C1_ROW_ID\",\"C2_ORG_ID\",\"C3_REF_AV_HEAD...   \n",
       "1  select   FIN_INFO.SEQ    C1_SEQ,  FIN_INFO.ACC...   \n",
       "2  SELECT PERIOD_NAME,STOCK_DATE TDATE,ORG_CODE,'...   \n",
       "3  SELECT PERIOD_NAME,TDATE,ORG_CODE   ,CASE ORG_...   \n",
       "4  SELECT      '當月受訂' TYPE,     --GREATEST(F.REQU...   \n",
       "\n",
       "                                              source  \\\n",
       "0  from (    select   W_YFY_AV_TW_R.ROW_ID C1_ROW...   \n",
       "1     from ODS.TC$_0W_YFY_IND_FIN_INFO_FS  FIN_INFO    \n",
       "2  FROM W_FACTORY_INV_BALANCE_F UNION ALL SELECT ...   \n",
       "3  FROM (   SELECT F.PERIOD_NAME,F.BALANCE_DATE T...   \n",
       "4  from W_CHP_SALES_NOMANUAL_F F     ,W_CHP_ORDER...   \n",
       "\n",
       "                                             lineage  \n",
       "0  Datasource = ['ODS.W_YFY_AV_TW_R']\\n\\nRelation...  \n",
       "1  Datasource = ['ODS.TC$_0W_YFY_IND_FIN_INFO_FS'...  \n",
       "2  Datasource = ['W_FACTORY_INV_BALANCE_F', 'W_FA...  \n",
       "3  Datasource = ['W_YFY_INV_BALANCE_F', 'w_chp_it...  \n",
       "4  Datasource = ['W_CHP_SALES_NOMANUAL_F', 'W_CHP...  "
      ]
     },
     "execution_count": 8,
     "metadata": {},
     "output_type": "execute_result"
    }
   ],
   "source": [
    "bidb_view = pd.read_csv('./result/temp1.csv')\n",
    "bidb_view"
   ]
  },
  {
   "cell_type": "code",
   "execution_count": 21,
   "metadata": {},
   "outputs": [
    {
     "name": "stdout",
     "output_type": "stream",
     "text": [
      "no data in graph.\n"
     ]
    }
   ],
   "source": [
    "# check current nodes \n",
    "def neo4j_check(graph):\n",
    "    query = \"\"\"\n",
    "    MATCH (a)-[r:FROM]->(b)\n",
    "    RETURN a, r, b\n",
    "    \"\"\"\n",
    "\n",
    "    # Execute the query and get the result\n",
    "    result = graph.run(query)\n",
    "\n",
    "    # Iterate over the result and print it\n",
    "    if result == None:\n",
    "        for record in result:\n",
    "            print(f\"Node A: {record['a']}\")\n",
    "            print(f\"Relationship: {record['r']}\")\n",
    "            print(f\"Node B: {record['b']}\")\n",
    "    else:\n",
    "        print('no data in graph.')\n",
    "\n",
    "neo4j_check(graph)"
   ]
  },
  {
   "cell_type": "code",
   "execution_count": 22,
   "metadata": {},
   "outputs": [
    {
     "name": "stdout",
     "output_type": "stream",
     "text": [
      "no data in graph.\n"
     ]
    }
   ],
   "source": [
    "# clean the nodes if the db is not empty\n",
    "graph.run(\"MATCH ()-[r]->() DELETE r\")\n",
    "\n",
    "# Delete all nodes\n",
    "graph.run(\"MATCH (n) DELETE n\")\n",
    "\n",
    "neo4j_check(graph)"
   ]
  },
  {
   "cell_type": "code",
   "execution_count": null,
   "metadata": {},
   "outputs": [],
   "source": [
    "result_dict = {}\n",
    "for source_item in datasource_list:\n",
    "    for rel_item in relationship_list:\n",
    "        if source_item in rel_item:\n",
    "            result_dict[source_item] = rel_item\n",
    "            related_source = [rel_source for rel_source in datasource_list if rel_source != source_item]\n",
    "            # num_related_source = len(related_source)\n",
    "            source_table = Node(\"table\", name=source_item)\n",
    "            related_source_table = Node(\"table\", name=related_source[0])\n",
    "\n",
    "            property_dictionary = {}\n",
    "            rel_item = rel_item.replace(\"(\", \"\").replace(\")\", \"\").replace(\",\", \"\")\n",
    "            if \"Filter\" in rel_item:\n",
    "                property_dictionary['condition'] = rel_item\n",
    "            elif \"JOIN\" in rel_item:\n",
    "                property_dictionary['merge'] = rel_item\n",
    "\n",
    "            relationship = Relationship(source_table, \"FROM\", related_source_table, **property_dictionary)\n"
   ]
  }
 ],
 "metadata": {
  "kernelspec": {
   "display_name": "bibot",
   "language": "python",
   "name": "python3"
  },
  "language_info": {
   "codemirror_mode": {
    "name": "ipython",
    "version": 3
   },
   "file_extension": ".py",
   "mimetype": "text/x-python",
   "name": "python",
   "nbconvert_exporter": "python",
   "pygments_lexer": "ipython3",
   "version": "3.10.14"
  }
 },
 "nbformat": 4,
 "nbformat_minor": 2
}
