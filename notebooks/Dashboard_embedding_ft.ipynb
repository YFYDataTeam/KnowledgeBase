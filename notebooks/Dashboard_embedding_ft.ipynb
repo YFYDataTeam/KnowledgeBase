{
 "cells": [
  {
   "cell_type": "code",
   "execution_count": 1,
   "metadata": {},
   "outputs": [],
   "source": [
    "import pandas as pd\n",
    "from datetime import datetime\n"
   ]
  },
  {
   "cell_type": "code",
   "execution_count": 7,
   "metadata": {},
   "outputs": [],
   "source": [
    "df_dashboard = pd.read_csv('files/dashbaord_data_v2.csv', encoding='utf-16')"
   ]
  },
  {
   "cell_type": "code",
   "execution_count": 8,
   "metadata": {},
   "outputs": [
    {
     "data": {
      "text/html": [
       "<div>\n",
       "<style scoped>\n",
       "    .dataframe tbody tr th:only-of-type {\n",
       "        vertical-align: middle;\n",
       "    }\n",
       "\n",
       "    .dataframe tbody tr th {\n",
       "        vertical-align: top;\n",
       "    }\n",
       "\n",
       "    .dataframe thead th {\n",
       "        text-align: right;\n",
       "    }\n",
       "</style>\n",
       "<table border=\"1\" class=\"dataframe\">\n",
       "  <thead>\n",
       "    <tr style=\"text-align: right;\">\n",
       "      <th></th>\n",
       "      <th>rowid</th>\n",
       "      <th>dashboard_name</th>\n",
       "      <th>report_name</th>\n",
       "      <th>page_name</th>\n",
       "      <th>pic_name</th>\n",
       "      <th>description</th>\n",
       "      <th>questions</th>\n",
       "    </tr>\n",
       "  </thead>\n",
       "  <tbody>\n",
       "    <tr>\n",
       "      <th>0</th>\n",
       "      <td>AAi0soABZAAAACLAAC</td>\n",
       "      <td>投控經營分析</td>\n",
       "      <td>華紙-營運績效分析月報</td>\n",
       "      <td>紙機生產狀況</td>\n",
       "      <td>紙機生產狀況-得率趨勢圖.jpg</td>\n",
       "      <td>這張圖表顯示的是 2024 年 1 月到 5 月的月度效率數據。圖表上的數字代表各個月的效率...</td>\n",
       "      <td>這張圖片顯示了華紙在2024年1月到5月的紙機生產狀況，以下列出10個關於這張圖片的問題：\\...</td>\n",
       "    </tr>\n",
       "    <tr>\n",
       "      <th>1</th>\n",
       "      <td>AAi0soABZAAAACLAAF</td>\n",
       "      <td>投控經營分析</td>\n",
       "      <td>華紙-營運績效分析月報</td>\n",
       "      <td>號機直接法損益</td>\n",
       "      <td>號機直接法損益-完整畫面.jpg</td>\n",
       "      <td>這張圖片包含了一份營運績效分析月報，其中包含以下指標：\\n\\n**成本**:\\n* 銷貨成本...</td>\n",
       "      <td>這張圖片顯示了華紙的營運績效分析月報，可以回答以下問題：\\n\\n1. **華紙的總成本是多少...</td>\n",
       "    </tr>\n",
       "    <tr>\n",
       "      <th>2</th>\n",
       "      <td>AAi0soABZAAAACOAAB</td>\n",
       "      <td>投控經營分析</td>\n",
       "      <td>華紙-營運績效分析日報</td>\n",
       "      <td>工廠面</td>\n",
       "      <td>工廠面3.JPG</td>\n",
       "      <td>這張圖片包含報表，包含投控經營分析華紙-營運績效分析日報工廠面的一些相關分析指標。\\n\\n*...</td>\n",
       "      <td>這張圖片顯示的是工廠生產相關的數據，可以提出以下問題：\\n\\n1.  今日生產的紙張總量是多...</td>\n",
       "    </tr>\n",
       "    <tr>\n",
       "      <th>3</th>\n",
       "      <td>AAi0soABZAAAACMAAE</td>\n",
       "      <td>投控經營分析</td>\n",
       "      <td>華紙-營運績效分析月報</td>\n",
       "      <td>銷售面</td>\n",
       "      <td>銷售面-事故金額狀況.jpg</td>\n",
       "      <td>這張圖片顯示了**華紙-營運績效分析月報銷售面**的數據，以柱狀圖的形式呈現。 \\n\\n**...</td>\n",
       "      <td>這張圖片顯示的是華紙-營運績效分析月報銷售面的數據，可以回答以下問題：\\n\\n1. 2024...</td>\n",
       "    </tr>\n",
       "    <tr>\n",
       "      <th>4</th>\n",
       "      <td>AAi0soABZAAAACUAAA</td>\n",
       "      <td>投控經營分析</td>\n",
       "      <td>華紙-營運績效分析月報</td>\n",
       "      <td>漿線生產狀況</td>\n",
       "      <td>漿線生產狀況-停機時間.jpg</td>\n",
       "      <td>這張圖片只顯示了一項指標：**停機時間**，單位為分鐘，數值为50,750。\\n\\n如果需要...</td>\n",
       "      <td>這張圖片只顯示一個標題「停機時間（Min）」和一個單純的藍色圓形，以及下方顯示「非計劃停機 ...</td>\n",
       "    </tr>\n",
       "  </tbody>\n",
       "</table>\n",
       "</div>"
      ],
      "text/plain": [
       "                rowid dashboard_name  report_name page_name          pic_name  \\\n",
       "0  AAi0soABZAAAACLAAC         投控經營分析  華紙-營運績效分析月報    紙機生產狀況  紙機生產狀況-得率趨勢圖.jpg   \n",
       "1  AAi0soABZAAAACLAAF         投控經營分析  華紙-營運績效分析月報   號機直接法損益  號機直接法損益-完整畫面.jpg   \n",
       "2  AAi0soABZAAAACOAAB         投控經營分析  華紙-營運績效分析日報       工廠面          工廠面3.JPG   \n",
       "3  AAi0soABZAAAACMAAE         投控經營分析  華紙-營運績效分析月報       銷售面    銷售面-事故金額狀況.jpg   \n",
       "4  AAi0soABZAAAACUAAA         投控經營分析  華紙-營運績效分析月報    漿線生產狀況   漿線生產狀況-停機時間.jpg   \n",
       "\n",
       "                                         description  \\\n",
       "0  這張圖表顯示的是 2024 年 1 月到 5 月的月度效率數據。圖表上的數字代表各個月的效率...   \n",
       "1  這張圖片包含了一份營運績效分析月報，其中包含以下指標：\\n\\n**成本**:\\n* 銷貨成本...   \n",
       "2  這張圖片包含報表，包含投控經營分析華紙-營運績效分析日報工廠面的一些相關分析指標。\\n\\n*...   \n",
       "3  這張圖片顯示了**華紙-營運績效分析月報銷售面**的數據，以柱狀圖的形式呈現。 \\n\\n**...   \n",
       "4  這張圖片只顯示了一項指標：**停機時間**，單位為分鐘，數值为50,750。\\n\\n如果需要...   \n",
       "\n",
       "                                           questions  \n",
       "0  這張圖片顯示了華紙在2024年1月到5月的紙機生產狀況，以下列出10個關於這張圖片的問題：\\...  \n",
       "1  這張圖片顯示了華紙的營運績效分析月報，可以回答以下問題：\\n\\n1. **華紙的總成本是多少...  \n",
       "2  這張圖片顯示的是工廠生產相關的數據，可以提出以下問題：\\n\\n1.  今日生產的紙張總量是多...  \n",
       "3  這張圖片顯示的是華紙-營運績效分析月報銷售面的數據，可以回答以下問題：\\n\\n1. 2024...  \n",
       "4  這張圖片只顯示一個標題「停機時間（Min）」和一個單純的藍色圓形，以及下方顯示「非計劃停機 ...  "
      ]
     },
     "execution_count": 8,
     "metadata": {},
     "output_type": "execute_result"
    }
   ],
   "source": [
    "df_dashboard.head()"
   ]
  }
 ],
 "metadata": {
  "kernelspec": {
   "display_name": "bibot",
   "language": "python",
   "name": "python3"
  },
  "language_info": {
   "codemirror_mode": {
    "name": "ipython",
    "version": 3
   },
   "file_extension": ".py",
   "mimetype": "text/x-python",
   "name": "python",
   "nbconvert_exporter": "python",
   "pygments_lexer": "ipython3",
   "version": "3.10.14"
  }
 },
 "nbformat": 4,
 "nbformat_minor": 2
}
