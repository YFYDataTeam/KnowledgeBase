{
 "cells": [
  {
   "cell_type": "code",
   "execution_count": 1,
   "metadata": {},
   "outputs": [
    {
     "name": "stderr",
     "output_type": "stream",
     "text": [
      "e:\\miniconda3\\envs\\bibot\\lib\\site-packages\\tqdm\\auto.py:21: TqdmWarning: IProgress not found. Please update jupyter and ipywidgets. See https://ipywidgets.readthedocs.io/en/stable/user_install.html\n",
      "  from .autonotebook import tqdm as notebook_tqdm\n"
     ]
    }
   ],
   "source": [
    "import pandas as pd\n",
    "from datetime import datetime\n",
    "import json\n",
    "from IPython.display import display\n",
    "from IPython.display import Markdown\n",
    "\n",
    "import google.generativeai as genai\n",
    "from google.generativeai.types import HarmCategory, HarmBlockThreshold\n",
    "from utils import read_config, OracleAgent\n",
    "\n",
    "from llama_index.core.schema import Document\n",
    "from llama_index.core import VectorStoreIndex, StorageContext, Settings\n",
    "from llama_index.vector_stores.chroma import ChromaVectorStore\n",
    "from llama_index.embeddings.huggingface import HuggingFaceEmbedding\n",
    "from llama_index.llms.gemini import Gemini\n",
    "from llama_index.core.vector_stores.types import VectorStoreQuery\n",
    "\n",
    "import chromadb"
   ]
  },
  {
   "cell_type": "code",
   "execution_count": 2,
   "metadata": {},
   "outputs": [],
   "source": [
    "info_path = '.env/info.json'\n",
    "info = read_config(info_path)\n",
    "\n",
    "# oracle_agent = OracleAgent(info['DW_conn_info'])\n",
    "\n",
    "# API_KEY= info['gkey']\n",
    "# genai.configure(api_key=API_KEY)\n",
    "# llm_model = genai.GenerativeModel('gemini-pro', generation_config=generation_config, safety_settings=safety_settings)\n",
    "# model = Gemini(model=\"models/gemini-pro\")"
   ]
  },
  {
   "cell_type": "code",
   "execution_count": 3,
   "metadata": {},
   "outputs": [],
   "source": [
    "model_name = \"sentence-transformers/distiluse-base-multilingual-cased-v1\"\n",
    "embed_model = HuggingFaceEmbedding(model_name=model_name)"
   ]
  },
  {
   "cell_type": "code",
   "execution_count": 4,
   "metadata": {},
   "outputs": [],
   "source": [
    "# load vectordb\n",
    "db2 = chromadb.PersistentClient(path=\"./chroma_db\")\n",
    "chroma_collection = db2.get_or_create_collection(\"DashboardQA\")\n",
    "vector_store = ChromaVectorStore(chroma_collection=chroma_collection)\n",
    "index = VectorStoreIndex.from_vector_store(\n",
    "    vector_store,\n",
    "    embed_model=embed_model,\n",
    ")\n"
   ]
  },
  {
   "cell_type": "code",
   "execution_count": 5,
   "metadata": {},
   "outputs": [],
   "source": [
    "query = \"我要看稅前淨利、損益表、資產負債表的數據要看哪張表\"\n",
    "embedding_vector = embed_model.get_query_embedding(query)\n",
    "query_vector = VectorStoreQuery(query_embedding=embedding_vector, similarity_top_k=1)"
   ]
  },
  {
   "cell_type": "code",
   "execution_count": 6,
   "metadata": {},
   "outputs": [],
   "source": [
    "result = vector_store.query(query_vector)"
   ]
  },
  {
   "cell_type": "code",
   "execution_count": 7,
   "metadata": {},
   "outputs": [
    {
     "name": "stdout",
     "output_type": "stream",
     "text": [
      "VectorStoreQueryResult(nodes=[TextNode(id_='b5a8d032-bc64-4c94-9f41-4e62dd13c495', embedding=None, metadata={'dashboard_name': '投控經營分析', 'report_name': '華紙-營運績效分析月報', 'page_name': '事業部層', 'pic_name': '事業部層-完整畫面.jpg'}, excluded_embed_metadata_keys=[], excluded_llm_metadata_keys=[], relationships={<NodeRelationship.SOURCE: '1'>: RelatedNodeInfo(node_id='98006c58-116a-4098-882f-32455b18743f', node_type=<ObjectType.DOCUMENT: '4'>, metadata={'dashboard_name': '投控經營分析', 'report_name': '華紙-營運績效分析月報', 'page_name': '事業部層', 'pic_name': '事業部層-完整畫面.jpg'}, hash='47c8e3eb15f78729226dc2ccafc0b148330a5d8dfb54e8e4d43edaf72be445eb'), <NodeRelationship.PREVIOUS: '2'>: RelatedNodeInfo(node_id='a973e1a5-5a48-46a8-ad59-d5a7f312e10d', node_type=<ObjectType.TEXT: '1'>, metadata={'dashboard_name': '投控經營分析', 'report_name': '華紙-營運績效分析月報', 'page_name': '事業部層', 'pic_name': '事業部層-完整畫面.jpg'}, hash='0c6bc856079b805dfead70575981179818b369bfd151ce8051069b970ab18937'), <NodeRelationship.NEXT: '3'>: RelatedNodeInfo(node_id='23596468-1d91-452e-9df6-5089d5824098', node_type=<ObjectType.TEXT: '1'>, metadata={}, hash='919d8a6f8bb3a07bf7d69d125051bc1f2f00eb7445fd6fb903b783cbe7bdcb0c')}, text='每股淨值\\n* 股利發放率\\n* ROE\\n* ROA\\n* 總資產報酬率\\n* 負債報酬率\\n* 銷售毛利率\\n* 銷售費用率\\n* 營業費用率\\n* 行政費用率\\n* 財務費用率\\n* 稅前利益率\\n* 淨利率\\n* 資產週轉率\\n* 存貨週轉率\\n* 應收帳款週轉率\\n* 應付帳款週轉率\\n\\n**目標指標:**\\n\\n* 流動比率\\n* 負債比率\\n* 負債權益比率\\n* 稅後利率\\n* 淨利率\\n* 應收帳款週轉天數\\n* 存貨週轉天數\\n\\n**2024/04 實際值:**\\n\\n* 110%\\n* 107%\\n* 3.80\\n* 181 億元\\n* 56%\\n* 65 天\\n* 34 天\\n* 103 天\\n\\n**註:** 實際值僅為部分指標，圖片可能包含更多未列出的指標，請根據您的需求自行查找。', mimetype='text/plain', start_char_idx=342, end_char_idx=664, text_template='{metadata_str}\\n\\n{content}', metadata_template='{key}: {value}', metadata_seperator='\\n')], similarities=[0.311712154858482], ids=['b5a8d032-bc64-4c94-9f41-4e62dd13c495'])\n"
     ]
    }
   ],
   "source": [
    "print(result)"
   ]
  },
  {
   "cell_type": "code",
   "execution_count": null,
   "metadata": {},
   "outputs": [],
   "source": []
  }
 ],
 "metadata": {
  "kernelspec": {
   "display_name": "bibot",
   "language": "python",
   "name": "python3"
  },
  "language_info": {
   "codemirror_mode": {
    "name": "ipython",
    "version": 3
   },
   "file_extension": ".py",
   "mimetype": "text/x-python",
   "name": "python",
   "nbconvert_exporter": "python",
   "pygments_lexer": "ipython3",
   "version": "3.10.14"
  }
 },
 "nbformat": 4,
 "nbformat_minor": 2
}
