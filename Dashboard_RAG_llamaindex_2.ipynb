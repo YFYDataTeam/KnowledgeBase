{
 "cells": [
  {
   "cell_type": "markdown",
   "metadata": {},
   "source": [
    "# Features\n",
    "\n",
    "1. Vector storage\n",
    "2. Retriver\n",
    "3. Chat engine\n",
    "4. Memory system\n",
    "5. Conversational query \n",
    "6. Conversational query with memory"
   ]
  },
  {
   "cell_type": "code",
   "execution_count": 3,
   "metadata": {},
   "outputs": [
    {
     "name": "stderr",
     "output_type": "stream",
     "text": [
      "c:\\Users\\sean.chang\\AppData\\Local\\anaconda3\\envs\\bibot\\lib\\site-packages\\tqdm\\auto.py:21: TqdmWarning: IProgress not found. Please update jupyter and ipywidgets. See https://ipywidgets.readthedocs.io/en/stable/user_install.html\n",
      "  from .autonotebook import tqdm as notebook_tqdm\n"
     ]
    }
   ],
   "source": [
    "import pandas as pd\n",
    "from datetime import datetime\n",
    "\n",
    "from IPython.display import display\n",
    "from IPython.display import Markdown\n",
    "\n",
    "import google.generativeai as genai\n",
    "\n",
    "from utils import read_config, OracleAgent\n",
    "\n",
    "from llama_index.core.schema import Document\n",
    "from llama_index.core import VectorStoreIndex, StorageContext, Settings\n",
    "from llama_index.vector_stores.chroma import ChromaVectorStore\n",
    "from llama_index.embeddings.huggingface import HuggingFaceEmbedding\n",
    "from llama_index.llms.gemini import Gemini\n",
    "\n",
    "import chromadb"
   ]
  },
  {
   "cell_type": "code",
   "execution_count": 4,
   "metadata": {},
   "outputs": [],
   "source": [
    "info_path = '.env/info.json'\n",
    "info = read_config(info_path)\n",
    "\n",
    "oracle_agent = OracleAgent(info['DW_conn_info'])\n",
    "\n",
    "API_KEY= info['gkey']\n",
    "genai.configure(api_key=API_KEY)\n",
    "model = genai.GenerativeModel('gemini-1.5-flash')\n"
   ]
  },
  {
   "cell_type": "code",
   "execution_count": 6,
   "metadata": {},
   "outputs": [],
   "source": [
    "query = \"\"\"\n",
    "select rowid, dashboard_name, report_name, page_name, pic_name, llm, llm_question \n",
    "from bi_dashboard\n",
    "\"\"\"\n",
    "\n",
    "df_dashboard = oracle_agent.read_table(query=query)\n",
    "# df_dashboard.to_csv('opt/dashboard_data.csv', index=False, encoding='utf-16')"
   ]
  },
  {
   "cell_type": "code",
   "execution_count": 4,
   "metadata": {},
   "outputs": [],
   "source": [
    "# df_dashboard = pd.read_csv('files/dashboard_data.csv', encoding='utf-16')"
   ]
  },
  {
   "cell_type": "code",
   "execution_count": 7,
   "metadata": {},
   "outputs": [],
   "source": [
    "df_dashboard = df_dashboard.rename(columns={\"llm\": \"description\"})"
   ]
  },
  {
   "cell_type": "code",
   "execution_count": 8,
   "metadata": {},
   "outputs": [
    {
     "data": {
      "text/html": [
       "<div>\n",
       "<style scoped>\n",
       "    .dataframe tbody tr th:only-of-type {\n",
       "        vertical-align: middle;\n",
       "    }\n",
       "\n",
       "    .dataframe tbody tr th {\n",
       "        vertical-align: top;\n",
       "    }\n",
       "\n",
       "    .dataframe thead th {\n",
       "        text-align: right;\n",
       "    }\n",
       "</style>\n",
       "<table border=\"1\" class=\"dataframe\">\n",
       "  <thead>\n",
       "    <tr style=\"text-align: right;\">\n",
       "      <th></th>\n",
       "      <th>rowid</th>\n",
       "      <th>dashboard_name</th>\n",
       "      <th>report_name</th>\n",
       "      <th>page_name</th>\n",
       "      <th>pic_name</th>\n",
       "      <th>description</th>\n",
       "      <th>llm_question</th>\n",
       "    </tr>\n",
       "  </thead>\n",
       "  <tbody>\n",
       "    <tr>\n",
       "      <th>0</th>\n",
       "      <td>AAi0soABZAAAACLAAC</td>\n",
       "      <td>投控經營分析</td>\n",
       "      <td>華紙-營運績效分析月報</td>\n",
       "      <td>紙機生產狀況</td>\n",
       "      <td>紙機生產狀況-得率趨勢圖.jpg</td>\n",
       "      <td>這張圖表顯示的是 2024 年 1 月到 5 月的月度效率數據。圖表上的數字代表各個月的效率...</td>\n",
       "      <td>這張圖片顯示了華紙在2024年1月到5月的紙機生產狀況，以下列出10個關於這張圖片的問題：\\...</td>\n",
       "    </tr>\n",
       "    <tr>\n",
       "      <th>1</th>\n",
       "      <td>AAi0soABZAAAACLAAF</td>\n",
       "      <td>投控經營分析</td>\n",
       "      <td>華紙-營運績效分析月報</td>\n",
       "      <td>號機直接法損益</td>\n",
       "      <td>號機直接法損益-完整畫面.jpg</td>\n",
       "      <td>這張圖片包含了一份營運績效分析月報，其中包含以下指標：\\n\\n**成本**:\\n* 銷貨成本...</td>\n",
       "      <td>這張圖片顯示了華紙的營運績效分析月報，可以回答以下問題：\\n\\n1. **華紙的總成本是多少...</td>\n",
       "    </tr>\n",
       "    <tr>\n",
       "      <th>2</th>\n",
       "      <td>AAi0soABZAAAACOAAB</td>\n",
       "      <td>投控經營分析</td>\n",
       "      <td>華紙-營運績效分析日報</td>\n",
       "      <td>工廠面</td>\n",
       "      <td>工廠面3.JPG</td>\n",
       "      <td>這張圖片包含報表，包含投控經營分析華紙-營運績效分析日報工廠面的一些相關分析指標。\\n\\n*...</td>\n",
       "      <td>這張圖片顯示的是工廠生產相關的數據，可以提出以下問題：\\n\\n1.  今日生產的紙張總量是多...</td>\n",
       "    </tr>\n",
       "    <tr>\n",
       "      <th>3</th>\n",
       "      <td>AAi0soABZAAAACMAAE</td>\n",
       "      <td>投控經營分析</td>\n",
       "      <td>華紙-營運績效分析月報</td>\n",
       "      <td>銷售面</td>\n",
       "      <td>銷售面-事故金額狀況.jpg</td>\n",
       "      <td>這張圖片顯示了**華紙-營運績效分析月報銷售面**的數據，以柱狀圖的形式呈現。 \\n\\n**...</td>\n",
       "      <td>這張圖片顯示的是華紙-營運績效分析月報銷售面的數據，可以回答以下問題：\\n\\n1. 2024...</td>\n",
       "    </tr>\n",
       "    <tr>\n",
       "      <th>4</th>\n",
       "      <td>AAi0soABZAAAACUAAA</td>\n",
       "      <td>投控經營分析</td>\n",
       "      <td>華紙-營運績效分析月報</td>\n",
       "      <td>漿線生產狀況</td>\n",
       "      <td>漿線生產狀況-停機時間.jpg</td>\n",
       "      <td>這張圖片只顯示了一項指標：**停機時間**，單位為分鐘，數值为50,750。\\n\\n如果需要...</td>\n",
       "      <td>這張圖片只顯示一個標題「停機時間（Min）」和一個單純的藍色圓形，以及下方顯示「非計劃停機 ...</td>\n",
       "    </tr>\n",
       "  </tbody>\n",
       "</table>\n",
       "</div>"
      ],
      "text/plain": [
       "                rowid dashboard_name  report_name page_name          pic_name  \\\n",
       "0  AAi0soABZAAAACLAAC         投控經營分析  華紙-營運績效分析月報    紙機生產狀況  紙機生產狀況-得率趨勢圖.jpg   \n",
       "1  AAi0soABZAAAACLAAF         投控經營分析  華紙-營運績效分析月報   號機直接法損益  號機直接法損益-完整畫面.jpg   \n",
       "2  AAi0soABZAAAACOAAB         投控經營分析  華紙-營運績效分析日報       工廠面          工廠面3.JPG   \n",
       "3  AAi0soABZAAAACMAAE         投控經營分析  華紙-營運績效分析月報       銷售面    銷售面-事故金額狀況.jpg   \n",
       "4  AAi0soABZAAAACUAAA         投控經營分析  華紙-營運績效分析月報    漿線生產狀況   漿線生產狀況-停機時間.jpg   \n",
       "\n",
       "                                         description  \\\n",
       "0  這張圖表顯示的是 2024 年 1 月到 5 月的月度效率數據。圖表上的數字代表各個月的效率...   \n",
       "1  這張圖片包含了一份營運績效分析月報，其中包含以下指標：\\n\\n**成本**:\\n* 銷貨成本...   \n",
       "2  這張圖片包含報表，包含投控經營分析華紙-營運績效分析日報工廠面的一些相關分析指標。\\n\\n*...   \n",
       "3  這張圖片顯示了**華紙-營運績效分析月報銷售面**的數據，以柱狀圖的形式呈現。 \\n\\n**...   \n",
       "4  這張圖片只顯示了一項指標：**停機時間**，單位為分鐘，數值为50,750。\\n\\n如果需要...   \n",
       "\n",
       "                                        llm_question  \n",
       "0  這張圖片顯示了華紙在2024年1月到5月的紙機生產狀況，以下列出10個關於這張圖片的問題：\\...  \n",
       "1  這張圖片顯示了華紙的營運績效分析月報，可以回答以下問題：\\n\\n1. **華紙的總成本是多少...  \n",
       "2  這張圖片顯示的是工廠生產相關的數據，可以提出以下問題：\\n\\n1.  今日生產的紙張總量是多...  \n",
       "3  這張圖片顯示的是華紙-營運績效分析月報銷售面的數據，可以回答以下問題：\\n\\n1. 2024...  \n",
       "4  這張圖片只顯示一個標題「停機時間（Min）」和一個單純的藍色圓形，以及下方顯示「非計劃停機 ...  "
      ]
     },
     "execution_count": 8,
     "metadata": {},
     "output_type": "execute_result"
    }
   ],
   "source": [
    "df_dashboard.head()"
   ]
  },
  {
   "cell_type": "code",
   "execution_count": 17,
   "metadata": {},
   "outputs": [],
   "source": [
    "df_dashboard = df_dashboard.drop(['llm_question'], axis=1)"
   ]
  },
  {
   "cell_type": "code",
   "execution_count": 18,
   "metadata": {},
   "outputs": [
    {
     "data": {
      "text/markdown": [
       "這張圖表顯示了生產製造成本的組成，可以帮助你了解不同項目在生產成本中所占的比例。\n",
       "\n",
       "**主要分析指標：**\n",
       "\n",
       "* **生產製造成本的總金額：** 顯示了總的生產製造成本。\n",
       "* **各項成本的金額：** 顯示了不同項目在生產成本中的具體金額。\n",
       "* **各項成本的百分比：** 顯示了不同項目在生產成本中所占的比例。 \n",
       "* **累積百分比：** 顯示了累積的成本比例，可以帮助你快速了解不同項目的成本佔比。\n",
       "\n",
       "**可以查詢的指標：**\n",
       "\n",
       "* **各項成本的金額和百分比：** 您可以查看不同項目的成本金額和百分比，例如：\n",
       "    * **原料：** 顯示了原材料的成本。\n",
       "    * **電力：** 顯示了電力的成本。\n",
       "    * **製造成本：** 顯示了生產過程中的成本。\n",
       "    * **人工：** 顯示了人工成本。\n",
       "    * **其他：** 顯示了其他成本。\n",
       "* **累積百分比：** 您可以查看累積百分比，例如：\n",
       "    * **原料的累積百分比：** 顯示了原材料成本佔總成本的比例。\n",
       "    * **原料和電力的累積百分比：** 顯示了原材料和電力成本佔總成本的比例。\n",
       "    * **所有成本的累積百分比：** 顯示了所有成本佔總成本的比例，應該為 100%。\n",
       "\n",
       "**用途：**\n",
       "\n",
       "這張圖表可以帮助您：\n",
       "\n",
       "* 了解生產製造成本的組成。\n",
       "* 分析不同項目的成本佔比。\n",
       "* 找出成本的主要來源。\n",
       "* 評估成本控制的成效。\n",
       "\n",
       "**注意事項：**\n",
       "\n",
       "* 圖表中顯示的數據是特定時間點的數據，可能不代表長期趨勢。\n",
       "* 圖表中沒有提供成本變化的趨勢信息。\n",
       "* 圖表中沒有提供成本控制措施的信息。\n"
      ],
      "text/plain": [
       "<IPython.core.display.Markdown object>"
      ]
     },
     "execution_count": 18,
     "metadata": {},
     "output_type": "execute_result"
    }
   ],
   "source": [
    "Markdown(df_dashboard[df_dashboard['rowid'] == 'AAi0soABZAAAACUAAH'].description.values[0])"
   ]
  },
  {
   "cell_type": "code",
   "execution_count": 10,
   "metadata": {},
   "outputs": [
    {
     "data": {
      "text/markdown": [
       "這張圖片包含了一份營運績效分析月報，其中包含以下指標：\n",
       "\n",
       "**成本**:\n",
       "* 銷貨成本\n",
       "* 原物料成本\n",
       "* 燃料\n",
       "* 其他成本\n",
       "\n",
       "**銷售**:\n",
       "* 銷貨收入\n",
       "* 營業成本\n",
       "* 營業毛利\n",
       "* 營業費用\n",
       "\n",
       "**費用**:\n",
       "* 製造費用\n",
       "* 銷售費用\n",
       "* 管理費用\n",
       "\n",
       "**淨利**:\n",
       "* 稅前淨利\n",
       "* 稅後淨利\n",
       "\n",
       "**其他**:\n",
       "* 損益表\n",
       "* 損益\n",
       "* 銷售額\n",
       "* 銷貨量\n",
       "* 存貨\n",
       "* 應收帳款\n",
       "* 應付帳款\n",
       "* 固定資產\n",
       "* 流動資產\n",
       "* 負債\n",
       "* 股東權益\n",
       "\n",
       "這些指標可以幫助使用者了解公司在特定時期的財務狀況和營運績效。\n"
      ],
      "text/plain": [
       "<IPython.core.display.Markdown object>"
      ]
     },
     "execution_count": 10,
     "metadata": {},
     "output_type": "execute_result"
    }
   ],
   "source": [
    "Markdown(df_dashboard[df_dashboard['rowid'] == 'AAi0soABZAAAACLAAF'].description.values[0])"
   ]
  },
  {
   "cell_type": "code",
   "execution_count": 5,
   "metadata": {},
   "outputs": [],
   "source": [
    "model_name = \"sentence-transformers/distiluse-base-multilingual-cased-v1\"\n",
    "embeddings = HuggingFaceEmbedding(model_name=model_name)"
   ]
  },
  {
   "cell_type": "code",
   "execution_count": 5,
   "metadata": {},
   "outputs": [],
   "source": [
    "chroma_client = chromadb.PersistentClient(path=\"./chroma_db\")\n",
    "chroma_collection = chroma_client.get_or_create_collection(\"DashboardQA\")"
   ]
  },
  {
   "cell_type": "code",
   "execution_count": 13,
   "metadata": {},
   "outputs": [],
   "source": [
    "def df_to_documents(df):\n",
    "    return [Document(text=row['description'], metadata={col: row[col] for col in df.columns if col != 'descriptoin'}) for _, row in df.iterrows()]"
   ]
  },
  {
   "cell_type": "code",
   "execution_count": 19,
   "metadata": {},
   "outputs": [],
   "source": [
    "documents = df_to_documents(df_dashboard)"
   ]
  },
  {
   "cell_type": "code",
   "execution_count": 20,
   "metadata": {},
   "outputs": [
    {
     "data": {
      "text/plain": [
       "[Document(id_='b5244c3c-4996-447f-a028-f9bd8f3b1f20', embedding=None, metadata={'rowid': 'AAi0soABZAAAACLAAC', 'dashboard_name': '投控經營分析', 'report_name': '華紙-營運績效分析月報', 'page_name': '紙機生產狀況', 'pic_name': '紙機生產狀況-得率趨勢圖.jpg', 'description': '這張圖表顯示的是 2024 年 1 月到 5 月的月度效率數據。圖表上的數字代表各個月的效率百分比。 \\n\\n您可以查詢：\\n\\n- **效率**（以百分比顯示）： 圖表顯示了每個月的效率，從 1 月到 5 月。\\n- **月份**： 圖表顯示了每個月的效率，從 1 月到 5 月。\\n- **2024 年**： 圖表顯示了 2024 年的數據。\\n\\n圖表中缺少 6 月份的數據。'}, excluded_embed_metadata_keys=[], excluded_llm_metadata_keys=[], relationships={}, text='這張圖表顯示的是 2024 年 1 月到 5 月的月度效率數據。圖表上的數字代表各個月的效率百分比。 \\n\\n您可以查詢：\\n\\n- **效率**（以百分比顯示）： 圖表顯示了每個月的效率，從 1 月到 5 月。\\n- **月份**： 圖表顯示了每個月的效率，從 1 月到 5 月。\\n- **2024 年**： 圖表顯示了 2024 年的數據。\\n\\n圖表中缺少 6 月份的數據。', mimetype='text/plain', start_char_idx=None, end_char_idx=None, text_template='{metadata_str}\\n\\n{content}', metadata_template='{key}: {value}', metadata_seperator='\\n'),\n",
       " Document(id_='b65208c2-dcc2-48b1-be0a-5ed3146de155', embedding=None, metadata={'rowid': 'AAi0soABZAAAACLAAF', 'dashboard_name': '投控經營分析', 'report_name': '華紙-營運績效分析月報', 'page_name': '號機直接法損益', 'pic_name': '號機直接法損益-完整畫面.jpg', 'description': '這張圖片包含了一份營運績效分析月報，其中包含以下指標：\\n\\n**成本**:\\n* 銷貨成本\\n* 原物料成本\\n* 燃料\\n* 其他成本\\n\\n**銷售**:\\n* 銷貨收入\\n* 營業成本\\n* 營業毛利\\n* 營業費用\\n\\n**費用**:\\n* 製造費用\\n* 銷售費用\\n* 管理費用\\n\\n**淨利**:\\n* 稅前淨利\\n* 稅後淨利\\n\\n**其他**:\\n* 損益表\\n* 損益\\n* 銷售額\\n* 銷貨量\\n* 存貨\\n* 應收帳款\\n* 應付帳款\\n* 固定資產\\n* 流動資產\\n* 負債\\n* 股東權益\\n\\n這些指標可以幫助使用者了解公司在特定時期的財務狀況和營運績效。\\n'}, excluded_embed_metadata_keys=[], excluded_llm_metadata_keys=[], relationships={}, text='這張圖片包含了一份營運績效分析月報，其中包含以下指標：\\n\\n**成本**:\\n* 銷貨成本\\n* 原物料成本\\n* 燃料\\n* 其他成本\\n\\n**銷售**:\\n* 銷貨收入\\n* 營業成本\\n* 營業毛利\\n* 營業費用\\n\\n**費用**:\\n* 製造費用\\n* 銷售費用\\n* 管理費用\\n\\n**淨利**:\\n* 稅前淨利\\n* 稅後淨利\\n\\n**其他**:\\n* 損益表\\n* 損益\\n* 銷售額\\n* 銷貨量\\n* 存貨\\n* 應收帳款\\n* 應付帳款\\n* 固定資產\\n* 流動資產\\n* 負債\\n* 股東權益\\n\\n這些指標可以幫助使用者了解公司在特定時期的財務狀況和營運績效。\\n', mimetype='text/plain', start_char_idx=None, end_char_idx=None, text_template='{metadata_str}\\n\\n{content}', metadata_template='{key}: {value}', metadata_seperator='\\n'),\n",
       " Document(id_='7dedfe8c-8a21-4b10-b157-52aba7ae6a8b', embedding=None, metadata={'rowid': 'AAi0soABZAAAACOAAB', 'dashboard_name': '投控經營分析', 'report_name': '華紙-營運績效分析日報', 'page_name': '工廠面', 'pic_name': '工廠面3.JPG', 'description': '這張圖片包含報表，包含投控經營分析華紙-營運績效分析日報工廠面的一些相關分析指標。\\n\\n**生產指標：**\\n\\n- OEE：79.01%\\n- 效率：78.35%\\n\\n**庫存指標：**\\n\\n- 纖維庫存量：(T)\\n- 今日進料量：133.75 (T)\\n- 今日耗用量：83.68 (T)\\n- TOCC庫存量：1,408 (T)\\n- 今日進料量：217 (T)\\n- 今日耗用量：100 (T)\\n- 煤炭庫存量：(T)\\n- 已備在途量：(T)\\n- 今日進料量：171.72 (T)\\n- 今日耗用量：(T)\\n- 油的庫存量：123.84 (T)\\n- 今日進料量：(T)\\n- 今日耗用量：0.25 (T)\\n\\n**能源指標(紙機)：**\\n\\n- 紙漿量：(T)\\n- 噸紙汽量：(T)\\n- 噸紙電量：(T)\\n\\n**環保指標：**\\n\\n- 累積空氣排放超標次數：0 (次)\\n- 累積水排放超標次數：0 (次)\\n- 水質檢測：\\n    - 溫度：36.28\\n    - PH：7.49\\n    - COD：117.53\\n    - SS：13.00\\n- 空氣檢測：\\n    - SO2：5,425\\n    - NOx：128,029\\n    - OP：6\\n\\n這些指標可以幫助相關人員了解工廠的生產效率、庫存狀況、能源消耗和環保表現。'}, excluded_embed_metadata_keys=[], excluded_llm_metadata_keys=[], relationships={}, text='這張圖片包含報表，包含投控經營分析華紙-營運績效分析日報工廠面的一些相關分析指標。\\n\\n**生產指標：**\\n\\n- OEE：79.01%\\n- 效率：78.35%\\n\\n**庫存指標：**\\n\\n- 纖維庫存量：(T)\\n- 今日進料量：133.75 (T)\\n- 今日耗用量：83.68 (T)\\n- TOCC庫存量：1,408 (T)\\n- 今日進料量：217 (T)\\n- 今日耗用量：100 (T)\\n- 煤炭庫存量：(T)\\n- 已備在途量：(T)\\n- 今日進料量：171.72 (T)\\n- 今日耗用量：(T)\\n- 油的庫存量：123.84 (T)\\n- 今日進料量：(T)\\n- 今日耗用量：0.25 (T)\\n\\n**能源指標(紙機)：**\\n\\n- 紙漿量：(T)\\n- 噸紙汽量：(T)\\n- 噸紙電量：(T)\\n\\n**環保指標：**\\n\\n- 累積空氣排放超標次數：0 (次)\\n- 累積水排放超標次數：0 (次)\\n- 水質檢測：\\n    - 溫度：36.28\\n    - PH：7.49\\n    - COD：117.53\\n    - SS：13.00\\n- 空氣檢測：\\n    - SO2：5,425\\n    - NOx：128,029\\n    - OP：6\\n\\n這些指標可以幫助相關人員了解工廠的生產效率、庫存狀況、能源消耗和環保表現。', mimetype='text/plain', start_char_idx=None, end_char_idx=None, text_template='{metadata_str}\\n\\n{content}', metadata_template='{key}: {value}', metadata_seperator='\\n'),\n",
       " Document(id_='66715aff-f21f-4c57-88d8-83b6cc989029', embedding=None, metadata={'rowid': 'AAi0soABZAAAACMAAE', 'dashboard_name': '投控經營分析', 'report_name': '華紙-營運績效分析月報', 'page_name': '銷售面', 'pic_name': '銷售面-事故金額狀況.jpg', 'description': '這張圖片顯示了**華紙-營運績效分析月報銷售面**的數據，以柱狀圖的形式呈現。 \\n\\n**圖表中的分析指標包括：**\\n\\n* **時間軸：** 2024/01 到 2024/07\\n* **銷售金額：** 每個月份的總銷售金額，單位為仟元\\n* **銷售項目：** \\n    * **花蓮廠**\\n    * **總公司**\\n    * **新舊廠**\\n    * **合資廠**\\n    * **久堂廠**\\n\\n**圖表可以幫助你了解**：\\n\\n* 每個月份的總銷售金額\\n* 不同銷售項目在每個月份的銷售額\\n* 不同銷售項目的銷售額佔總銷售額的比例\\n\\n**你可以使用這張圖表查詢**：\\n\\n* 某個月份的總銷售金額\\n* 某個銷售項目的銷售額\\n* 某個銷售項目在某個月份的銷售額\\n\\n**請注意**：\\n\\n* 圖表僅顯示銷售額，未顯示其他指標，例如成本、利潤等。\\n* 圖表數據可能為預估值，實際數據可能有所差異。\\n'}, excluded_embed_metadata_keys=[], excluded_llm_metadata_keys=[], relationships={}, text='這張圖片顯示了**華紙-營運績效分析月報銷售面**的數據，以柱狀圖的形式呈現。 \\n\\n**圖表中的分析指標包括：**\\n\\n* **時間軸：** 2024/01 到 2024/07\\n* **銷售金額：** 每個月份的總銷售金額，單位為仟元\\n* **銷售項目：** \\n    * **花蓮廠**\\n    * **總公司**\\n    * **新舊廠**\\n    * **合資廠**\\n    * **久堂廠**\\n\\n**圖表可以幫助你了解**：\\n\\n* 每個月份的總銷售金額\\n* 不同銷售項目在每個月份的銷售額\\n* 不同銷售項目的銷售額佔總銷售額的比例\\n\\n**你可以使用這張圖表查詢**：\\n\\n* 某個月份的總銷售金額\\n* 某個銷售項目的銷售額\\n* 某個銷售項目在某個月份的銷售額\\n\\n**請注意**：\\n\\n* 圖表僅顯示銷售額，未顯示其他指標，例如成本、利潤等。\\n* 圖表數據可能為預估值，實際數據可能有所差異。\\n', mimetype='text/plain', start_char_idx=None, end_char_idx=None, text_template='{metadata_str}\\n\\n{content}', metadata_template='{key}: {value}', metadata_seperator='\\n'),\n",
       " Document(id_='121d7106-f792-43e8-a58c-ec25e4551d28', embedding=None, metadata={'rowid': 'AAi0soABZAAAACUAAA', 'dashboard_name': '投控經營分析', 'report_name': '華紙-營運績效分析月報', 'page_name': '漿線生產狀況', 'pic_name': '漿線生產狀況-停機時間.jpg', 'description': '這張圖片只顯示了一項指標：**停機時間**，單位為分鐘，數值为50,750。\\n\\n如果需要其他指標，請提供圖片或更多資訊。\\n'}, excluded_embed_metadata_keys=[], excluded_llm_metadata_keys=[], relationships={}, text='這張圖片只顯示了一項指標：**停機時間**，單位為分鐘，數值为50,750。\\n\\n如果需要其他指標，請提供圖片或更多資訊。\\n', mimetype='text/plain', start_char_idx=None, end_char_idx=None, text_template='{metadata_str}\\n\\n{content}', metadata_template='{key}: {value}', metadata_seperator='\\n'),\n",
       " Document(id_='1fd2a06c-b256-409c-a9cf-264bba50a6ad', embedding=None, metadata={'rowid': 'AAi0soABZAAAACWAAG', 'dashboard_name': '投控經營分析', 'report_name': '華紙-營運績效分析月報', 'page_name': '事業部層', 'pic_name': '事業部層-全廠損益.jpg', 'description': '這張圖片顯示了一份華紙營運績效分析月報，包含了各事業部的相關分析指標。表格中顯示了以下指標：\\n\\n**本月**\\n- 銷售收入\\n- 銷售成本\\n- 銷售毛利\\n- 營業利益\\n- 稅前淨利\\n\\n**全年累計**\\n- 銷售收入\\n- 銷售成本\\n- 銷售毛利\\n- 營業利益\\n- 稅前淨利\\n- 年度預算\\n- 達成率\\n\\n表格中的商品類別包含：\\n- 等等(造紙業)\\n- 久違(紙)\\n- 花蓮(紙)\\n- 台紙(紙)\\n- 智慧(紙)\\n- P板(紙)\\n- 昆山紙業(CNY)\\n- 昆林紙業(CNY)\\n- 纖維製品(CNY)\\n- 合紙(紙)\\n\\n您可以根據您的需要，查詢您感興趣的指標。\\n'}, excluded_embed_metadata_keys=[], excluded_llm_metadata_keys=[], relationships={}, text='這張圖片顯示了一份華紙營運績效分析月報，包含了各事業部的相關分析指標。表格中顯示了以下指標：\\n\\n**本月**\\n- 銷售收入\\n- 銷售成本\\n- 銷售毛利\\n- 營業利益\\n- 稅前淨利\\n\\n**全年累計**\\n- 銷售收入\\n- 銷售成本\\n- 銷售毛利\\n- 營業利益\\n- 稅前淨利\\n- 年度預算\\n- 達成率\\n\\n表格中的商品類別包含：\\n- 等等(造紙業)\\n- 久違(紙)\\n- 花蓮(紙)\\n- 台紙(紙)\\n- 智慧(紙)\\n- P板(紙)\\n- 昆山紙業(CNY)\\n- 昆林紙業(CNY)\\n- 纖維製品(CNY)\\n- 合紙(紙)\\n\\n您可以根據您的需要，查詢您感興趣的指標。\\n', mimetype='text/plain', start_char_idx=None, end_char_idx=None, text_template='{metadata_str}\\n\\n{content}', metadata_template='{key}: {value}', metadata_seperator='\\n'),\n",
       " Document(id_='34852865-997d-4b9e-b498-f4e5160e1499', embedding=None, metadata={'rowid': 'AAi0soABZAAAACOAAA', 'dashboard_name': '投控經營分析', 'report_name': '華紙-營運績效分析日報', 'page_name': '工廠面', 'pic_name': '工廠面2.JPG', 'description': '這張圖片顯示的數據包含生產、庫存和能源指標，以及環境指標。\\n\\n**生產指標**\\n\\n* **OEE** (整體設備效能)：69.59%\\n* **良率**：100.00%\\n* **報廢量**：739 (T)\\n* **紙產量**： (T)\\n\\n**庫存指標**\\n\\n* **紙漿庫存**：736.66 (T)\\n* **今日進料量**：0.00 (T)\\n* **今日耗用量**：13.00 (T)\\n* **木材庫存**：112,677 (T)\\n* **今日進料量**：0 (T)\\n* **今日耗用量**：1,326 (T)\\n* **油的庫存**： (KL)\\n* **今日進料量**：128.14 (KL)\\n* **今日耗用量**： (KL)\\n\\n**能源指標**\\n\\n* **吸耗氣量**：(T)\\n* **吸耗電量**：(T)\\n\\n**環境指標**\\n\\n* **累積空氣排放超標次數**：0 (次)\\n* **累積水排放超標次數**：0 (次)\\n* **水質檢測**\\n    * **溫度**：32.68\\n    * **PH**：7.33\\n    * **COD**：94.69\\n    * **SS**：4.12\\n* **空氣檢測**\\n    * **SO2**\\n    * **NOX**\\n    * **OP**：16\\n\\n這張報表提供了一個全面的生產、庫存、能源和環境指標的概覽。不同的人可以根據自己感興趣的指標來查詢和分析數據。\\n'}, excluded_embed_metadata_keys=[], excluded_llm_metadata_keys=[], relationships={}, text='這張圖片顯示的數據包含生產、庫存和能源指標，以及環境指標。\\n\\n**生產指標**\\n\\n* **OEE** (整體設備效能)：69.59%\\n* **良率**：100.00%\\n* **報廢量**：739 (T)\\n* **紙產量**： (T)\\n\\n**庫存指標**\\n\\n* **紙漿庫存**：736.66 (T)\\n* **今日進料量**：0.00 (T)\\n* **今日耗用量**：13.00 (T)\\n* **木材庫存**：112,677 (T)\\n* **今日進料量**：0 (T)\\n* **今日耗用量**：1,326 (T)\\n* **油的庫存**： (KL)\\n* **今日進料量**：128.14 (KL)\\n* **今日耗用量**： (KL)\\n\\n**能源指標**\\n\\n* **吸耗氣量**：(T)\\n* **吸耗電量**：(T)\\n\\n**環境指標**\\n\\n* **累積空氣排放超標次數**：0 (次)\\n* **累積水排放超標次數**：0 (次)\\n* **水質檢測**\\n    * **溫度**：32.68\\n    * **PH**：7.33\\n    * **COD**：94.69\\n    * **SS**：4.12\\n* **空氣檢測**\\n    * **SO2**\\n    * **NOX**\\n    * **OP**：16\\n\\n這張報表提供了一個全面的生產、庫存、能源和環境指標的概覽。不同的人可以根據自己感興趣的指標來查詢和分析數據。\\n', mimetype='text/plain', start_char_idx=None, end_char_idx=None, text_template='{metadata_str}\\n\\n{content}', metadata_template='{key}: {value}', metadata_seperator='\\n'),\n",
       " Document(id_='c08b6512-f340-402e-91f6-6086cb048d6b', embedding=None, metadata={'rowid': 'AAi0soABZAAAACOAAD', 'dashboard_name': '投控經營分析', 'report_name': '華紙-營運績效分析日報', 'page_name': '生產面', 'pic_name': '漿線生產指標.JPG', 'description': '這張圖片顯示了生產生活指標，包含以下資訊：\\n\\n* **殘餘金額**：32（金）\\n* **木片投入量**：792（BDT）\\n* **人員量**：251（T）\\n* **合格率**：0％\\n* **漂完儲存量**：110（T）\\n* **非計畫停機**：0（Min）\\n\\n這個表格提供了生產方面的相關數據，可以幫助了解生產效率、原料使用情况、產能和停機時間等信息。\\n'}, excluded_embed_metadata_keys=[], excluded_llm_metadata_keys=[], relationships={}, text='這張圖片顯示了生產生活指標，包含以下資訊：\\n\\n* **殘餘金額**：32（金）\\n* **木片投入量**：792（BDT）\\n* **人員量**：251（T）\\n* **合格率**：0％\\n* **漂完儲存量**：110（T）\\n* **非計畫停機**：0（Min）\\n\\n這個表格提供了生產方面的相關數據，可以幫助了解生產效率、原料使用情况、產能和停機時間等信息。\\n', mimetype='text/plain', start_char_idx=None, end_char_idx=None, text_template='{metadata_str}\\n\\n{content}', metadata_template='{key}: {value}', metadata_seperator='\\n'),\n",
       " Document(id_='eae03a6a-e1e4-44e9-998b-410290c25b67', embedding=None, metadata={'rowid': 'AAi0soABZAAAACWAAD', 'dashboard_name': '投控經營分析', 'report_name': '華紙-營運績效分析日報', 'page_name': '銷售面', 'pic_name': '銷售面4.JPG', 'description': '這張圖表顯示了四個類別的數據在六個月的時間序列中的變化。\\n\\n圖表中的指標包括：\\n\\n* **時間**：2024年1月到2024年6月\\n* **久坐**：在六個月的時間內，久坐的數量從40,405下降到32,853。\\n* **合束**：在六個月的時間內，合束的數量從12,239下降到12,769，然後回升。\\n* **花箱**：在六個月的時間內，花箱的數量從8,837下降到5,429。\\n* **紙漿**：在六個月的時間內，紙漿的數量從23,506下降到5,429。\\n\\n使用者可以根據這些指標查詢圖表，了解相關數據在時間上的變化趨勢。'}, excluded_embed_metadata_keys=[], excluded_llm_metadata_keys=[], relationships={}, text='這張圖表顯示了四個類別的數據在六個月的時間序列中的變化。\\n\\n圖表中的指標包括：\\n\\n* **時間**：2024年1月到2024年6月\\n* **久坐**：在六個月的時間內，久坐的數量從40,405下降到32,853。\\n* **合束**：在六個月的時間內，合束的數量從12,239下降到12,769，然後回升。\\n* **花箱**：在六個月的時間內，花箱的數量從8,837下降到5,429。\\n* **紙漿**：在六個月的時間內，紙漿的數量從23,506下降到5,429。\\n\\n使用者可以根據這些指標查詢圖表，了解相關數據在時間上的變化趨勢。', mimetype='text/plain', start_char_idx=None, end_char_idx=None, text_template='{metadata_str}\\n\\n{content}', metadata_template='{key}: {value}', metadata_seperator='\\n'),\n",
       " Document(id_='a9dfe3a5-a614-4af3-91c5-d35ebea13cca', embedding=None, metadata={'rowid': 'AAi0soABZAAAACPAAI', 'dashboard_name': '投控經營分析', 'report_name': '華紙-營運績效分析月報', 'page_name': '銷售面', 'pic_name': '銷售面-銷售量區域分布圖.jpg', 'description': '這張圖片顯示了銷售區域分布圖，分成內銷與外銷。\\n\\n**內銷**部分顯示了台灣各地銷售金額的分布，由不同顏色圓圈的大小代表不同城市的銷售金額，圓圈越大，銷售金額越高。\\n\\n**外銷**部分則顯示了全球各地的銷售金額分布，由不同顏色圓圈的大小代表不同國家/地區的銷售金額，圓圈越大，銷售金額越高。\\n\\n**分析指標：**\\n\\n* **銷售金額**：以圓圈大小顯示，代表每個城市或國家/地區的銷售金額。\\n* **銷售區域**：以地圖顏色區分，代表不同城市或國家/地區的銷售區域。\\n* **內銷/外銷**：以地圖顯示，代表銷售區域是內銷或外銷。\\n\\n**這張圖表可以幫助相關人員了解：**\\n\\n* 台灣各地與全球各地的銷售狀況。\\n* 銷售金額最大的城市或國家/地區。\\n* 銷售區域的分布情況。\\n\\n**其他分析指標可能需要參考其他報告或資料，例如：**\\n\\n* 銷售額成長率\\n* 利潤率\\n* 客戶數量\\n* 競爭對手分析\\n* 市場趨勢分析\\n\\n**需要注意的是，這張圖表只顯示了銷售區域分布，並未提供其他更詳細的分析指標。**\\n'}, excluded_embed_metadata_keys=[], excluded_llm_metadata_keys=[], relationships={}, text='這張圖片顯示了銷售區域分布圖，分成內銷與外銷。\\n\\n**內銷**部分顯示了台灣各地銷售金額的分布，由不同顏色圓圈的大小代表不同城市的銷售金額，圓圈越大，銷售金額越高。\\n\\n**外銷**部分則顯示了全球各地的銷售金額分布，由不同顏色圓圈的大小代表不同國家/地區的銷售金額，圓圈越大，銷售金額越高。\\n\\n**分析指標：**\\n\\n* **銷售金額**：以圓圈大小顯示，代表每個城市或國家/地區的銷售金額。\\n* **銷售區域**：以地圖顏色區分，代表不同城市或國家/地區的銷售區域。\\n* **內銷/外銷**：以地圖顯示，代表銷售區域是內銷或外銷。\\n\\n**這張圖表可以幫助相關人員了解：**\\n\\n* 台灣各地與全球各地的銷售狀況。\\n* 銷售金額最大的城市或國家/地區。\\n* 銷售區域的分布情況。\\n\\n**其他分析指標可能需要參考其他報告或資料，例如：**\\n\\n* 銷售額成長率\\n* 利潤率\\n* 客戶數量\\n* 競爭對手分析\\n* 市場趨勢分析\\n\\n**需要注意的是，這張圖表只顯示了銷售區域分布，並未提供其他更詳細的分析指標。**\\n', mimetype='text/plain', start_char_idx=None, end_char_idx=None, text_template='{metadata_str}\\n\\n{content}', metadata_template='{key}: {value}', metadata_seperator='\\n'),\n",
       " Document(id_='190767b9-a80b-4f4e-a287-24b95a5fdf4e', embedding=None, metadata={'rowid': 'AAi0soABZAAAACXAAG', 'dashboard_name': '投控經營分析', 'report_name': '華紙-營運績效分析月報', 'page_name': '紙機別損益', 'pic_name': '紙機別損益-完整畫面.jpg', 'description': 'This table shows the monthly operational performance analysis of Hua Shi paper making machine profit and loss.  It includes the following analysis indicators:\\n\\n**Product:** PM1, PM2, PM7, Total, Combined total\\n\\n**Product Types:**  Raw materials, finished products, subtotals \\n\\n**Indicators:**  \\n\\n* Sales revenue\\n* Cost of goods sold\\n* Gross profit\\n* Unit price\\n* Inside cost of goods sold\\n* Inside gross profit\\n* Outside cost of goods sold\\n* Outside gross profit\\n* Gross profit rate\\n* Fixed cost\\n* Sales profit\\n* Sales profit rate\\n* Inventory\\n* Receivables\\n* Fixed asset depreciation\\n* Direct material cost\\n* Variable cost\\n* Total profit and loss\\n\\nYou can use this table to find specific product performance data, such as sales revenue, cost of goods sold, and profit, for each product type. You can also see how each product type has performed over time by comparing the data from different months.\\n\\nFor example, if you are interested in the profit and loss of finished products for PM1, you can find this information in the row labeled \"Finished products\" under the \"PM1\" column. You can also see the sales profit rate and total profit and loss for PM1.\\n\\nThis table is a valuable tool for anyone who wants to understand the operational performance of Hua Shi paper making machine. \\n'}, excluded_embed_metadata_keys=[], excluded_llm_metadata_keys=[], relationships={}, text='This table shows the monthly operational performance analysis of Hua Shi paper making machine profit and loss.  It includes the following analysis indicators:\\n\\n**Product:** PM1, PM2, PM7, Total, Combined total\\n\\n**Product Types:**  Raw materials, finished products, subtotals \\n\\n**Indicators:**  \\n\\n* Sales revenue\\n* Cost of goods sold\\n* Gross profit\\n* Unit price\\n* Inside cost of goods sold\\n* Inside gross profit\\n* Outside cost of goods sold\\n* Outside gross profit\\n* Gross profit rate\\n* Fixed cost\\n* Sales profit\\n* Sales profit rate\\n* Inventory\\n* Receivables\\n* Fixed asset depreciation\\n* Direct material cost\\n* Variable cost\\n* Total profit and loss\\n\\nYou can use this table to find specific product performance data, such as sales revenue, cost of goods sold, and profit, for each product type. You can also see how each product type has performed over time by comparing the data from different months.\\n\\nFor example, if you are interested in the profit and loss of finished products for PM1, you can find this information in the row labeled \"Finished products\" under the \"PM1\" column. You can also see the sales profit rate and total profit and loss for PM1.\\n\\nThis table is a valuable tool for anyone who wants to understand the operational performance of Hua Shi paper making machine. \\n', mimetype='text/plain', start_char_idx=None, end_char_idx=None, text_template='{metadata_str}\\n\\n{content}', metadata_template='{key}: {value}', metadata_seperator='\\n'),\n",
       " Document(id_='cef2ea14-74cc-40fc-b9eb-2ac19b259182', embedding=None, metadata={'rowid': 'AAi0soABZAAAACLAAD', 'dashboard_name': '投控經營分析', 'report_name': '華紙-營運績效分析月報', 'page_name': '紙機生產狀況', 'pic_name': '紙機生產狀況-月產趨勢圖.jpg', 'description': '這張圖顯示的是 **2024 年每月紙機生產量** 的數據。圖表顯示了每個月的紙機生產量，單位是 T。\\n\\n圖表的 X 軸代表月份，Y 軸代表生產量。圖表顯示了 2024 年 1 月至 5 月的紙機生產量，分別為：\\n\\n* 1 月：146.90 T\\n* 2 月：109.36 T\\n* 3 月：145.09 T\\n* 4 月：110.77 T\\n* 5 月：138.98 T\\n\\n圖表中沒有其他指標。\\n'}, excluded_embed_metadata_keys=[], excluded_llm_metadata_keys=[], relationships={}, text='這張圖顯示的是 **2024 年每月紙機生產量** 的數據。圖表顯示了每個月的紙機生產量，單位是 T。\\n\\n圖表的 X 軸代表月份，Y 軸代表生產量。圖表顯示了 2024 年 1 月至 5 月的紙機生產量，分別為：\\n\\n* 1 月：146.90 T\\n* 2 月：109.36 T\\n* 3 月：145.09 T\\n* 4 月：110.77 T\\n* 5 月：138.98 T\\n\\n圖表中沒有其他指標。\\n', mimetype='text/plain', start_char_idx=None, end_char_idx=None, text_template='{metadata_str}\\n\\n{content}', metadata_template='{key}: {value}', metadata_seperator='\\n'),\n",
       " Document(id_='3370e0cd-4af7-41fc-b24d-1ecd73d85a41', embedding=None, metadata={'rowid': 'AAi0soABZAAAACXAAC', 'dashboard_name': '投控經營分析', 'report_name': '華紙-營運績效分析月報', 'page_name': '工廠層', 'pic_name': '工廠層-字卡1.jpg', 'description': '這張圖片包含了以下分析指標：\\n* 銷售值(仟元)\\n* 銷售量(T)\\n* 損益(仟元)\\n* 銷售毛利率(T)\\n* 固定成本(仟元)\\n\\n每個指標都有當月的數字、相較於上個月的變化率(MoM)以及相較於去年同期的變化率(YoY)。'}, excluded_embed_metadata_keys=[], excluded_llm_metadata_keys=[], relationships={}, text='這張圖片包含了以下分析指標：\\n* 銷售值(仟元)\\n* 銷售量(T)\\n* 損益(仟元)\\n* 銷售毛利率(T)\\n* 固定成本(仟元)\\n\\n每個指標都有當月的數字、相較於上個月的變化率(MoM)以及相較於去年同期的變化率(YoY)。', mimetype='text/plain', start_char_idx=None, end_char_idx=None, text_template='{metadata_str}\\n\\n{content}', metadata_template='{key}: {value}', metadata_seperator='\\n'),\n",
       " Document(id_='7192bd9a-5af2-4f84-b602-b6ead07070b1', embedding=None, metadata={'rowid': 'AAi0soABZAAAACOAAJ', 'dashboard_name': '投控經營分析', 'report_name': '華紙-營運績效分析日報', 'page_name': '工廠面', 'pic_name': '工廠面1.JPG', 'description': '這張圖包含以下分析指標:\\n\\n**生產指標**\\n* OEE\\n* 良品率\\n\\n**能源指標**\\n* 噸耗汽量\\n* 噸耗電量\\n\\n**庫存指標**\\n* 紙漿庫存量\\n* 今日進料量\\n* 今日耗用量\\n* 煤炭庫存量\\n* 已備在途量\\n* 今日進料量\\n* 今日耗用量\\n\\n**環保指標**\\n* 累積空氣排放超標次數\\n* 累積水排放超標次數\\n* 水體檢測: 溫度、PH、COD、SS\\n* 空氣檢測: SO2、NOx、OP\\n\\n**紙量**\\n* 紙量 \\n\\n此外，該圖還包含了以下資訊: \\n* 日報\\n* 工廠面\\n* 華紙-營運績效分析\\n\\n使用者可以根據自己的需求，查詢該圖是否包含他們感興趣的指標。\\n'}, excluded_embed_metadata_keys=[], excluded_llm_metadata_keys=[], relationships={}, text='這張圖包含以下分析指標:\\n\\n**生產指標**\\n* OEE\\n* 良品率\\n\\n**能源指標**\\n* 噸耗汽量\\n* 噸耗電量\\n\\n**庫存指標**\\n* 紙漿庫存量\\n* 今日進料量\\n* 今日耗用量\\n* 煤炭庫存量\\n* 已備在途量\\n* 今日進料量\\n* 今日耗用量\\n\\n**環保指標**\\n* 累積空氣排放超標次數\\n* 累積水排放超標次數\\n* 水體檢測: 溫度、PH、COD、SS\\n* 空氣檢測: SO2、NOx、OP\\n\\n**紙量**\\n* 紙量 \\n\\n此外，該圖還包含了以下資訊: \\n* 日報\\n* 工廠面\\n* 華紙-營運績效分析\\n\\n使用者可以根據自己的需求，查詢該圖是否包含他們感興趣的指標。\\n', mimetype='text/plain', start_char_idx=None, end_char_idx=None, text_template='{metadata_str}\\n\\n{content}', metadata_template='{key}: {value}', metadata_seperator='\\n'),\n",
       " Document(id_='5bdb11d8-c947-4ef1-8e9f-f2acec5cd3c7', embedding=None, metadata={'rowid': 'AAi0soABZAAAACUAAB', 'dashboard_name': '投控經營分析', 'report_name': '華紙-營運績效分析日報', 'page_name': '生產面', 'pic_name': '紙機生產指標.jpg', 'description': '這張圖片顯示的是生產日報的分析指標，包含以下內容：\\n\\n* **速度**\\n* **日排程**\\n* **有效運轉率**\\n* **產出量 (T)**\\n* **產能負荷率**\\n* **良率**\\n* **紙漿系統負載 (KWH/T)**\\n* **紙漿用電量 (T/T)**\\n* **計劃停機時間 (Min)**\\n* **非計劃停機 (Min)**\\n\\n您可以根據以上指標說明，查詢這張表是否包含您有興趣的指標。\\n'}, excluded_embed_metadata_keys=[], excluded_llm_metadata_keys=[], relationships={}, text='這張圖片顯示的是生產日報的分析指標，包含以下內容：\\n\\n* **速度**\\n* **日排程**\\n* **有效運轉率**\\n* **產出量 (T)**\\n* **產能負荷率**\\n* **良率**\\n* **紙漿系統負載 (KWH/T)**\\n* **紙漿用電量 (T/T)**\\n* **計劃停機時間 (Min)**\\n* **非計劃停機 (Min)**\\n\\n您可以根據以上指標說明，查詢這張表是否包含您有興趣的指標。\\n', mimetype='text/plain', start_char_idx=None, end_char_idx=None, text_template='{metadata_str}\\n\\n{content}', metadata_template='{key}: {value}', metadata_seperator='\\n'),\n",
       " Document(id_='1c5a6d62-0aa7-4702-bae0-0c0b4898d1b5', embedding=None, metadata={'rowid': 'AAi0soABZAAAACWAAA', 'dashboard_name': '投控經營分析', 'report_name': '華紙-營運績效分析日報', 'page_name': '銷售面', 'pic_name': '銷售面1.JPG', 'description': '這張圖片包含報表投控經營分析華紙 - 營運績效分析日報銷售面的相關分析指標。\\n\\n**第一張圖表是「產品銷售達成率」分析**\\n\\n* 分類：\\n    * 枱位新\\n    * CCK\\n    * 全攻略\\n    * 複製紙\\n\\n* 指標：\\n    * 實際數\\n    * 月目標銷售量\\n    * 達成率\\n    * 銷售額\\n    * 月目標銷售額差異率\\n\\n**第二張圖表是「產品下單狀況」分析**\\n\\n* 分類：\\n    * 枱位新\\n    * CCK\\n    * 全攻略\\n    * 複製紙\\n\\n* 指標：\\n    * 達成量\\n    * 月目標銷售量\\n    * 達成率\\n    * 銷售量\\n    * 月目標銷售額差異率\\n\\n這張圖表可以幫助相關人員查詢知道是否包含他們有興趣的指標。\\n'}, excluded_embed_metadata_keys=[], excluded_llm_metadata_keys=[], relationships={}, text='這張圖片包含報表投控經營分析華紙 - 營運績效分析日報銷售面的相關分析指標。\\n\\n**第一張圖表是「產品銷售達成率」分析**\\n\\n* 分類：\\n    * 枱位新\\n    * CCK\\n    * 全攻略\\n    * 複製紙\\n\\n* 指標：\\n    * 實際數\\n    * 月目標銷售量\\n    * 達成率\\n    * 銷售額\\n    * 月目標銷售額差異率\\n\\n**第二張圖表是「產品下單狀況」分析**\\n\\n* 分類：\\n    * 枱位新\\n    * CCK\\n    * 全攻略\\n    * 複製紙\\n\\n* 指標：\\n    * 達成量\\n    * 月目標銷售量\\n    * 達成率\\n    * 銷售量\\n    * 月目標銷售額差異率\\n\\n這張圖表可以幫助相關人員查詢知道是否包含他們有興趣的指標。\\n', mimetype='text/plain', start_char_idx=None, end_char_idx=None, text_template='{metadata_str}\\n\\n{content}', metadata_template='{key}: {value}', metadata_seperator='\\n'),\n",
       " Document(id_='e0814e97-a70b-4fbd-896c-a9dba15bae2a', embedding=None, metadata={'rowid': 'AAi0soABZAAAACOAAC', 'dashboard_name': '投控經營分析', 'report_name': '華紙-營運績效分析日報', 'page_name': '生產面', 'pic_name': '汽電生產指標.JPG', 'description': '這張圖片是一個簡單的報表，用來顯示紙廠生產相關的資訊。以下列出包含的分析指標：\\n\\n* **發電量 (KWH)**：表示發電量\\n* **蒸汽量 (T)**：表示蒸汽產量\\n* **內送電 (KWH)**：表示內送電量\\n* **用燃料 (T)**：表示用燃料量\\n* **清水用量 (T)**：表示清水使用量\\n* **外購電量 (KWH)**：表示外購電量\\n* **製漿度**：表示製漿的程度\\n* **半製漿度**：表示半製漿的程度\\n* **磨漿 2.08 度**：表示磨漿的程度\\n* **269,431 度**：表示磨漿的程度\\n* **週六半製漿度**：表示週六半製漿的程度\\n* **契約用電 (KWH)**：表示契約用電量\\n\\n這張表主要用來顯示紙廠生產相關的資訊，例如發電量、蒸汽量、用燃料量等等。使用者可以根據自己的需求查詢表中包含的指標。\\n'}, excluded_embed_metadata_keys=[], excluded_llm_metadata_keys=[], relationships={}, text='這張圖片是一個簡單的報表，用來顯示紙廠生產相關的資訊。以下列出包含的分析指標：\\n\\n* **發電量 (KWH)**：表示發電量\\n* **蒸汽量 (T)**：表示蒸汽產量\\n* **內送電 (KWH)**：表示內送電量\\n* **用燃料 (T)**：表示用燃料量\\n* **清水用量 (T)**：表示清水使用量\\n* **外購電量 (KWH)**：表示外購電量\\n* **製漿度**：表示製漿的程度\\n* **半製漿度**：表示半製漿的程度\\n* **磨漿 2.08 度**：表示磨漿的程度\\n* **269,431 度**：表示磨漿的程度\\n* **週六半製漿度**：表示週六半製漿的程度\\n* **契約用電 (KWH)**：表示契約用電量\\n\\n這張表主要用來顯示紙廠生產相關的資訊，例如發電量、蒸汽量、用燃料量等等。使用者可以根據自己的需求查詢表中包含的指標。\\n', mimetype='text/plain', start_char_idx=None, end_char_idx=None, text_template='{metadata_str}\\n\\n{content}', metadata_template='{key}: {value}', metadata_seperator='\\n'),\n",
       " Document(id_='e88bd7a5-f17b-4411-a137-a46a59f20767', embedding=None, metadata={'rowid': 'AAi0soABZAAAACWAAC', 'dashboard_name': '投控經營分析', 'report_name': '華紙-營運績效分析日報', 'page_name': '銷售面', 'pic_name': '銷售面3.JPG', 'description': '這張圖片顯示的是華紙的營運績效分析日報銷售面，包含了幾個重要的分析指標，可以讓相關的人員查詢是否包含他們感興趣的指標：\\n\\n* **銷售單價:** 這是指每單位產品的銷售價格。\\n* **估計新:** 這是指華紙預估的銷售單價。\\n* **CCK:** 這是指華紙的成本價格。\\n* **全次紙板:** 這是指華紙的紙板銷售價格。\\n* **模造紙:** 這是指華紙的模造紙銷售價格。\\n\\n這些指標可以幫助我們了解華紙的銷售狀況和成本控制情況，以及未來發展趨勢。\\n'}, excluded_embed_metadata_keys=[], excluded_llm_metadata_keys=[], relationships={}, text='這張圖片顯示的是華紙的營運績效分析日報銷售面，包含了幾個重要的分析指標，可以讓相關的人員查詢是否包含他們感興趣的指標：\\n\\n* **銷售單價:** 這是指每單位產品的銷售價格。\\n* **估計新:** 這是指華紙預估的銷售單價。\\n* **CCK:** 這是指華紙的成本價格。\\n* **全次紙板:** 這是指華紙的紙板銷售價格。\\n* **模造紙:** 這是指華紙的模造紙銷售價格。\\n\\n這些指標可以幫助我們了解華紙的銷售狀況和成本控制情況，以及未來發展趨勢。\\n', mimetype='text/plain', start_char_idx=None, end_char_idx=None, text_template='{metadata_str}\\n\\n{content}', metadata_template='{key}: {value}', metadata_seperator='\\n'),\n",
       " Document(id_='7b682cbb-253b-4377-a7d7-989a5d4c90ce', embedding=None, metadata={'rowid': 'AAi0soABZAAAACUAAC', 'dashboard_name': '投控經營分析', 'report_name': '華紙-營運績效分析月報', 'page_name': '工廠層', 'pic_name': '工廠層-銷量及損益歷史趨勢.jpg', 'description': 'This chart shows the **production volume and profit history trends**.\\n\\nThe blue bars represent **production volume (in tons)**, and the orange line represents **profit (in thousands of yuan)**.  \\n\\nThe chart spans from October 2023 to May 2024. \\n\\nYou can find the production volume and profit for each month.\\n'}, excluded_embed_metadata_keys=[], excluded_llm_metadata_keys=[], relationships={}, text='This chart shows the **production volume and profit history trends**.\\n\\nThe blue bars represent **production volume (in tons)**, and the orange line represents **profit (in thousands of yuan)**.  \\n\\nThe chart spans from October 2023 to May 2024. \\n\\nYou can find the production volume and profit for each month.\\n', mimetype='text/plain', start_char_idx=None, end_char_idx=None, text_template='{metadata_str}\\n\\n{content}', metadata_template='{key}: {value}', metadata_seperator='\\n'),\n",
       " Document(id_='9904edd8-4f9d-4381-b9a0-52359a7e9087', embedding=None, metadata={'rowid': 'AAi0soABZAAAACUAAF', 'dashboard_name': '投控經營分析', 'report_name': '華紙-營運績效分析月報', 'page_name': '漿線生產狀況', 'pic_name': '漿線生產狀況-月產趨勢圖.jpg', 'description': '這張圖片展示的是一個 **月產量** 分析圖表，它顯示了 **2024 年** 每個月漿線生產的噸數。\\n\\n* **縱軸** 代表 **月產量**，單位是 **噸 (T)**。\\n* **橫軸** 代表 **月份**。\\n\\n圖表顯示了 2024 年 1 月至 6 月每個月的漿線產量數據，並提供以下資訊：\\n\\n* **1 月** 產量為 **271.56 噸**。\\n* **2 月** 產量為 **273.18 噸**。\\n* **3 月** 產量為 **285.30 噸**。\\n* **4 月** 產量為 **300.55 噸**。\\n* **5 月** 產量為 **310.52 噸**。\\n* **6 月** 產量為 **0.00 噸**。\\n\\n這張圖表可以幫助您了解 2024 年漿線生產的趨勢，並觀察不同月份之間的產量差異。\\n'}, excluded_embed_metadata_keys=[], excluded_llm_metadata_keys=[], relationships={}, text='這張圖片展示的是一個 **月產量** 分析圖表，它顯示了 **2024 年** 每個月漿線生產的噸數。\\n\\n* **縱軸** 代表 **月產量**，單位是 **噸 (T)**。\\n* **橫軸** 代表 **月份**。\\n\\n圖表顯示了 2024 年 1 月至 6 月每個月的漿線產量數據，並提供以下資訊：\\n\\n* **1 月** 產量為 **271.56 噸**。\\n* **2 月** 產量為 **273.18 噸**。\\n* **3 月** 產量為 **285.30 噸**。\\n* **4 月** 產量為 **300.55 噸**。\\n* **5 月** 產量為 **310.52 噸**。\\n* **6 月** 產量為 **0.00 噸**。\\n\\n這張圖表可以幫助您了解 2024 年漿線生產的趨勢，並觀察不同月份之間的產量差異。\\n', mimetype='text/plain', start_char_idx=None, end_char_idx=None, text_template='{metadata_str}\\n\\n{content}', metadata_template='{key}: {value}', metadata_seperator='\\n'),\n",
       " Document(id_='0a72c090-18b5-40d7-b560-575733f81472', embedding=None, metadata={'rowid': 'AAi0soABZAAAACUAAH', 'dashboard_name': '投控經營分析', 'report_name': '華紙-營運績效分析月報', 'page_name': '紙機生產狀況', 'pic_name': '紙機生產狀況-生產變動成本.jpg', 'description': '這張圖表顯示了生產製造成本的組成，可以帮助你了解不同項目在生產成本中所占的比例。\\n\\n**主要分析指標：**\\n\\n* **生產製造成本的總金額：** 顯示了總的生產製造成本。\\n* **各項成本的金額：** 顯示了不同項目在生產成本中的具體金額。\\n* **各項成本的百分比：** 顯示了不同項目在生產成本中所占的比例。 \\n* **累積百分比：** 顯示了累積的成本比例，可以帮助你快速了解不同項目的成本佔比。\\n\\n**可以查詢的指標：**\\n\\n* **各項成本的金額和百分比：** 您可以查看不同項目的成本金額和百分比，例如：\\n    * **原料：** 顯示了原材料的成本。\\n    * **電力：** 顯示了電力的成本。\\n    * **製造成本：** 顯示了生產過程中的成本。\\n    * **人工：** 顯示了人工成本。\\n    * **其他：** 顯示了其他成本。\\n* **累積百分比：** 您可以查看累積百分比，例如：\\n    * **原料的累積百分比：** 顯示了原材料成本佔總成本的比例。\\n    * **原料和電力的累積百分比：** 顯示了原材料和電力成本佔總成本的比例。\\n    * **所有成本的累積百分比：** 顯示了所有成本佔總成本的比例，應該為 100%。\\n\\n**用途：**\\n\\n這張圖表可以帮助您：\\n\\n* 了解生產製造成本的組成。\\n* 分析不同項目的成本佔比。\\n* 找出成本的主要來源。\\n* 評估成本控制的成效。\\n\\n**注意事項：**\\n\\n* 圖表中顯示的數據是特定時間點的數據，可能不代表長期趨勢。\\n* 圖表中沒有提供成本變化的趨勢信息。\\n* 圖表中沒有提供成本控制措施的信息。\\n'}, excluded_embed_metadata_keys=[], excluded_llm_metadata_keys=[], relationships={}, text='這張圖表顯示了生產製造成本的組成，可以帮助你了解不同項目在生產成本中所占的比例。\\n\\n**主要分析指標：**\\n\\n* **生產製造成本的總金額：** 顯示了總的生產製造成本。\\n* **各項成本的金額：** 顯示了不同項目在生產成本中的具體金額。\\n* **各項成本的百分比：** 顯示了不同項目在生產成本中所占的比例。 \\n* **累積百分比：** 顯示了累積的成本比例，可以帮助你快速了解不同項目的成本佔比。\\n\\n**可以查詢的指標：**\\n\\n* **各項成本的金額和百分比：** 您可以查看不同項目的成本金額和百分比，例如：\\n    * **原料：** 顯示了原材料的成本。\\n    * **電力：** 顯示了電力的成本。\\n    * **製造成本：** 顯示了生產過程中的成本。\\n    * **人工：** 顯示了人工成本。\\n    * **其他：** 顯示了其他成本。\\n* **累積百分比：** 您可以查看累積百分比，例如：\\n    * **原料的累積百分比：** 顯示了原材料成本佔總成本的比例。\\n    * **原料和電力的累積百分比：** 顯示了原材料和電力成本佔總成本的比例。\\n    * **所有成本的累積百分比：** 顯示了所有成本佔總成本的比例，應該為 100%。\\n\\n**用途：**\\n\\n這張圖表可以帮助您：\\n\\n* 了解生產製造成本的組成。\\n* 分析不同項目的成本佔比。\\n* 找出成本的主要來源。\\n* 評估成本控制的成效。\\n\\n**注意事項：**\\n\\n* 圖表中顯示的數據是特定時間點的數據，可能不代表長期趨勢。\\n* 圖表中沒有提供成本變化的趨勢信息。\\n* 圖表中沒有提供成本控制措施的信息。\\n', mimetype='text/plain', start_char_idx=None, end_char_idx=None, text_template='{metadata_str}\\n\\n{content}', metadata_template='{key}: {value}', metadata_seperator='\\n'),\n",
       " Document(id_='a30c7518-5f21-477d-aecb-c3aeff45f4d3', embedding=None, metadata={'rowid': 'AAi0soABZAAAACVAAA', 'dashboard_name': '投控經營分析', 'report_name': '華紙-營運績效分析月報', 'page_name': '工廠層', 'pic_name': '工廠層-完整畫面.jpg', 'description': '這張圖片包含報表 投控經營分析華紙-營運績效分析月報工廠層的一些相關分析指標集訊息，包含以下指標：\\n\\n**財務指標:**\\n* 銷售額（仟元）\\n* 銷售量（噸）\\n* 損益（仟元）\\n* 銷售毛額（噸）\\n* 固定成本（仟元）\\n\\n**人力資源指標:**\\n* 全廠人數\\n* 工傷\\n* 罰款\\n\\n**生產指標:**\\n* 產量（噸）\\n* 銷售單價（仟元）\\n* 產量成本（仟元）\\n* 銷售利潤（仟元）\\n* 獲利率（%）\\n\\n**其他指標:**\\n* MoM (月增率)\\n* YoY (年增率)\\n\\n使用者可以根據自身需求查詢以上指標，例如，如果使用者想知道銷售額的月增率，則可以查看銷售額（仟元）欄位的 MoM 值。\\n'}, excluded_embed_metadata_keys=[], excluded_llm_metadata_keys=[], relationships={}, text='這張圖片包含報表 投控經營分析華紙-營運績效分析月報工廠層的一些相關分析指標集訊息，包含以下指標：\\n\\n**財務指標:**\\n* 銷售額（仟元）\\n* 銷售量（噸）\\n* 損益（仟元）\\n* 銷售毛額（噸）\\n* 固定成本（仟元）\\n\\n**人力資源指標:**\\n* 全廠人數\\n* 工傷\\n* 罰款\\n\\n**生產指標:**\\n* 產量（噸）\\n* 銷售單價（仟元）\\n* 產量成本（仟元）\\n* 銷售利潤（仟元）\\n* 獲利率（%）\\n\\n**其他指標:**\\n* MoM (月增率)\\n* YoY (年增率)\\n\\n使用者可以根據自身需求查詢以上指標，例如，如果使用者想知道銷售額的月增率，則可以查看銷售額（仟元）欄位的 MoM 值。\\n', mimetype='text/plain', start_char_idx=None, end_char_idx=None, text_template='{metadata_str}\\n\\n{content}', metadata_template='{key}: {value}', metadata_seperator='\\n'),\n",
       " Document(id_='6a8b23a3-c33b-406c-a3be-b3fe5016df48', embedding=None, metadata={'rowid': 'AAi0soABZAAAACVAAB', 'dashboard_name': '投控經營分析', 'report_name': '華紙-營運績效分析月報', 'page_name': '工廠層', 'pic_name': '工廠層-查詢條件.jpg', 'description': '很抱歉，我無法看到圖片。我是一個文字模型，無法處理任何圖像資訊。'}, excluded_embed_metadata_keys=[], excluded_llm_metadata_keys=[], relationships={}, text='很抱歉，我無法看到圖片。我是一個文字模型，無法處理任何圖像資訊。', mimetype='text/plain', start_char_idx=None, end_char_idx=None, text_template='{metadata_str}\\n\\n{content}', metadata_template='{key}: {value}', metadata_seperator='\\n'),\n",
       " Document(id_='767202aa-3daf-44c3-947d-c53a5ba81272', embedding=None, metadata={'rowid': 'AAi0soABZAAAACWAAB', 'dashboard_name': '投控經營分析', 'report_name': '華紙-營運績效分析日報', 'page_name': '銷售面', 'pic_name': '銷售面2.JPG', 'description': '這張圖表包含報表 **投控經營分析華紙-營運績效分析日報銷售面** 的相關分析指標，包含:\\n\\n* **銷售量**\\n* **估計新**\\n* **CCK**\\n* **全成本採收**\\n* **模組銷售**\\n\\n每個指標在圖表中以不同顏色線條呈現，並附上每個月份的數值。你可以根據這些數據，了解華紙每個月的銷售表現，以及不同指標的變化趨勢。 \\n\\n希望以上資訊能幫助你查詢是否包含了你感興趣的指標。\\n'}, excluded_embed_metadata_keys=[], excluded_llm_metadata_keys=[], relationships={}, text='這張圖表包含報表 **投控經營分析華紙-營運績效分析日報銷售面** 的相關分析指標，包含:\\n\\n* **銷售量**\\n* **估計新**\\n* **CCK**\\n* **全成本採收**\\n* **模組銷售**\\n\\n每個指標在圖表中以不同顏色線條呈現，並附上每個月份的數值。你可以根據這些數據，了解華紙每個月的銷售表現，以及不同指標的變化趨勢。 \\n\\n希望以上資訊能幫助你查詢是否包含了你感興趣的指標。\\n', mimetype='text/plain', start_char_idx=None, end_char_idx=None, text_template='{metadata_str}\\n\\n{content}', metadata_template='{key}: {value}', metadata_seperator='\\n'),\n",
       " Document(id_='e25e25e4-7aaa-4632-895f-f0de4532d8da', embedding=None, metadata={'rowid': 'AAi0soABZAAAACWAAF', 'dashboard_name': '投控經營分析', 'report_name': '華紙-營運績效分析日報', 'page_name': '銷售面', 'pic_name': '銷售面6.JPG', 'description': '這張圖表包含了以下分析指標：\\n\\n* **報表**: 投控經營分析華紙-營運績效分析日報銷售面\\n* **事件數量**: 根據不同部門顯示事件數量，包括：\\n    * **久豐廠**: 69\\n    * **台東廠**: 73\\n    * **新信廠**: 19\\n    * **總公司**: 5\\n    * **花蓮廠**: 40\\n* **事件原因**: 根據不同事件原因顯示數量，包括：\\n    * **BAGGY**: 25\\n    * **PICKING**: 31\\n    * **縫運不良**: 10\\n    * **其他原因**: 2\\n    * **加工強度**: 13\\n    * **包裝不良**: 9\\n    * **水洗**: 2\\n    * **裁縫不良**: 1\\n    * **顏色不良**: 5\\n    * **紙面不良**: 1\\n    * **結構物料性**: 18\\n    * **著運不良**: 7\\n    * **裁切不良**: 5\\n    * **規格不良**: 3\\n\\n\\n你可以根據這些指標查詢，看是否包含你感興趣的指標。'}, excluded_embed_metadata_keys=[], excluded_llm_metadata_keys=[], relationships={}, text='這張圖表包含了以下分析指標：\\n\\n* **報表**: 投控經營分析華紙-營運績效分析日報銷售面\\n* **事件數量**: 根據不同部門顯示事件數量，包括：\\n    * **久豐廠**: 69\\n    * **台東廠**: 73\\n    * **新信廠**: 19\\n    * **總公司**: 5\\n    * **花蓮廠**: 40\\n* **事件原因**: 根據不同事件原因顯示數量，包括：\\n    * **BAGGY**: 25\\n    * **PICKING**: 31\\n    * **縫運不良**: 10\\n    * **其他原因**: 2\\n    * **加工強度**: 13\\n    * **包裝不良**: 9\\n    * **水洗**: 2\\n    * **裁縫不良**: 1\\n    * **顏色不良**: 5\\n    * **紙面不良**: 1\\n    * **結構物料性**: 18\\n    * **著運不良**: 7\\n    * **裁切不良**: 5\\n    * **規格不良**: 3\\n\\n\\n你可以根據這些指標查詢，看是否包含你感興趣的指標。', mimetype='text/plain', start_char_idx=None, end_char_idx=None, text_template='{metadata_str}\\n\\n{content}', metadata_template='{key}: {value}', metadata_seperator='\\n'),\n",
       " Document(id_='f7a8e924-abf5-45d8-8cb7-266c8d09376f', embedding=None, metadata={'rowid': 'AAi0soABZAAAACXAAA', 'dashboard_name': '投控經營分析', 'report_name': '華紙-營運績效分析月報', 'page_name': '事業部層', 'pic_name': '事業部層-營收及損益歷史趨勢.jpg', 'description': '這張圖表顯示的是華紙營運績效分析月報事業部層的營收和損益歷史趨勢，包含以下資訊：\\n\\n* **時間範圍:**  2023年11月至2024年5月\\n* **單位:**  仟元\\n* **指標:** \\n    * **營收:** 藍色柱狀圖，代表每個月的營收金額\\n    * **損益:** 橘色線狀圖，代表每個月的損益金額\\n\\n使用者可以根據時間軸查看每個月的營收和損益狀況，了解公司營運狀況的趨勢。\\n'}, excluded_embed_metadata_keys=[], excluded_llm_metadata_keys=[], relationships={}, text='這張圖表顯示的是華紙營運績效分析月報事業部層的營收和損益歷史趨勢，包含以下資訊：\\n\\n* **時間範圍:**  2023年11月至2024年5月\\n* **單位:**  仟元\\n* **指標:** \\n    * **營收:** 藍色柱狀圖，代表每個月的營收金額\\n    * **損益:** 橘色線狀圖，代表每個月的損益金額\\n\\n使用者可以根據時間軸查看每個月的營收和損益狀況，了解公司營運狀況的趨勢。\\n', mimetype='text/plain', start_char_idx=None, end_char_idx=None, text_template='{metadata_str}\\n\\n{content}', metadata_template='{key}: {value}', metadata_seperator='\\n'),\n",
       " Document(id_='47f9e302-6ce2-4424-8436-fed3ea0af862', embedding=None, metadata={'rowid': 'AAi0soABZAAAACXAAE', 'dashboard_name': '投控經營分析', 'report_name': '華紙-營運績效分析月報', 'page_name': '漿線生產狀況', 'pic_name': '漿線生產狀況-生產變動成本.jpg', 'description': '這張圖片包含一張製漿生產成本的帕雷托圖，顯示不同成本項目對總成本的貢獻比例。圖表中包含以下分析指標：\\n\\n* **成本項目：** 顯示不同成本項目的名稱，例如：製漿、製紙、加工、包裝等。\\n* **成本金額：** 顯示每個成本項目在生產成本中的金額，以台幣計。\\n* **成本百分比：** 顯示每個成本項目佔總成本的百分比。\\n* **累積成本百分比：** 顯示前幾個成本項目佔總成本的累積百分比。\\n* **帕雷托線：** 顯示累積成本百分比的趨勢，可以幫助使用者快速識別主要成本項目。\\n\\n此圖表可以幫助使用者了解生產成本的組成，並識別主要成本項目，以便於制定成本控制策略。\\n'}, excluded_embed_metadata_keys=[], excluded_llm_metadata_keys=[], relationships={}, text='這張圖片包含一張製漿生產成本的帕雷托圖，顯示不同成本項目對總成本的貢獻比例。圖表中包含以下分析指標：\\n\\n* **成本項目：** 顯示不同成本項目的名稱，例如：製漿、製紙、加工、包裝等。\\n* **成本金額：** 顯示每個成本項目在生產成本中的金額，以台幣計。\\n* **成本百分比：** 顯示每個成本項目佔總成本的百分比。\\n* **累積成本百分比：** 顯示前幾個成本項目佔總成本的累積百分比。\\n* **帕雷托線：** 顯示累積成本百分比的趨勢，可以幫助使用者快速識別主要成本項目。\\n\\n此圖表可以幫助使用者了解生產成本的組成，並識別主要成本項目，以便於制定成本控制策略。\\n', mimetype='text/plain', start_char_idx=None, end_char_idx=None, text_template='{metadata_str}\\n\\n{content}', metadata_template='{key}: {value}', metadata_seperator='\\n'),\n",
       " Document(id_='f8a25c32-7231-44fa-99f8-9962f46765a4', embedding=None, metadata={'rowid': 'AAi0soABZAAAACUAAE', 'dashboard_name': '投控經營分析', 'report_name': '華紙-營運績效分析月報', 'page_name': '漿線生產狀況', 'pic_name': '漿線生產狀況-完整畫面.jpg', 'description': '這張圖片包含報表“投控經營分析華紙-營運績效分析月報漿線生產狀況”的一些相關分析指標集訊息， 以下是其包含的指標：\\n\\n**PU1 漿線生產狀況**\\n\\n* 平均日產量(噸)\\n* 稼動率\\n* 停機數\\n* OEE\\n* 達標率\\n* 停機時間(Min)\\n\\n**月產銷趨勢圖(T)**\\n\\n* 月份（Jan, Feb, Mar, Apr, May, Jun）\\n* 月產銷量\\n\\n**生產製造成本**\\n\\n* 項目（原料、製程、人工、包裝、電力）\\n* 成本\\n\\n**生產固定成本**\\n\\n* 項目（用人、折舊、維修、資源、設備折舊、其他）\\n* 成本\\n\\n**停機時間(Min)**\\n\\n* 停機時間總數\\n\\n這些指標可以幫助使用者了解 PU1 漿線的生產狀況，包括產量、稼動率、停機時間等。使用者可以根據自己的需求查詢相關指標，例如：\\n* 想了解 PU1 漿線的產量變化，可以查看 “平均日產量(噸)”和“月產銷趨勢圖(T)”。\\n* 想了解 PU1 漿線的效率，可以查看 “稼動率”、“停機數”、“OEE”、“達標率”。\\n* 想了解 PU1 漿線的停機原因，可以查看 “停機時間(Min)”。\\n* 想了解 PU1 漿線的成本狀況，可以查看 “生產製造成本”和“生產固定成本”。\\n\\n希望以上信息可以幫助使用者查詢到他們需要的指標。\\n'}, excluded_embed_metadata_keys=[], excluded_llm_metadata_keys=[], relationships={}, text='這張圖片包含報表“投控經營分析華紙-營運績效分析月報漿線生產狀況”的一些相關分析指標集訊息， 以下是其包含的指標：\\n\\n**PU1 漿線生產狀況**\\n\\n* 平均日產量(噸)\\n* 稼動率\\n* 停機數\\n* OEE\\n* 達標率\\n* 停機時間(Min)\\n\\n**月產銷趨勢圖(T)**\\n\\n* 月份（Jan, Feb, Mar, Apr, May, Jun）\\n* 月產銷量\\n\\n**生產製造成本**\\n\\n* 項目（原料、製程、人工、包裝、電力）\\n* 成本\\n\\n**生產固定成本**\\n\\n* 項目（用人、折舊、維修、資源、設備折舊、其他）\\n* 成本\\n\\n**停機時間(Min)**\\n\\n* 停機時間總數\\n\\n這些指標可以幫助使用者了解 PU1 漿線的生產狀況，包括產量、稼動率、停機時間等。使用者可以根據自己的需求查詢相關指標，例如：\\n* 想了解 PU1 漿線的產量變化，可以查看 “平均日產量(噸)”和“月產銷趨勢圖(T)”。\\n* 想了解 PU1 漿線的效率，可以查看 “稼動率”、“停機數”、“OEE”、“達標率”。\\n* 想了解 PU1 漿線的停機原因，可以查看 “停機時間(Min)”。\\n* 想了解 PU1 漿線的成本狀況，可以查看 “生產製造成本”和“生產固定成本”。\\n\\n希望以上信息可以幫助使用者查詢到他們需要的指標。\\n', mimetype='text/plain', start_char_idx=None, end_char_idx=None, text_template='{metadata_str}\\n\\n{content}', metadata_template='{key}: {value}', metadata_seperator='\\n'),\n",
       " Document(id_='81910c13-3b7c-42b0-aaa9-1727b2c5481f', embedding=None, metadata={'rowid': 'AAi0soABZAAAACWAAE', 'dashboard_name': '投控經營分析', 'report_name': '華紙-營運績效分析日報', 'page_name': '銷售面', 'pic_name': '銷售面5.JPG', 'description': '這張圖片包含報表「投控經營分析華紙-營運績效分析日報銷售面」的一些相關分析指標集訊息。\\n\\n**分析指標包含：**\\n\\n* **目標**：各銷售點設定的銷售目標。\\n* **實際數**：各銷售點實際達成的銷售數量。\\n* **達成率**：各銷售點實際銷售數量與目標的比例。\\n* **日目標銷售量**：各銷售點設定的每日銷售目標。\\n* **管銷銷售**：各銷售點實際達成的銷售數量。\\n* **達成方案**：各銷售點的達成方案。\\n\\n**說明：**\\n\\n* 表格分為「大紙」、「特紙」兩類，代表不同的銷售產品類別。\\n* 每個產品類別又分為「久等」、「台北」、「花蓮」、「新店」、「總公司」等各銷售點。\\n* 每個銷售點列出目標、實際數、達成率等指標。\\n* 圖表則顯示每個銷售點的日目標銷售量、管銷銷售和達成方案，以及每個產品類別的達成率走勢。\\n\\n**查詢方式：**\\n\\n* 想要查詢特定產品類別的銷售績效，可以先找到該類別的表格。\\n* 想要查詢特定銷售點的銷售績效，可以先找到該銷售點的欄位。\\n* 想要查詢特定指標的數值，可以先找到該指標的標題。\\n\\n希望以上說明可以幫助相關人士查詢這張表是否包含他們有興趣的指標。\\n'}, excluded_embed_metadata_keys=[], excluded_llm_metadata_keys=[], relationships={}, text='這張圖片包含報表「投控經營分析華紙-營運績效分析日報銷售面」的一些相關分析指標集訊息。\\n\\n**分析指標包含：**\\n\\n* **目標**：各銷售點設定的銷售目標。\\n* **實際數**：各銷售點實際達成的銷售數量。\\n* **達成率**：各銷售點實際銷售數量與目標的比例。\\n* **日目標銷售量**：各銷售點設定的每日銷售目標。\\n* **管銷銷售**：各銷售點實際達成的銷售數量。\\n* **達成方案**：各銷售點的達成方案。\\n\\n**說明：**\\n\\n* 表格分為「大紙」、「特紙」兩類，代表不同的銷售產品類別。\\n* 每個產品類別又分為「久等」、「台北」、「花蓮」、「新店」、「總公司」等各銷售點。\\n* 每個銷售點列出目標、實際數、達成率等指標。\\n* 圖表則顯示每個銷售點的日目標銷售量、管銷銷售和達成方案，以及每個產品類別的達成率走勢。\\n\\n**查詢方式：**\\n\\n* 想要查詢特定產品類別的銷售績效，可以先找到該類別的表格。\\n* 想要查詢特定銷售點的銷售績效，可以先找到該銷售點的欄位。\\n* 想要查詢特定指標的數值，可以先找到該指標的標題。\\n\\n希望以上說明可以幫助相關人士查詢這張表是否包含他們有興趣的指標。\\n', mimetype='text/plain', start_char_idx=None, end_char_idx=None, text_template='{metadata_str}\\n\\n{content}', metadata_template='{key}: {value}', metadata_seperator='\\n'),\n",
       " Document(id_='c5bf7dae-8871-4c5b-bdf2-6e33c88b836a', embedding=None, metadata={'rowid': 'AAi0soABZAAAACWAAH', 'dashboard_name': '投控經營分析', 'report_name': '華紙-營運績效分析月報', 'page_name': '事業部層', 'pic_name': '事業部層-字卡2.jpg', 'description': '這張圖片包含了三個分析指標：\\n\\n1. **CCC天數 (天)**：顯示現金轉換周期，表示從原材料採購到收取貨款的時間，單位是天。\\n2. **銀行借款金額**：顯示目前所借的銀行借款總金額，單位是億元。\\n3. **動態率**：顯示特定時期的銷售變化幅度，單位是百分比。\\n\\n根據您的需求，您可以根據這些指標判斷是否包含您感興趣的指標。\\n'}, excluded_embed_metadata_keys=[], excluded_llm_metadata_keys=[], relationships={}, text='這張圖片包含了三個分析指標：\\n\\n1. **CCC天數 (天)**：顯示現金轉換周期，表示從原材料採購到收取貨款的時間，單位是天。\\n2. **銀行借款金額**：顯示目前所借的銀行借款總金額，單位是億元。\\n3. **動態率**：顯示特定時期的銷售變化幅度，單位是百分比。\\n\\n根據您的需求，您可以根據這些指標判斷是否包含您感興趣的指標。\\n', mimetype='text/plain', start_char_idx=None, end_char_idx=None, text_template='{metadata_str}\\n\\n{content}', metadata_template='{key}: {value}', metadata_seperator='\\n'),\n",
       " Document(id_='910f8117-a639-4139-ac3a-5995f9e30410', embedding=None, metadata={'rowid': 'AAi0soABZAAAACXAAF', 'dashboard_name': '投控經營分析', 'report_name': '華紙-營運績效分析月報', 'page_name': '事業部層', 'pic_name': '事業部層-完整畫面.jpg', 'description': '這張圖片包含報表「投控經營分析華紙-營運績效分析月報事業部層」的一些相關分析指標集訊息，以下列出包含的指標：\\n\\n**財務指標:**\\n\\n* 營收(TWD)\\n* 銷貨成本(TWD)\\n* 營業毛利(TWD)\\n* 營業費用(TWD)\\n* 營業利益(TWD)\\n* 稅前淨利(TWD)\\n* 淨利(TWD)\\n* 費用率\\n* 毛利率\\n* 稅率\\n* 損益率\\n* 營收成長率\\n* 銷貨成本成長率\\n* 營業毛利成長率\\n* 營業費用成長率\\n* 營業利益成長率\\n* 稅前淨利成長率\\n* 淨利成長率\\n* 現金流量(TWD)\\n* 現金流量成長率\\n\\n**其他指標:**\\n\\n* CCC(天數)\\n* 銀行借款餘額(百萬元)\\n* 營運效率\\n* 流動比率\\n* 負債比率\\n* 淨值比率\\n* 每股盈餘\\n* 每股淨值\\n* 股利發放率\\n* ROE\\n* ROA\\n* 總資產報酬率\\n* 負債報酬率\\n* 銷售毛利率\\n* 銷售費用率\\n* 營業費用率\\n* 行政費用率\\n* 財務費用率\\n* 稅前利益率\\n* 淨利率\\n* 資產週轉率\\n* 存貨週轉率\\n* 應收帳款週轉率\\n* 應付帳款週轉率\\n\\n**目標指標:**\\n\\n* 流動比率\\n* 負債比率\\n* 負債權益比率\\n* 稅後利率\\n* 淨利率\\n* 應收帳款週轉天數\\n* 存貨週轉天數\\n\\n**2024/04 實際值:**\\n\\n* 110%\\n* 107%\\n* 3.80\\n* 181 億元\\n* 56%\\n* 65 天\\n* 34 天\\n* 103 天\\n\\n**註:** 實際值僅為部分指標，圖片可能包含更多未列出的指標，請根據您的需求自行查找。\\n\\n若您有興趣的指標未列出，請您提供更詳細的資訊，例如：指標名稱、單位、計算方式等，我可以嘗試幫您找出它是否包含在圖片中。\\n'}, excluded_embed_metadata_keys=[], excluded_llm_metadata_keys=[], relationships={}, text='這張圖片包含報表「投控經營分析華紙-營運績效分析月報事業部層」的一些相關分析指標集訊息，以下列出包含的指標：\\n\\n**財務指標:**\\n\\n* 營收(TWD)\\n* 銷貨成本(TWD)\\n* 營業毛利(TWD)\\n* 營業費用(TWD)\\n* 營業利益(TWD)\\n* 稅前淨利(TWD)\\n* 淨利(TWD)\\n* 費用率\\n* 毛利率\\n* 稅率\\n* 損益率\\n* 營收成長率\\n* 銷貨成本成長率\\n* 營業毛利成長率\\n* 營業費用成長率\\n* 營業利益成長率\\n* 稅前淨利成長率\\n* 淨利成長率\\n* 現金流量(TWD)\\n* 現金流量成長率\\n\\n**其他指標:**\\n\\n* CCC(天數)\\n* 銀行借款餘額(百萬元)\\n* 營運效率\\n* 流動比率\\n* 負債比率\\n* 淨值比率\\n* 每股盈餘\\n* 每股淨值\\n* 股利發放率\\n* ROE\\n* ROA\\n* 總資產報酬率\\n* 負債報酬率\\n* 銷售毛利率\\n* 銷售費用率\\n* 營業費用率\\n* 行政費用率\\n* 財務費用率\\n* 稅前利益率\\n* 淨利率\\n* 資產週轉率\\n* 存貨週轉率\\n* 應收帳款週轉率\\n* 應付帳款週轉率\\n\\n**目標指標:**\\n\\n* 流動比率\\n* 負債比率\\n* 負債權益比率\\n* 稅後利率\\n* 淨利率\\n* 應收帳款週轉天數\\n* 存貨週轉天數\\n\\n**2024/04 實際值:**\\n\\n* 110%\\n* 107%\\n* 3.80\\n* 181 億元\\n* 56%\\n* 65 天\\n* 34 天\\n* 103 天\\n\\n**註:** 實際值僅為部分指標，圖片可能包含更多未列出的指標，請根據您的需求自行查找。\\n\\n若您有興趣的指標未列出，請您提供更詳細的資訊，例如：指標名稱、單位、計算方式等，我可以嘗試幫您找出它是否包含在圖片中。\\n', mimetype='text/plain', start_char_idx=None, end_char_idx=None, text_template='{metadata_str}\\n\\n{content}', metadata_template='{key}: {value}', metadata_seperator='\\n'),\n",
       " Document(id_='11fbf189-0127-43c6-8d57-db617b3fbe73', embedding=None, metadata={'rowid': 'AAi0soABZAAAACXAAB', 'dashboard_name': '投控經營分析', 'report_name': '華紙-營運績效分析月報', 'page_name': '事業部層', 'pic_name': '事業部層-華紙財務比率.jpg', 'description': '這張表格顯示了華紙事業部層的營運績效分析月報，包含以下分析指標：\\n\\n1. **流動比率**: 衡量企業短期償債能力，目標為100%，實際為110%。\\n2. **負債/淨值比率**: 衡量企業的財務槓桿，目標為150%，實際為107%。\\n3. **利息保障倍數**: 衡量企業的利息支付能力，目標為3倍，實際為3.80。\\n4. **有形資產**: 衡量企業的實質資產規模，目標為100億元，實際為181億元。\\n5. **(總)資產周轉率**: 衡量企業資產的利用效率，目標為68%，實際為56%。\\n6. **應收帳款週轉天數**: 衡量企業應收帳款的回收速度，目標為58天，實際為65天。\\n7. **應付帳款週轉天數**: 衡量企業應付帳款的支付速度，目標為38天，實際為34天。\\n8. **存貨週轉天數**: 衡量企業存貨的管理效率，目標為69天，實際為103天。\\n\\n您可以根據您的需求查詢表格中您感興趣的指標，了解華紙事業部的營運狀況。\\n'}, excluded_embed_metadata_keys=[], excluded_llm_metadata_keys=[], relationships={}, text='這張表格顯示了華紙事業部層的營運績效分析月報，包含以下分析指標：\\n\\n1. **流動比率**: 衡量企業短期償債能力，目標為100%，實際為110%。\\n2. **負債/淨值比率**: 衡量企業的財務槓桿，目標為150%，實際為107%。\\n3. **利息保障倍數**: 衡量企業的利息支付能力，目標為3倍，實際為3.80。\\n4. **有形資產**: 衡量企業的實質資產規模，目標為100億元，實際為181億元。\\n5. **(總)資產周轉率**: 衡量企業資產的利用效率，目標為68%，實際為56%。\\n6. **應收帳款週轉天數**: 衡量企業應收帳款的回收速度，目標為58天，實際為65天。\\n7. **應付帳款週轉天數**: 衡量企業應付帳款的支付速度，目標為38天，實際為34天。\\n8. **存貨週轉天數**: 衡量企業存貨的管理效率，目標為69天，實際為103天。\\n\\n您可以根據您的需求查詢表格中您感興趣的指標，了解華紙事業部的營運狀況。\\n', mimetype='text/plain', start_char_idx=None, end_char_idx=None, text_template='{metadata_str}\\n\\n{content}', metadata_template='{key}: {value}', metadata_seperator='\\n'),\n",
       " Document(id_='a7ca5990-4145-4676-83f9-003b200f9dca', embedding=None, metadata={'rowid': 'AAi0soABZAAAACXAAD', 'dashboard_name': '投控經營分析', 'report_name': '華紙-營運績效分析月報', 'page_name': '工廠層', 'pic_name': '工廠層-字卡2.jpg', 'description': '這張圖片包含的指標有：\\n\\n- **全廠人數**: 768 人\\n- **工傷**: 0 次\\n- **罰款**: 0 元\\n\\n這張圖表展示了工廠層面的基本資料，可以讓相關人員快速了解工廠的人員數量、工傷次數和罰款金額等信息。'}, excluded_embed_metadata_keys=[], excluded_llm_metadata_keys=[], relationships={}, text='這張圖片包含的指標有：\\n\\n- **全廠人數**: 768 人\\n- **工傷**: 0 次\\n- **罰款**: 0 元\\n\\n這張圖表展示了工廠層面的基本資料，可以讓相關人員快速了解工廠的人員數量、工傷次數和罰款金額等信息。', mimetype='text/plain', start_char_idx=None, end_char_idx=None, text_template='{metadata_str}\\n\\n{content}', metadata_template='{key}: {value}', metadata_seperator='\\n'),\n",
       " Document(id_='719d8cc5-7508-493b-8e35-b10e0269a180', embedding=None, metadata={'rowid': 'AAi0soABZAAAACVAAC', 'dashboard_name': '投控經營分析', 'report_name': '華紙-營運績效分析月報', 'page_name': '工廠層', 'pic_name': '工廠層-紙機損益.jpg', 'description': '這張表包含工廠層的營運績效分析月報數據，指標包括：\\n\\n* **年度**\\n* **銷售量 (噸)**\\n* **銷售金額 (仟元)**\\n* **營業毛利 (仟元)**\\n* **營業利益 (仟元)**\\n* **淨利率 (%)**\\n\\n請確認您是否需要查看其他資訊，比如成本、銷售價格、生產量等。\\n'}, excluded_embed_metadata_keys=[], excluded_llm_metadata_keys=[], relationships={}, text='這張表包含工廠層的營運績效分析月報數據，指標包括：\\n\\n* **年度**\\n* **銷售量 (噸)**\\n* **銷售金額 (仟元)**\\n* **營業毛利 (仟元)**\\n* **營業利益 (仟元)**\\n* **淨利率 (%)**\\n\\n請確認您是否需要查看其他資訊，比如成本、銷售價格、生產量等。\\n', mimetype='text/plain', start_char_idx=None, end_char_idx=None, text_template='{metadata_str}\\n\\n{content}', metadata_template='{key}: {value}', metadata_seperator='\\n'),\n",
       " Document(id_='edef04c7-6e8a-43cc-9b59-a95ee4b74b77', embedding=None, metadata={'rowid': 'AAi0soABZAAAACUAAD', 'dashboard_name': '投控經營分析', 'report_name': '華紙-營運績效分析月報', 'page_name': '漿線生產狀況', 'pic_name': '漿線生產狀況-字卡1.jpg', 'description': '這張圖片展示了關於 PU1 漿線生產狀況的營運績效分析月報，包含以下分析指標：\\n\\n* **平均日產量 (噸)**：311 噸\\n* **良率**：51.70%\\n* **總台數**：0 台\\n* **OEE**：0.00%\\n* **運轉率**：86.30%\\n* **停車時間 (Min)**：6,110 分鐘\\n\\n每個指標都附帶了 MoM (月環比) 和 YoY (年同比) 的變動數據，讓使用者可以更直觀地了解生產狀況的變化趨勢。\\n\\n希望以上資訊能幫助你查詢需要的指標。\\n'}, excluded_embed_metadata_keys=[], excluded_llm_metadata_keys=[], relationships={}, text='這張圖片展示了關於 PU1 漿線生產狀況的營運績效分析月報，包含以下分析指標：\\n\\n* **平均日產量 (噸)**：311 噸\\n* **良率**：51.70%\\n* **總台數**：0 台\\n* **OEE**：0.00%\\n* **運轉率**：86.30%\\n* **停車時間 (Min)**：6,110 分鐘\\n\\n每個指標都附帶了 MoM (月環比) 和 YoY (年同比) 的變動數據，讓使用者可以更直觀地了解生產狀況的變化趨勢。\\n\\n希望以上資訊能幫助你查詢需要的指標。\\n', mimetype='text/plain', start_char_idx=None, end_char_idx=None, text_template='{metadata_str}\\n\\n{content}', metadata_template='{key}: {value}', metadata_seperator='\\n'),\n",
       " Document(id_='b39657d9-e1f9-4f38-b84c-149596f90a09', embedding=None, metadata={'rowid': 'AAi0soABZAAAACLAAH', 'dashboard_name': '投控經營分析', 'report_name': '華紙-營運績效分析月報', 'page_name': '紙機生產狀況', 'pic_name': '紙機生產狀況-停機時間.jpg', 'description': '這張圖表顯示的是 **紙機生產狀況的停機時間**。\\n\\n**分析指標包含：**\\n\\n* **停機時間（以分鐘計）**：每台紙機停機的總時間，以分鐘為單位。\\n* **停機原因**：每台紙機停機的原因，例如：新紙、修機、事故、保養、其他。\\n\\n**圖表中的資訊：**\\n\\n* **總計停機時間**：圖表中顯示總共停機時間為 584 分鐘。\\n* **各停機原因的停機時間**：圖表顯示不同停機原因的停機時間，例如：新紙停機 180 分鐘，修機停機 142 分鐘，事故停機 55 分鐘等等。\\n\\n**這張圖表可以幫助相關人員了解紙機生產狀況的停機時間和原因，進而找出改善停機時間的措施，提高生產效率。**\\n\\n**如果您想要查詢其他分析指標，例如紙機產量、生產成本等等，請查閱其他相關報告。**\\n'}, excluded_embed_metadata_keys=[], excluded_llm_metadata_keys=[], relationships={}, text='這張圖表顯示的是 **紙機生產狀況的停機時間**。\\n\\n**分析指標包含：**\\n\\n* **停機時間（以分鐘計）**：每台紙機停機的總時間，以分鐘為單位。\\n* **停機原因**：每台紙機停機的原因，例如：新紙、修機、事故、保養、其他。\\n\\n**圖表中的資訊：**\\n\\n* **總計停機時間**：圖表中顯示總共停機時間為 584 分鐘。\\n* **各停機原因的停機時間**：圖表顯示不同停機原因的停機時間，例如：新紙停機 180 分鐘，修機停機 142 分鐘，事故停機 55 分鐘等等。\\n\\n**這張圖表可以幫助相關人員了解紙機生產狀況的停機時間和原因，進而找出改善停機時間的措施，提高生產效率。**\\n\\n**如果您想要查詢其他分析指標，例如紙機產量、生產成本等等，請查閱其他相關報告。**\\n', mimetype='text/plain', start_char_idx=None, end_char_idx=None, text_template='{metadata_str}\\n\\n{content}', metadata_template='{key}: {value}', metadata_seperator='\\n'),\n",
       " Document(id_='779770ab-f1eb-4ed1-9f5c-aec096a7cd0b', embedding=None, metadata={'rowid': 'AAi0soABZAAAACLAAA', 'dashboard_name': '投控經營分析', 'report_name': '華紙-營運績效分析月報', 'page_name': '紙機生產狀況', 'pic_name': '紙機生產狀況-字卡1.jpg', 'description': '這張圖片包含了紙機生產狀況的幾個分析指標，分別是：\\n\\n* **平均日產量（噸）**：120 噸，月比減少 40 噸。\\n* **約當總產量（噸）**：3,504 噸，月比減少 3,398 噸。\\n* **OEE**：93.81%，月比增加 47.52%。\\n* **運轉率**：93.81%，月比增加 0.41%。\\n* **良率**：91.85%，月比增加 0.49%。\\n* **回饋率**：8.00%，月比減少 5.30%。\\n* **停車時間（Min）**：11,520 分鐘，月比減少 15,320 分鐘。\\n\\n\\n這些指標可以幫助相關人員了解紙機生產的整體狀況，例如生產效率、設備運作狀況、產品良率、停機時間等。 \\n'}, excluded_embed_metadata_keys=[], excluded_llm_metadata_keys=[], relationships={}, text='這張圖片包含了紙機生產狀況的幾個分析指標，分別是：\\n\\n* **平均日產量（噸）**：120 噸，月比減少 40 噸。\\n* **約當總產量（噸）**：3,504 噸，月比減少 3,398 噸。\\n* **OEE**：93.81%，月比增加 47.52%。\\n* **運轉率**：93.81%，月比增加 0.41%。\\n* **良率**：91.85%，月比增加 0.49%。\\n* **回饋率**：8.00%，月比減少 5.30%。\\n* **停車時間（Min）**：11,520 分鐘，月比減少 15,320 分鐘。\\n\\n\\n這些指標可以幫助相關人員了解紙機生產的整體狀況，例如生產效率、設備運作狀況、產品良率、停機時間等。 \\n', mimetype='text/plain', start_char_idx=None, end_char_idx=None, text_template='{metadata_str}\\n\\n{content}', metadata_template='{key}: {value}', metadata_seperator='\\n'),\n",
       " Document(id_='a6f29f8f-2ec8-46e9-a592-9ff73994d20f', embedding=None, metadata={'rowid': 'AAi0soABZAAAACLAAB', 'dashboard_name': '投控經營分析', 'report_name': '華紙-營運績效分析月報', 'page_name': '紙機生產狀況', 'pic_name': '紙機生產狀況-完整畫面.jpg', 'description': '這張圖片包含華紙-營運績效分析月報紙機生產狀況的一些相關分析指標。\\n\\n**生產指標:**\\n\\n* **平均日產量(噸):**  顯示每天生產的紙張重量，可用來衡量生產效率。\\n* **約當產能(噸):**  表示設備在正常情況下所能生產的紙張重量，用來評估產能利用率。\\n* **OEE:**  綜合設備效能、品質效能和生產時間效能，反映生產線的整體效率。\\n* **設備稼動率:**  表示設備實際運作時間占計劃運作時間的比率，評估設備的利用程度。\\n* **良率:**  生產過程中合格產品的比例，反映產品品質狀況。\\n* **回修率:**  表示需要重新加工的產品數量占總產品數量的比例，顯示生產過程中產生的錯誤或缺陷。\\n* **停機時間(Min):**  設備停機的總時長，反映設備故障或維護等因素造成的生產延誤。\\n\\n**成本指標:**\\n\\n* **生產變動成本:**  與生產數量直接相關的成本，例如原材料、人工成本。\\n* **生產固定成本:**  與生產數量無關的成本，例如折舊、租金。\\n\\n**效率指標:**\\n\\n* **月產量趨勢圖(噸):**  顯示每月的生產量變化趨勢，用來觀察生產的穩定性和效率變化。\\n* **良率趨勢圖(%):**  顯示每月的良率變化趨勢，評估產品品質的穩定性。\\n* **停機時間趨勢圖(Min):**  顯示每月的停機時間變化趨勢，分析設備故障或維護問題的頻率和影響。\\n\\n**其他指標:**\\n\\n* **停機時間比例圖:**  顯示不同原因造成的停機時間比例，幫助分析停機問題的類型和原因。\\n\\n您可以根据您的需求，查看以上列出的指标，以判断这张表是否包含您感兴趣的信息。'}, excluded_embed_metadata_keys=[], excluded_llm_metadata_keys=[], relationships={}, text='這張圖片包含華紙-營運績效分析月報紙機生產狀況的一些相關分析指標。\\n\\n**生產指標:**\\n\\n* **平均日產量(噸):**  顯示每天生產的紙張重量，可用來衡量生產效率。\\n* **約當產能(噸):**  表示設備在正常情況下所能生產的紙張重量，用來評估產能利用率。\\n* **OEE:**  綜合設備效能、品質效能和生產時間效能，反映生產線的整體效率。\\n* **設備稼動率:**  表示設備實際運作時間占計劃運作時間的比率，評估設備的利用程度。\\n* **良率:**  生產過程中合格產品的比例，反映產品品質狀況。\\n* **回修率:**  表示需要重新加工的產品數量占總產品數量的比例，顯示生產過程中產生的錯誤或缺陷。\\n* **停機時間(Min):**  設備停機的總時長，反映設備故障或維護等因素造成的生產延誤。\\n\\n**成本指標:**\\n\\n* **生產變動成本:**  與生產數量直接相關的成本，例如原材料、人工成本。\\n* **生產固定成本:**  與生產數量無關的成本，例如折舊、租金。\\n\\n**效率指標:**\\n\\n* **月產量趨勢圖(噸):**  顯示每月的生產量變化趨勢，用來觀察生產的穩定性和效率變化。\\n* **良率趨勢圖(%):**  顯示每月的良率變化趨勢，評估產品品質的穩定性。\\n* **停機時間趨勢圖(Min):**  顯示每月的停機時間變化趨勢，分析設備故障或維護問題的頻率和影響。\\n\\n**其他指標:**\\n\\n* **停機時間比例圖:**  顯示不同原因造成的停機時間比例，幫助分析停機問題的類型和原因。\\n\\n您可以根据您的需求，查看以上列出的指标，以判断这张表是否包含您感兴趣的信息。', mimetype='text/plain', start_char_idx=None, end_char_idx=None, text_template='{metadata_str}\\n\\n{content}', metadata_template='{key}: {value}', metadata_seperator='\\n'),\n",
       " Document(id_='bede8261-df3b-4e5f-8d4c-44651c0f49d8', embedding=None, metadata={'rowid': 'AAi0soABZAAAACLAAE', 'dashboard_name': '投控經營分析', 'report_name': '華紙-營運績效分析月報', 'page_name': '紙機生產狀況', 'pic_name': '紙機生產狀況-生產固定成本.jpg', 'description': 'The image contains a bar chart showing the breakdown of production costs by different categories. It does not include any numerical data or specific figures. However, it does show a comparison of production costs between April and May for each category. \\n\\nThe categories included are:\\n- 人員 (Personnel)\\n- 新舊 (New and Old)\\n- 維修 (Maintenance)\\n- 損耗 (Loss)\\n- 設備折旧 (Depreciation of Equipment)\\n- 其他 (Others)\\n\\nThis chart can be helpful for understanding the relative costs of different production activities and how they have changed over time. However, it does not provide detailed information about the specific costs or the reasons for any changes. \\n'}, excluded_embed_metadata_keys=[], excluded_llm_metadata_keys=[], relationships={}, text='The image contains a bar chart showing the breakdown of production costs by different categories. It does not include any numerical data or specific figures. However, it does show a comparison of production costs between April and May for each category. \\n\\nThe categories included are:\\n- 人員 (Personnel)\\n- 新舊 (New and Old)\\n- 維修 (Maintenance)\\n- 損耗 (Loss)\\n- 設備折旧 (Depreciation of Equipment)\\n- 其他 (Others)\\n\\nThis chart can be helpful for understanding the relative costs of different production activities and how they have changed over time. However, it does not provide detailed information about the specific costs or the reasons for any changes. \\n', mimetype='text/plain', start_char_idx=None, end_char_idx=None, text_template='{metadata_str}\\n\\n{content}', metadata_template='{key}: {value}', metadata_seperator='\\n'),\n",
       " Document(id_='f83f23c1-b6e6-4205-8cc2-8e5771f89778', embedding=None, metadata={'rowid': 'AAi0soABZAAAACOAAE', 'dashboard_name': '投控經營分析', 'report_name': '華紙-營運績效分析月報', 'page_name': '銷售面', 'pic_name': '銷售面-完整畫面.jpg', 'description': '這張圖片展示了華紙的營運績效分析月報銷售面的相關分析指標， 包含以下指標：\\n\\n* **銷售額**： 圖表顯示了 2024 年 01 月至 2024 年 07 月的銷售額， 可以觀察到每月銷售額的趨勢變化\\n* **毛利率**： 箱型圖展示了 2024 年 06 月的毛利率分佈情況\\n* **銷售區域**： 地圖展示了台灣和全球各個地區的銷售額， 可以觀察到哪個區域的銷售額最高\\n* **銷售產品**： 圖表展示了各產品類別的銷售額佔比， 可以觀察到哪個產品類別的銷售額最高\\n\\n此外，圖片中還有一些其他信息，例如：\\n\\n* 營運績效分析月報的日期\\n* 銷售額的單位\\n* 毛利率的計算方法\\n\\n如果您想查詢其他指標，例如成本、利润率等，请参考其他資料。'}, excluded_embed_metadata_keys=[], excluded_llm_metadata_keys=[], relationships={}, text='這張圖片展示了華紙的營運績效分析月報銷售面的相關分析指標， 包含以下指標：\\n\\n* **銷售額**： 圖表顯示了 2024 年 01 月至 2024 年 07 月的銷售額， 可以觀察到每月銷售額的趨勢變化\\n* **毛利率**： 箱型圖展示了 2024 年 06 月的毛利率分佈情況\\n* **銷售區域**： 地圖展示了台灣和全球各個地區的銷售額， 可以觀察到哪個區域的銷售額最高\\n* **銷售產品**： 圖表展示了各產品類別的銷售額佔比， 可以觀察到哪個產品類別的銷售額最高\\n\\n此外，圖片中還有一些其他信息，例如：\\n\\n* 營運績效分析月報的日期\\n* 銷售額的單位\\n* 毛利率的計算方法\\n\\n如果您想查詢其他指標，例如成本、利润率等，请参考其他資料。', mimetype='text/plain', start_char_idx=None, end_char_idx=None, text_template='{metadata_str}\\n\\n{content}', metadata_template='{key}: {value}', metadata_seperator='\\n'),\n",
       " Document(id_='5c215d07-49c1-4a1f-887c-dac272702af4', embedding=None, metadata={'rowid': 'AAi0soABZAAAACLAAG', 'dashboard_name': '投控經營分析', 'report_name': '華紙-營運績效分析月報', 'page_name': '號機直接法損益', 'pic_name': '號機直接法損益-查詢條件.jpg', 'description': '這張圖顯示了一個數據報表的篩選選項，但無法看到實際數據。 根據選項，我們可以推斷出包含以下一些分析指標：\\n\\n* **日期範圍:** 可以根據需要選擇特定日期範圍，例如月度或年度。\\n* **項目:** 可以選擇要查看的項目，例如營收、毛利、淨利等。\\n* **單位:** 可以選擇要顯示的單位，例如金額或百分比。\\n\\n這張表可能包含華紙的營運績效分析月報數據，其中包括號機直接法損益的相關分析指標，但無法確定具體包含哪些指標。 \\n\\n若要得知更詳細的資訊，需要查看實際報表內容。\\n'}, excluded_embed_metadata_keys=[], excluded_llm_metadata_keys=[], relationships={}, text='這張圖顯示了一個數據報表的篩選選項，但無法看到實際數據。 根據選項，我們可以推斷出包含以下一些分析指標：\\n\\n* **日期範圍:** 可以根據需要選擇特定日期範圍，例如月度或年度。\\n* **項目:** 可以選擇要查看的項目，例如營收、毛利、淨利等。\\n* **單位:** 可以選擇要顯示的單位，例如金額或百分比。\\n\\n這張表可能包含華紙的營運績效分析月報數據，其中包括號機直接法損益的相關分析指標，但無法確定具體包含哪些指標。 \\n\\n若要得知更詳細的資訊，需要查看實際報表內容。\\n', mimetype='text/plain', start_char_idx=None, end_char_idx=None, text_template='{metadata_str}\\n\\n{content}', metadata_template='{key}: {value}', metadata_seperator='\\n'),\n",
       " Document(id_='eb8d8695-946d-4205-8680-0d95e5ef077a', embedding=None, metadata={'rowid': 'AAi0soABZAAAACOAAF', 'dashboard_name': '投控經營分析', 'report_name': '華紙-營運績效分析月報', 'page_name': '銷售面', 'pic_name': '銷售面-產品售價同業比較.jpg', 'description': '這張圖片只顯示了一個箱型圖，沒有任何具體的分析指標。因此，無法確定它是否包含任何特定分析指標。 \\n\\n要了解這張圖表包含的指標，您需要查看其資料來源或更完整的報告。 \\n\\n以下是可能包含的指標範例：\\n\\n* **銷售額**:  以金額或數量表示的銷售額。\\n* **毛利率**:  銷售成本佔銷售額的百分比。\\n* **營業利益率**:  營業利益佔銷售額的百分比。\\n* **淨利率**:  淨利潤佔銷售額的百分比。\\n* **銷售量**:  銷售的產品或服務數量。\\n* **平均銷售價格**:  每個產品或服務的平均銷售價格。\\n* **顧客數量**:  客戶數量。\\n* **市場佔有率**:  公司在市場上的份額。\\n\\n請提供更多資訊，例如圖表的來源或標題，才能更精確地分析這張圖表包含哪些指標。\\n'}, excluded_embed_metadata_keys=[], excluded_llm_metadata_keys=[], relationships={}, text='這張圖片只顯示了一個箱型圖，沒有任何具體的分析指標。因此，無法確定它是否包含任何特定分析指標。 \\n\\n要了解這張圖表包含的指標，您需要查看其資料來源或更完整的報告。 \\n\\n以下是可能包含的指標範例：\\n\\n* **銷售額**:  以金額或數量表示的銷售額。\\n* **毛利率**:  銷售成本佔銷售額的百分比。\\n* **營業利益率**:  營業利益佔銷售額的百分比。\\n* **淨利率**:  淨利潤佔銷售額的百分比。\\n* **銷售量**:  銷售的產品或服務數量。\\n* **平均銷售價格**:  每個產品或服務的平均銷售價格。\\n* **顧客數量**:  客戶數量。\\n* **市場佔有率**:  公司在市場上的份額。\\n\\n請提供更多資訊，例如圖表的來源或標題，才能更精確地分析這張圖表包含哪些指標。\\n', mimetype='text/plain', start_char_idx=None, end_char_idx=None, text_template='{metadata_str}\\n\\n{content}', metadata_template='{key}: {value}', metadata_seperator='\\n'),\n",
       " Document(id_='5b22dbb9-28ba-439b-96cd-5584eba46a39', embedding=None, metadata={'rowid': 'AAi0soABZAAAACUAAG', 'dashboard_name': '投控經營分析', 'report_name': '華紙-營運績效分析月報', 'page_name': '漿線生產狀況', 'pic_name': '漿線生產狀況-生產固定成本.jpg', 'description': '這張圖顯示的是生產固定成本的分析，包含了不同項目在4月和5月的成本，這些項目包括：\\n\\n* **人員**: 4月和5月的生產固定成本\\n* **折舊**: 4月和5月的生產固定成本\\n* **維修**: 4月和5月的生產固定成本\\n* **運輸**: 4月和5月的生產固定成本\\n* **能源與燃料**: 4月和5月的生產固定成本\\n* **其他**: 4月和5月的生產固定成本\\n\\n透過圖表可以快速了解不同項目在4月和5月的生產固定成本變化。 \\n'}, excluded_embed_metadata_keys=[], excluded_llm_metadata_keys=[], relationships={}, text='這張圖顯示的是生產固定成本的分析，包含了不同項目在4月和5月的成本，這些項目包括：\\n\\n* **人員**: 4月和5月的生產固定成本\\n* **折舊**: 4月和5月的生產固定成本\\n* **維修**: 4月和5月的生產固定成本\\n* **運輸**: 4月和5月的生產固定成本\\n* **能源與燃料**: 4月和5月的生產固定成本\\n* **其他**: 4月和5月的生產固定成本\\n\\n透過圖表可以快速了解不同項目在4月和5月的生產固定成本變化。 \\n', mimetype='text/plain', start_char_idx=None, end_char_idx=None, text_template='{metadata_str}\\n\\n{content}', metadata_template='{key}: {value}', metadata_seperator='\\n')]"
      ]
     },
     "execution_count": 20,
     "metadata": {},
     "output_type": "execute_result"
    }
   ],
   "source": [
    "documents"
   ]
  },
  {
   "cell_type": "code",
   "execution_count": 21,
   "metadata": {},
   "outputs": [],
   "source": [
    "# store in vectordb\n",
    "Settings.chunk_size = 1024\n",
    "Settings.chunk_overlap = 50\n",
    "vector_store = ChromaVectorStore(chroma_collection=chroma_collection)\n",
    "storage_context = StorageContext.from_defaults(vector_store=vector_store)\n",
    "vector_store_index = VectorStoreIndex.from_documents(\n",
    "    documents=documents,\n",
    "    storage_context=storage_context,\n",
    "    embed_model=embeddings\n",
    ")"
   ]
  },
  {
   "cell_type": "code",
   "execution_count": 12,
   "metadata": {},
   "outputs": [
    {
     "data": {
      "text/markdown": [
       "Node ID: 0d2a5a4a-268f-4b85-b1c3-52da1e659b01\n",
       "Text: 這張圖片包含了一份營運績效分析月報，其中包含以下指標：  **成本**: * 銷貨成本 * 原物料成本 * 燃料 * 其他成本\n",
       "**銷售**: * 銷貨收入 * 營業成本 * 營業毛利 * 營業費用  **費用**: * 製造費用 * 銷售費用 * 管理費用\n",
       "**淨利**: * 稅前淨利 * 稅後淨利  **其他**: * 損益表 * 損益 * 銷售額 * 銷貨量 * 存貨 * 應收帳款 *\n",
       "應付帳款 * 固定資產 * 流動資產 * 負債 * 股東權益  這些指標可以幫助使用者了解公司在特定時期的財務狀況和營運績效。\n",
       "Score:  0.198\n"
      ],
      "text/plain": [
       "<IPython.core.display.Markdown object>"
      ]
     },
     "metadata": {},
     "output_type": "display_data"
    }
   ],
   "source": [
    "# read from vectodb\n",
    "\n",
    "# load from disk\n",
    "db2 = chromadb.PersistentClient(path=\"./chroma_db\")\n",
    "chroma_collection = db2.get_or_create_collection(\"DashboardQA\")\n",
    "vector_store = ChromaVectorStore(chroma_collection=chroma_collection)\n",
    "index = VectorStoreIndex.from_vector_store(\n",
    "    vector_store,\n",
    "    embed_model=embeddings,\n",
    ")\n",
    "\n",
    "\n",
    "# Query Data from the persisted index\n",
    "query_engine = index.as_retriever(similarity_top_k=3)\n",
    "response = query_engine.retrieve(\"\"\"               \n",
    "包含\n",
    "淨利:\n",
    "稅前淨利\n",
    "稅後淨利\n",
    " \"\"\")\n",
    "display(Markdown(f\"{response[0]}\"))"
   ]
  },
  {
   "cell_type": "code",
   "execution_count": 7,
   "metadata": {},
   "outputs": [
    {
     "data": {
      "text/plain": [
       "'號機直接法損益'"
      ]
     },
     "execution_count": 7,
     "metadata": {},
     "output_type": "execute_result"
    }
   ],
   "source": [
    "response[0].node.metadata['page_name']"
   ]
  },
  {
   "cell_type": "code",
   "execution_count": 8,
   "metadata": {},
   "outputs": [
    {
     "data": {
      "text/plain": [
       "[NodeWithScore(node=TextNode(id_='0d2a5a4a-268f-4b85-b1c3-52da1e659b01', embedding=None, metadata={'rowid': 'AAi0soABZAAAACLAAF', 'dashboard_name': '投控經營分析', 'report_name': '華紙-營運績效分析月報', 'page_name': '號機直接法損益', 'pic_name': '號機直接法損益-完整畫面.jpg', 'description': '這張圖片包含了一份營運績效分析月報，其中包含以下指標：\\n\\n**成本**:\\n* 銷貨成本\\n* 原物料成本\\n* 燃料\\n* 其他成本\\n\\n**銷售**:\\n* 銷貨收入\\n* 營業成本\\n* 營業毛利\\n* 營業費用\\n\\n**費用**:\\n* 製造費用\\n* 銷售費用\\n* 管理費用\\n\\n**淨利**:\\n* 稅前淨利\\n* 稅後淨利\\n\\n**其他**:\\n* 損益表\\n* 損益\\n* 銷售額\\n* 銷貨量\\n* 存貨\\n* 應收帳款\\n* 應付帳款\\n* 固定資產\\n* 流動資產\\n* 負債\\n* 股東權益\\n\\n這些指標可以幫助使用者了解公司在特定時期的財務狀況和營運績效。\\n'}, excluded_embed_metadata_keys=[], excluded_llm_metadata_keys=[], relationships={<NodeRelationship.SOURCE: '1'>: RelatedNodeInfo(node_id='b65208c2-dcc2-48b1-be0a-5ed3146de155', node_type=<ObjectType.DOCUMENT: '4'>, metadata={'rowid': 'AAi0soABZAAAACLAAF', 'dashboard_name': '投控經營分析', 'report_name': '華紙-營運績效分析月報', 'page_name': '號機直接法損益', 'pic_name': '號機直接法損益-完整畫面.jpg', 'description': '這張圖片包含了一份營運績效分析月報，其中包含以下指標：\\n\\n**成本**:\\n* 銷貨成本\\n* 原物料成本\\n* 燃料\\n* 其他成本\\n\\n**銷售**:\\n* 銷貨收入\\n* 營業成本\\n* 營業毛利\\n* 營業費用\\n\\n**費用**:\\n* 製造費用\\n* 銷售費用\\n* 管理費用\\n\\n**淨利**:\\n* 稅前淨利\\n* 稅後淨利\\n\\n**其他**:\\n* 損益表\\n* 損益\\n* 銷售額\\n* 銷貨量\\n* 存貨\\n* 應收帳款\\n* 應付帳款\\n* 固定資產\\n* 流動資產\\n* 負債\\n* 股東權益\\n\\n這些指標可以幫助使用者了解公司在特定時期的財務狀況和營運績效。\\n'}, hash='ee2533a04ee0087e547ae4c7b151f8e8fc86e47ac52c1386cac2bfc96462f717')}, text='這張圖片包含了一份營運績效分析月報，其中包含以下指標：\\n\\n**成本**:\\n* 銷貨成本\\n* 原物料成本\\n* 燃料\\n* 其他成本\\n\\n**銷售**:\\n* 銷貨收入\\n* 營業成本\\n* 營業毛利\\n* 營業費用\\n\\n**費用**:\\n* 製造費用\\n* 銷售費用\\n* 管理費用\\n\\n**淨利**:\\n* 稅前淨利\\n* 稅後淨利\\n\\n**其他**:\\n* 損益表\\n* 損益\\n* 銷售額\\n* 銷貨量\\n* 存貨\\n* 應收帳款\\n* 應付帳款\\n* 固定資產\\n* 流動資產\\n* 負債\\n* 股東權益\\n\\n這些指標可以幫助使用者了解公司在特定時期的財務狀況和營運績效。', mimetype='text/plain', start_char_idx=0, end_char_idx=263, text_template='{metadata_str}\\n\\n{content}', metadata_template='{key}: {value}', metadata_seperator='\\n'), score=0.19756284133347032),\n",
       " NodeWithScore(node=TextNode(id_='a15c01c9-52a4-49e6-9276-1098f28c88df', embedding=None, metadata={'rowid': 'AAi0soABZAAAACWAAG', 'dashboard_name': '投控經營分析', 'report_name': '華紙-營運績效分析月報', 'page_name': '事業部層', 'pic_name': '事業部層-全廠損益.jpg', 'description': '這張圖片顯示了一份華紙營運績效分析月報，包含了各事業部的相關分析指標。表格中顯示了以下指標：\\n\\n**本月**\\n- 銷售收入\\n- 銷售成本\\n- 銷售毛利\\n- 營業利益\\n- 稅前淨利\\n\\n**全年累計**\\n- 銷售收入\\n- 銷售成本\\n- 銷售毛利\\n- 營業利益\\n- 稅前淨利\\n- 年度預算\\n- 達成率\\n\\n表格中的商品類別包含：\\n- 等等(造紙業)\\n- 久違(紙)\\n- 花蓮(紙)\\n- 台紙(紙)\\n- 智慧(紙)\\n- P板(紙)\\n- 昆山紙業(CNY)\\n- 昆林紙業(CNY)\\n- 纖維製品(CNY)\\n- 合紙(紙)\\n\\n您可以根據您的需要，查詢您感興趣的指標。\\n'}, excluded_embed_metadata_keys=[], excluded_llm_metadata_keys=[], relationships={<NodeRelationship.SOURCE: '1'>: RelatedNodeInfo(node_id='1fd2a06c-b256-409c-a9cf-264bba50a6ad', node_type=<ObjectType.DOCUMENT: '4'>, metadata={'rowid': 'AAi0soABZAAAACWAAG', 'dashboard_name': '投控經營分析', 'report_name': '華紙-營運績效分析月報', 'page_name': '事業部層', 'pic_name': '事業部層-全廠損益.jpg', 'description': '這張圖片顯示了一份華紙營運績效分析月報，包含了各事業部的相關分析指標。表格中顯示了以下指標：\\n\\n**本月**\\n- 銷售收入\\n- 銷售成本\\n- 銷售毛利\\n- 營業利益\\n- 稅前淨利\\n\\n**全年累計**\\n- 銷售收入\\n- 銷售成本\\n- 銷售毛利\\n- 營業利益\\n- 稅前淨利\\n- 年度預算\\n- 達成率\\n\\n表格中的商品類別包含：\\n- 等等(造紙業)\\n- 久違(紙)\\n- 花蓮(紙)\\n- 台紙(紙)\\n- 智慧(紙)\\n- P板(紙)\\n- 昆山紙業(CNY)\\n- 昆林紙業(CNY)\\n- 纖維製品(CNY)\\n- 合紙(紙)\\n\\n您可以根據您的需要，查詢您感興趣的指標。\\n'}, hash='d0d5b692009ba545e37cb680b577edfa80dc6a8b60f21422ab59fb54b6afad1c')}, text='這張圖片顯示了一份華紙營運績效分析月報，包含了各事業部的相關分析指標。表格中顯示了以下指標：\\n\\n**本月**\\n- 銷售收入\\n- 銷售成本\\n- 銷售毛利\\n- 營業利益\\n- 稅前淨利\\n\\n**全年累計**\\n- 銷售收入\\n- 銷售成本\\n- 銷售毛利\\n- 營業利益\\n- 稅前淨利\\n- 年度預算\\n- 達成率\\n\\n表格中的商品類別包含：\\n- 等等(造紙業)\\n- 久違(紙)\\n- 花蓮(紙)\\n- 台紙(紙)\\n- 智慧(紙)\\n- P板(紙)\\n- 昆山紙業(CNY)\\n- 昆林紙業(CNY)\\n- 纖維製品(CNY)\\n- 合紙(紙)\\n\\n您可以根據您的需要，查詢您感興趣的指標。', mimetype='text/plain', start_char_idx=0, end_char_idx=276, text_template='{metadata_str}\\n\\n{content}', metadata_template='{key}: {value}', metadata_seperator='\\n'), score=0.18087539021292293),\n",
       " NodeWithScore(node=TextNode(id_='288a8409-59f2-40aa-98aa-d695767757d9', embedding=None, metadata={'rowid': 'AAi0soABZAAAACXAAA', 'dashboard_name': '投控經營分析', 'report_name': '華紙-營運績效分析月報', 'page_name': '事業部層', 'pic_name': '事業部層-營收及損益歷史趨勢.jpg', 'description': '這張圖表顯示的是華紙營運績效分析月報事業部層的營收和損益歷史趨勢，包含以下資訊：\\n\\n* **時間範圍:**  2023年11月至2024年5月\\n* **單位:**  仟元\\n* **指標:** \\n    * **營收:** 藍色柱狀圖，代表每個月的營收金額\\n    * **損益:** 橘色線狀圖，代表每個月的損益金額\\n\\n使用者可以根據時間軸查看每個月的營收和損益狀況，了解公司營運狀況的趨勢。\\n'}, excluded_embed_metadata_keys=[], excluded_llm_metadata_keys=[], relationships={<NodeRelationship.SOURCE: '1'>: RelatedNodeInfo(node_id='f7a8e924-abf5-45d8-8cb7-266c8d09376f', node_type=<ObjectType.DOCUMENT: '4'>, metadata={'rowid': 'AAi0soABZAAAACXAAA', 'dashboard_name': '投控經營分析', 'report_name': '華紙-營運績效分析月報', 'page_name': '事業部層', 'pic_name': '事業部層-營收及損益歷史趨勢.jpg', 'description': '這張圖表顯示的是華紙營運績效分析月報事業部層的營收和損益歷史趨勢，包含以下資訊：\\n\\n* **時間範圍:**  2023年11月至2024年5月\\n* **單位:**  仟元\\n* **指標:** \\n    * **營收:** 藍色柱狀圖，代表每個月的營收金額\\n    * **損益:** 橘色線狀圖，代表每個月的損益金額\\n\\n使用者可以根據時間軸查看每個月的營收和損益狀況，了解公司營運狀況的趨勢。\\n'}, hash='c511d8f15381d09c67c9e826aa6b17636cb970da4caed027e0e195833bb14d13')}, text='這張圖表顯示的是華紙營運績效分析月報事業部層的營收和損益歷史趨勢，包含以下資訊：\\n\\n* **時間範圍:**  2023年11月至2024年5月\\n* **單位:**  仟元\\n* **指標:** \\n    * **營收:** 藍色柱狀圖，代表每個月的營收金額\\n    * **損益:** 橘色線狀圖，代表每個月的損益金額\\n\\n使用者可以根據時間軸查看每個月的營收和損益狀況，了解公司營運狀況的趨勢。', mimetype='text/plain', start_char_idx=0, end_char_idx=196, text_template='{metadata_str}\\n\\n{content}', metadata_template='{key}: {value}', metadata_seperator='\\n'), score=0.17497873719985196)]"
      ]
     },
     "execution_count": 8,
     "metadata": {},
     "output_type": "execute_result"
    }
   ],
   "source": [
    "response"
   ]
  }
 ],
 "metadata": {
  "kernelspec": {
   "display_name": "bibot",
   "language": "python",
   "name": "python3"
  },
  "language_info": {
   "codemirror_mode": {
    "name": "ipython",
    "version": 3
   },
   "file_extension": ".py",
   "mimetype": "text/x-python",
   "name": "python",
   "nbconvert_exporter": "python",
   "pygments_lexer": "ipython3",
   "version": "3.10.14"
  }
 },
 "nbformat": 4,
 "nbformat_minor": 2
}
