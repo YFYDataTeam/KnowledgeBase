{
 "cells": [
  {
   "cell_type": "code",
   "execution_count": 1,
   "metadata": {},
   "outputs": [
    {
     "name": "stderr",
     "output_type": "stream",
     "text": [
      "c:\\Users\\sean.chang\\AppData\\Local\\anaconda3\\envs\\bibot\\lib\\site-packages\\tqdm\\auto.py:21: TqdmWarning: IProgress not found. Please update jupyter and ipywidgets. See https://ipywidgets.readthedocs.io/en/stable/user_install.html\n",
      "  from .autonotebook import tqdm as notebook_tqdm\n"
     ]
    }
   ],
   "source": [
    "from utils import read_config, OracleAgent\n",
    "import re\n",
    "import os\n",
    "from py2neo import Graph, Node, Relationship\n",
    "from langchain.prompts import PromptTemplate\n",
    "from langchain_openai.chat_models import ChatOpenAI\n",
    "from langchain.prompts.chat import (\n",
    "    ChatPromptTemplate,\n",
    "    SystemMessagePromptTemplate,\n",
    "    HumanMessagePromptTemplate\n",
    ")\n",
    "\n",
    "\n",
    "import google.generativeai as genai\n",
    "from langchain_google_genai import (\n",
    "    ChatGoogleGenerativeAI,\n",
    "    HarmBlockThreshold,\n",
    "    HarmCategory,\n",
    ")\n"
   ]
  },
  {
   "cell_type": "code",
   "execution_count": 2,
   "metadata": {},
   "outputs": [],
   "source": [
    "configs = read_config(\".env/info.json\")\n",
    "\n",
    "os.environ[\"GOOGLE_API_KEY\"] = configs['gkey']\n",
    "\n",
    "O_KEY = configs['okey']\n",
    "os.environ[\"OPENAI_API_KEY\"] = O_KEY\n",
    "# openai.api_key = os.environ[\"OPENAI_API_KEY\"]"
   ]
  },
  {
   "cell_type": "code",
   "execution_count": 3,
   "metadata": {},
   "outputs": [],
   "source": [
    "configs = read_config(\".env/info.json\")\n",
    "# BIDB = configs['BIDB_conn_info']\n",
    "# bi_agent = OracleAgent(BIDB)\n",
    "DWDB = configs['DW_conn_info']\n",
    "dw_agent = OracleAgent(DWDB)\n",
    "\n"
   ]
  },
  {
   "cell_type": "code",
   "execution_count": 4,
   "metadata": {},
   "outputs": [],
   "source": [
    "query = \"\"\"\n",
    "    SELECT view_name, text FROM ALL_Views\n",
    "    where owner = 'YFYDW'\n",
    "\"\"\"\n",
    "\n",
    "view_info = dw_agent.read_table(query=query)"
   ]
  },
  {
   "cell_type": "code",
   "execution_count": 5,
   "metadata": {},
   "outputs": [
    {
     "data": {
      "text/html": [
       "<div>\n",
       "<style scoped>\n",
       "    .dataframe tbody tr th:only-of-type {\n",
       "        vertical-align: middle;\n",
       "    }\n",
       "\n",
       "    .dataframe tbody tr th {\n",
       "        vertical-align: top;\n",
       "    }\n",
       "\n",
       "    .dataframe thead th {\n",
       "        text-align: right;\n",
       "    }\n",
       "</style>\n",
       "<table border=\"1\" class=\"dataframe\">\n",
       "  <thead>\n",
       "    <tr style=\"text-align: right;\">\n",
       "      <th></th>\n",
       "      <th>view_name</th>\n",
       "      <th>text</th>\n",
       "    </tr>\n",
       "  </thead>\n",
       "  <tbody>\n",
       "    <tr>\n",
       "      <th>0</th>\n",
       "      <td>WACES_CARBON_EMS01_DF_V</td>\n",
       "      <td>SELECT\\n    ORG.ORG_NAME,\\n    CHECKTYPE_CODE,...</td>\n",
       "    </tr>\n",
       "    <tr>\n",
       "      <th>1</th>\n",
       "      <td>WACES_CARBON_EMS02_MF_V</td>\n",
       "      <td>select \\n    org.org_name,\\n    c.check_date p...</td>\n",
       "    </tr>\n",
       "  </tbody>\n",
       "</table>\n",
       "</div>"
      ],
      "text/plain": [
       "                 view_name                                               text\n",
       "0  WACES_CARBON_EMS01_DF_V  SELECT\\n    ORG.ORG_NAME,\\n    CHECKTYPE_CODE,...\n",
       "1  WACES_CARBON_EMS02_MF_V  select \\n    org.org_name,\\n    c.check_date p..."
      ]
     },
     "execution_count": 5,
     "metadata": {},
     "output_type": "execute_result"
    }
   ],
   "source": [
    "view_info"
   ]
  },
  {
   "cell_type": "code",
   "execution_count": 6,
   "metadata": {},
   "outputs": [],
   "source": [
    "# re.DOTALL: This is a flag that allows the '.' in the regular expression to match newline characters\n",
    "# re.IGNORECASE: This flag makes the search case-insenitive. So it will match \"FROM\", \"from\", \"From\" etc\n",
    "view_info['data_source'] = view_info['text'].apply(lambda x: re.search(r'FROM\\s+(.*)', x, re.DOTALL | re.IGNORECASE).group(0))"
   ]
  },
  {
   "cell_type": "code",
   "execution_count": 7,
   "metadata": {},
   "outputs": [
    {
     "data": {
      "text/html": [
       "<div>\n",
       "<style scoped>\n",
       "    .dataframe tbody tr th:only-of-type {\n",
       "        vertical-align: middle;\n",
       "    }\n",
       "\n",
       "    .dataframe tbody tr th {\n",
       "        vertical-align: top;\n",
       "    }\n",
       "\n",
       "    .dataframe thead th {\n",
       "        text-align: right;\n",
       "    }\n",
       "</style>\n",
       "<table border=\"1\" class=\"dataframe\">\n",
       "  <thead>\n",
       "    <tr style=\"text-align: right;\">\n",
       "      <th></th>\n",
       "      <th>view_name</th>\n",
       "      <th>text</th>\n",
       "      <th>data_source</th>\n",
       "    </tr>\n",
       "  </thead>\n",
       "  <tbody>\n",
       "    <tr>\n",
       "      <th>0</th>\n",
       "      <td>WACES_CARBON_EMS01_DF_V</td>\n",
       "      <td>SELECT\\n    ORG.ORG_NAME,\\n    CHECKTYPE_CODE,...</td>\n",
       "      <td>FROM WACES_CARBON_EMS_DF F,\\n       DIM_ORG  O...</td>\n",
       "    </tr>\n",
       "    <tr>\n",
       "      <th>1</th>\n",
       "      <td>WACES_CARBON_EMS02_MF_V</td>\n",
       "      <td>select \\n    org.org_name,\\n    c.check_date p...</td>\n",
       "      <td>from WBIMF_PRODUCTION_INDS_MF p,\\n       (sele...</td>\n",
       "    </tr>\n",
       "  </tbody>\n",
       "</table>\n",
       "</div>"
      ],
      "text/plain": [
       "                 view_name                                               text  \\\n",
       "0  WACES_CARBON_EMS01_DF_V  SELECT\\n    ORG.ORG_NAME,\\n    CHECKTYPE_CODE,...   \n",
       "1  WACES_CARBON_EMS02_MF_V  select \\n    org.org_name,\\n    c.check_date p...   \n",
       "\n",
       "                                         data_source  \n",
       "0  FROM WACES_CARBON_EMS_DF F,\\n       DIM_ORG  O...  \n",
       "1  from WBIMF_PRODUCTION_INDS_MF p,\\n       (sele...  "
      ]
     },
     "execution_count": 7,
     "metadata": {},
     "output_type": "execute_result"
    }
   ],
   "source": [
    "view_info"
   ]
  },
  {
   "cell_type": "code",
   "execution_count": 8,
   "metadata": {},
   "outputs": [
    {
     "name": "stdout",
     "output_type": "stream",
     "text": [
      "select \n",
      "    org.org_name,\n",
      "    c.check_date period_date,\n",
      "    EMISSION_CATEGORY,\n",
      "    c.co2_qty co2_qty,\n",
      "    p.prod_qty\n",
      "  from WBIMF_PRODUCTION_INDS_MF p,\n",
      "       (select \n",
      "            org_code,\n",
      "            check_date,\n",
      "            EMISSION_CATEGORY,\n",
      "            sum(co2_qty) co2_qty\n",
      "          from WACES_CARBON_EMS_DF\n",
      "         where 1=1\n",
      "           and checktype_name = '月盤查'\n",
      "         group by org_code, check_date,EMISSION_CATEGORY) c,\n",
      "      DIM_ORG org\n",
      " where 1=1\n",
      "   and c.org_code = p.org_code(+)\n",
      "   and c.check_date = p.period_date(+)\n",
      "   and org.org_code = c.org_code\n",
      "   and org.rpt_used = 'ESG碳排分析'\n"
     ]
    }
   ],
   "source": [
    "print(view_info.iloc[1].text)"
   ]
  },
  {
   "cell_type": "code",
   "execution_count": 9,
   "metadata": {},
   "outputs": [],
   "source": [
    "system_template = \"\"\"\n",
    "    I will provide the table_name and the datasource by SQL. \n",
    "    Following is the example, give me the answer based on real case:\n",
    "    1. Give me the child table name as a list, like following:\n",
    "        child_list = [child_table_1, child_table_2]\n",
    "    2. Give me the condition if there is, such as: carbon_volume > 20\n",
    "    3. Give me the merge condition if ther is, such as F.ORG_CODE = ORG.ORG_CODE, then the result is ORG_CODE\n",
    "\n",
    "    Just export the summary without any other description.\n",
    "    \n",
    "    table_name: {table_name}\n",
    "\n",
    "    datasource: {datasource}\n",
    "\n",
    "    \"\"\"\n",
    "\n",
    "messages = [\n",
    "    SystemMessagePromptTemplate.from_template(system_template),\n",
    "    HumanMessagePromptTemplate.from_template(\"{table_name}, {datasource}\")\n",
    "]\n",
    "\n",
    "CHAT_PROMPT = ChatPromptTemplate.from_messages(messages)"
   ]
  },
  {
   "cell_type": "code",
   "execution_count": 10,
   "metadata": {},
   "outputs": [],
   "source": [
    "llm = ChatOpenAI(model='gpt-4o-mini', openai_api_key = O_KEY)"
   ]
  },
  {
   "cell_type": "code",
   "execution_count": 11,
   "metadata": {},
   "outputs": [],
   "source": [
    "# llm = ChatGoogleGenerativeAI(\n",
    "#     model=\"gemini-pro\",\n",
    "#     convert_system_message_to_human=True,\n",
    "#     safety_settings={\n",
    "#         HarmCategory.HARM_CATEGORY_HATE_SPEECH: HarmBlockThreshold.BLOCK_NONE,\n",
    "#         HarmCategory.HARM_CATEGORY_HARASSMENT: HarmBlockThreshold.BLOCK_NONE,\n",
    "#         HarmCategory.HARM_CATEGORY_DANGEROUS_CONTENT: HarmBlockThreshold.BLOCK_NONE,\n",
    "#     },\n",
    "# )"
   ]
  },
  {
   "cell_type": "code",
   "execution_count": 12,
   "metadata": {},
   "outputs": [],
   "source": [
    "chain = CHAT_PROMPT | llm\n",
    "input_data = {\n",
    "    \"table_name\": view_info.iloc[1].view_name,\n",
    "    \"datasource\": view_info.iloc[1].data_source\n",
    "}\n",
    "llm_response = chain.invoke(input_data)"
   ]
  },
  {
   "cell_type": "code",
   "execution_count": 13,
   "metadata": {},
   "outputs": [
    {
     "name": "stdout",
     "output_type": "stream",
     "text": [
      "from WBIMF_PRODUCTION_INDS_MF p,\n",
      "       (select \n",
      "            org_code,\n",
      "            check_date,\n",
      "            EMISSION_CATEGORY,\n",
      "            sum(co2_qty) co2_qty\n",
      "          from WACES_CARBON_EMS_DF\n",
      "         where 1=1\n",
      "           and checktype_name = '月盤查'\n",
      "         group by org_code, check_date,EMISSION_CATEGORY) c,\n",
      "      DIM_ORG org\n",
      " where 1=1\n",
      "   and c.org_code = p.org_code(+)\n",
      "   and c.check_date = p.period_date(+)\n",
      "   and org.org_code = c.org_code\n",
      "   and org.rpt_used = 'ESG碳排分析'\n"
     ]
    }
   ],
   "source": [
    "print(view_info.iloc[1].data_source)"
   ]
  },
  {
   "cell_type": "code",
   "execution_count": 14,
   "metadata": {},
   "outputs": [
    {
     "name": "stdout",
     "output_type": "stream",
     "text": [
      "child_list = [WACES_CARBON_EMS_DF, DIM_ORG]\n",
      "condition = org.rpt_used = 'ESG碳排分析'\n",
      "merge_condition = c.org_code = p.org_code, c.check_date = p.period_date, org.org_code = c.org_code\n"
     ]
    }
   ],
   "source": [
    "print(llm_response.content)"
   ]
  },
  {
   "cell_type": "code",
   "execution_count": 15,
   "metadata": {},
   "outputs": [],
   "source": [
    "system_template = \"\"\"\n",
    "    I will provide the table_name and the corresponing Oracle SQL. \n",
    "    Recongize all the unique identifer such as DIM_ORG org, the unique identifier is org.\n",
    "    Understand the relationship, such as org.org_code which means the column org_code in DIM_ORG.\n",
    "    Return the answer with the ORIGINAL table name instead of the unique identifier.\n",
    "\n",
    "    Following is the example, give me the answer based on real case:\n",
    "    ### Oracle SQL:\n",
    "            from WBIPD_PRODUCTION_INDS_MF p,\n",
    "            (select \n",
    "                    org_code,\n",
    "                    check_date,\n",
    "                    EMISSION_CATEGORY,\n",
    "                    sum(co2_qty) co2_qty\n",
    "                from WACES_CARBON_EMS_DF\n",
    "                where 1=1\n",
    "                and checktype_name = '月盤查'\n",
    "                group by org_code, check_date,EMISSION_CATEGORY) c,\n",
    "            DIM_ORG org\n",
    "        where 1=1\n",
    "        and c.org_code = p.org_code(+)\n",
    "        and c.check_date = p.period_date(+)\n",
    "        and org.org_code = c.org_code\n",
    "        and org.rpt_used = 'ESG碳排分析'\n",
    "    ### Result:\n",
    "\n",
    "        Datasource = ['WACES_CARBON_EMS_DF', 'WBIPD_PRODUCTION_INDS_MF', 'DIM_ORG']\n",
    "\n",
    "        Relationship = \n",
    "        [\n",
    "        (GROUPBY: WACES_CARBON_EMS_DF filter with checktype_name = '月盤查', group by org_code, check_date,EMISSION_CATEGORY),\n",
    "        (JOIN: WACES_CARBON_EMS_DF.org_code = WBIPD_PRODUCTION_INDS_MF.org_code(+)),\n",
    "        (JOIN: WACES_CARBON_EMS_DF.period_date = WBIPD_PRODUCTION_INDS_MF.period_date(+)),\n",
    "        (JOIN: DIM_ORG.org_code = WACES_CARBON_EMS_DF.org_code),\n",
    "        (Filter: DIM_ORG.rpt_used = 'ESG碳排分析'),\n",
    "        ]\n",
    "\n",
    "    Just export the summary without any other description.\n",
    "    \n",
    "    table_name: {table_name}\n",
    "\n",
    "    datasource: {datasource}\n",
    "\n",
    "    \"\"\"\n",
    "\n",
    "messages = [\n",
    "    SystemMessagePromptTemplate.from_template(system_template),\n",
    "    HumanMessagePromptTemplate.from_template(\"{table_name}, {datasource}\")\n",
    "]\n",
    "\n",
    "CHAT_PROMPT = ChatPromptTemplate.from_messages(messages)"
   ]
  },
  {
   "cell_type": "code",
   "execution_count": 16,
   "metadata": {},
   "outputs": [],
   "source": [
    "chain = CHAT_PROMPT | llm\n",
    "input_data = {\n",
    "    \"table_name\": view_info.iloc[0].view_name,\n",
    "    \"datasource\": view_info.iloc[0].data_source\n",
    "}\n",
    "llm_response = chain.invoke(input_data)"
   ]
  },
  {
   "cell_type": "code",
   "execution_count": 17,
   "metadata": {},
   "outputs": [
    {
     "data": {
      "text/plain": [
       "\"FROM WACES_CARBON_EMS_DF F,\\n       DIM_ORG  ORG\\n WHERE 1=1\\n   AND ORG.RPT_USED = 'ESG碳排分析'\\n   AND F.ORG_CODE = ORG.ORG_CODE\""
      ]
     },
     "execution_count": 17,
     "metadata": {},
     "output_type": "execute_result"
    }
   ],
   "source": [
    "view_info.iloc[0].data_source"
   ]
  },
  {
   "cell_type": "code",
   "execution_count": 18,
   "metadata": {},
   "outputs": [
    {
     "name": "stdout",
     "output_type": "stream",
     "text": [
      "Datasource = ['WACES_CARBON_EMS_DF', 'DIM_ORG']\n",
      "\n",
      "Relationship = \n",
      "[\n",
      "(JOIN: WACES_CARBON_EMS_DF.ORG_CODE = DIM_ORG.ORG_CODE),\n",
      "(Filter: DIM_ORG.RPT_USED = 'ESG碳排分析'),\n",
      "]\n"
     ]
    }
   ],
   "source": [
    "print(llm_response.content)"
   ]
  },
  {
   "cell_type": "code",
   "execution_count": 19,
   "metadata": {},
   "outputs": [
    {
     "data": {
      "text/plain": [
       "\"Datasource = ['WACES_CARBON_EMS_DF', 'DIM_ORG']\\n\\nRelationship = \\n[\\n(JOIN: WACES_CARBON_EMS_DF.ORG_CODE = DIM_ORG.ORG_CODE),\\n(Filter: DIM_ORG.RPT_USED = 'ESG碳排分析'),\\n]\""
      ]
     },
     "execution_count": 19,
     "metadata": {},
     "output_type": "execute_result"
    }
   ],
   "source": [
    "llm_response.content"
   ]
  },
  {
   "cell_type": "code",
   "execution_count": 20,
   "metadata": {},
   "outputs": [
    {
     "name": "stdout",
     "output_type": "stream",
     "text": [
      "Datasource List: ['WACES_CARBON_EMS_DF', 'DIM_ORG']\n",
      "Relationship List: ['JOIN: WACES_CARBON_EMS_DF.ORG_CODE = DIM_ORG.ORG_CODE', \"Filter: DIM_ORG.RPT_USED = 'ESG碳排分析'\"]\n"
     ]
    }
   ],
   "source": [
    "import ast\n",
    "\n",
    "def extract_lists(input_string):\n",
    "    # Split the input string into sections based on the prefixes\n",
    "    parts = input_string.split('\\n\\n')\n",
    "    \n",
    "    # Initialize dictionaries to hold the lists\n",
    "    extracted_data = {}\n",
    "    \n",
    "    # Loop through each part and extract the corresponding list\n",
    "    for part in parts:\n",
    "        if part.startswith(\"Datasource\"):\n",
    "            # Extract the Datasource list using the prefix\n",
    "            datasource_section = part[len(\"Datasource = \"):].strip()\n",
    "            extracted_data[\"Datasource\"] = ast.literal_eval(datasource_section)\n",
    "        elif part.startswith(\"Relationship\"):\n",
    "            # Extract the Relationship list using the prefix\n",
    "            relationship_section = part[len(\"Relationship = \"):].strip()\n",
    "            # Remove brackets and split into list\n",
    "            relationship_section = relationship_section.strip(\"[]\\n\")\n",
    "            relationship_list = [item.strip().replace(\"(\", \"\").replace(\")\", \"\").replace(\",\", \"\") for item in relationship_section.split(',\\n')]\n",
    "            extracted_data[\"Relationship\"] = relationship_list\n",
    "    \n",
    "    return extracted_data\n",
    "\n",
    "# Example usage\n",
    "input_string = llm_response.content\n",
    "result = extract_lists(input_string)\n",
    "\n",
    "# Output the lists\n",
    "datasource_list = result.get(\"Datasource\", [])\n",
    "relationship_list = result.get(\"Relationship\", [])\n",
    "\n",
    "print(\"Datasource List:\", datasource_list)\n",
    "print(\"Relationship List:\", relationship_list)\n"
   ]
  },
  {
   "cell_type": "code",
   "execution_count": 21,
   "metadata": {},
   "outputs": [
    {
     "data": {
      "text/plain": [
       "'WACES_CARBON_EMS_DF'"
      ]
     },
     "execution_count": 21,
     "metadata": {},
     "output_type": "execute_result"
    }
   ],
   "source": [
    "datasource_list[0]"
   ]
  },
  {
   "cell_type": "code",
   "execution_count": 22,
   "metadata": {},
   "outputs": [],
   "source": [
    "# Create graph\n",
    "graph = Graph(host=\"138.3.214.21\", auth=(\"neo4j\",\"yfy12345\"))"
   ]
  },
  {
   "cell_type": "code",
   "execution_count": 23,
   "metadata": {},
   "outputs": [],
   "source": [
    "result_dict = {}\n",
    "for source_item in datasource_list:\n",
    "    for rel_item in relationship_list:\n",
    "        if source_item in rel_item:\n",
    "            result_dict[source_item] = rel_item\n",
    "            related_source = [rel_source for rel_source in datasource_list if rel_source != source_item]\n",
    "            # num_related_source = len(related_source)\n",
    "            source_table = Node(\"table\", name=source_item)\n",
    "            related_source_table = Node(\"table\", name=related_source[0])\n",
    "\n",
    "            property_dictionary = {}\n",
    "            rel_item = rel_item.replace(\"(\", \"\").replace(\")\", \"\").replace(\",\", \"\")\n",
    "            if \"Filter\" in rel_item:\n",
    "                property_dictionary['condition'] = rel_item\n",
    "            elif \"JOIN\" in rel_item:\n",
    "                property_dictionary['merge'] = rel_item\n",
    "\n",
    "            relationship = Relationship(source_table, \"FROM\", related_source_table, **property_dictionary)\n",
    "\n",
    "            # Check if the relationship already exists\n",
    "            # existing_relationships = graph.match(\n",
    "            #     (source_table, related_source_table), r_type=\"FROM\"\n",
    "            # )\n",
    "            \n",
    "            # if not existing_relationships:\n",
    "            #     graph.create(relationship)\n",
    "                \n",
    "            # relationship_exists = any(\n",
    "            #     rel for rel in existing_relationships if rel['condition'] == property_dictionary.get('condition') or rel['merge'] == property_dictionary.get('merge')\n",
    "            # )\n",
    "\n",
    "            # if not relationship_exists:\n",
    "            #     relationship = Relationship(source_table, \"FROM\", related_source_table, **property_dictionary)\n",
    "            #     graph.create(relationship)\n",
    "            # graph.create(relationship)"
   ]
  },
  {
   "cell_type": "code",
   "execution_count": 28,
   "metadata": {},
   "outputs": [],
   "source": [
    "existing_relationships = graph.match(\n",
    "    (source_table, related_source_table), r_type=\"FROM\"\n",
    ")"
   ]
  },
  {
   "cell_type": "code",
   "execution_count": 29,
   "metadata": {},
   "outputs": [
    {
     "data": {
      "text/plain": [
       "Node('table', name='DIM_ORG')"
      ]
     },
     "execution_count": 29,
     "metadata": {},
     "output_type": "execute_result"
    }
   ],
   "source": [
    "source_table"
   ]
  },
  {
   "cell_type": "code",
   "execution_count": 30,
   "metadata": {},
   "outputs": [
    {
     "data": {
      "text/plain": [
       "<py2neo.matching.RelationshipMatch at 0x2bc07ca0550>"
      ]
     },
     "execution_count": 30,
     "metadata": {},
     "output_type": "execute_result"
    }
   ],
   "source": [
    "existing_relationships"
   ]
  },
  {
   "cell_type": "code",
   "execution_count": 31,
   "metadata": {},
   "outputs": [
    {
     "name": "stdout",
     "output_type": "stream",
     "text": [
      "a\n"
     ]
    },
    {
     "ename": "",
     "evalue": "",
     "output_type": "error",
     "traceback": [
      "\u001b[1;31mThe Kernel crashed while executing code in the current cell or a previous cell. \n",
      "\u001b[1;31mPlease review the code in the cell(s) to identify a possible cause of the failure. \n",
      "\u001b[1;31mClick <a href='https://aka.ms/vscodeJupyterKernelCrash'>here</a> for more info. \n",
      "\u001b[1;31mView Jupyter <a href='command:jupyter.viewOutput'>log</a> for further details."
     ]
    }
   ],
   "source": [
    "try:\n",
    "    if existing_relationships:\n",
    "        relationship_exists = any(\n",
    "                rel for rel in existing_relationships if rel['condition'] == property_dictionary.get('condition') or rel['merge'] == property_dictionary.get('merge')\n",
    "            )\n",
    "        print(\"a\")\n",
    "except:\n",
    "    graph.create(relationship)\n"
   ]
  },
  {
   "cell_type": "code",
   "execution_count": 26,
   "metadata": {},
   "outputs": [
    {
     "ename": "ValueError",
     "evalue": "Node Node('table', name='DIM_ORG') does not belong to this graph",
     "output_type": "error",
     "traceback": [
      "\u001b[1;31m---------------------------------------------------------------------------\u001b[0m",
      "\u001b[1;31mValueError\u001b[0m                                Traceback (most recent call last)",
      "Cell \u001b[1;32mIn[26], line 1\u001b[0m\n\u001b[1;32m----> 1\u001b[0m \u001b[38;5;28;01mif\u001b[39;00m existing_relationships:\n\u001b[0;32m      3\u001b[0m     \u001b[38;5;28mprint\u001b[39m(\u001b[38;5;241m1\u001b[39m)\n",
      "File \u001b[1;32mc:\\Users\\sean.chang\\AppData\\Local\\anaconda3\\envs\\bibot\\lib\\site-packages\\py2neo\\matching.py:670\u001b[0m, in \u001b[0;36mRelationshipMatch.__len__\u001b[1;34m(self)\u001b[0m\n\u001b[0;32m    667\u001b[0m \u001b[38;5;28;01mdef\u001b[39;00m \u001b[38;5;21m__len__\u001b[39m(\u001b[38;5;28mself\u001b[39m):\n\u001b[0;32m    668\u001b[0m \u001b[38;5;250m    \u001b[39m\u001b[38;5;124;03m\"\"\" Return the number of relationships matched.\u001b[39;00m\n\u001b[0;32m    669\u001b[0m \u001b[38;5;124;03m    \"\"\"\u001b[39;00m\n\u001b[1;32m--> 670\u001b[0m     \u001b[38;5;28;01mreturn\u001b[39;00m \u001b[38;5;28mself\u001b[39m\u001b[38;5;241m.\u001b[39mgraph\u001b[38;5;241m.\u001b[39mevaluate(\u001b[38;5;241m*\u001b[39m\u001b[38;5;28;43mself\u001b[39;49m\u001b[38;5;241;43m.\u001b[39;49m\u001b[43m_query_and_parameters\u001b[49m\u001b[43m(\u001b[49m\u001b[43mcount\u001b[49m\u001b[38;5;241;43m=\u001b[39;49m\u001b[38;5;28;43;01mTrue\u001b[39;49;00m\u001b[43m)\u001b[49m)\n",
      "File \u001b[1;32mc:\\Users\\sean.chang\\AppData\\Local\\anaconda3\\envs\\bibot\\lib\\site-packages\\py2neo\\matching.py:751\u001b[0m, in \u001b[0;36mRelationshipMatch._query_and_parameters\u001b[1;34m(self, count)\u001b[0m\n\u001b[0;32m    749\u001b[0m \u001b[38;5;28;01mif\u001b[39;00m \u001b[38;5;28mlen\u001b[39m(\u001b[38;5;28mself\u001b[39m\u001b[38;5;241m.\u001b[39m_nodes) \u001b[38;5;241m>\u001b[39m\u001b[38;5;241m=\u001b[39m \u001b[38;5;241m1\u001b[39m \u001b[38;5;129;01mand\u001b[39;00m \u001b[38;5;28mself\u001b[39m\u001b[38;5;241m.\u001b[39m_nodes[\u001b[38;5;241m0\u001b[39m] \u001b[38;5;129;01mis\u001b[39;00m \u001b[38;5;129;01mnot\u001b[39;00m \u001b[38;5;28;01mNone\u001b[39;00m:\n\u001b[0;32m    750\u001b[0m     start_node \u001b[38;5;241m=\u001b[39m \u001b[38;5;28mself\u001b[39m\u001b[38;5;241m.\u001b[39m_nodes[\u001b[38;5;241m0\u001b[39m]\n\u001b[1;32m--> 751\u001b[0m     \u001b[43mverify_node\u001b[49m\u001b[43m(\u001b[49m\u001b[43mstart_node\u001b[49m\u001b[43m)\u001b[49m\n\u001b[0;32m    752\u001b[0m     clauses\u001b[38;5;241m.\u001b[39mappend(\u001b[38;5;124m\"\u001b[39m\u001b[38;5;124mMATCH (a) WHERE id(a) = $x\u001b[39m\u001b[38;5;124m\"\u001b[39m)\n\u001b[0;32m    753\u001b[0m     parameters[\u001b[38;5;124m\"\u001b[39m\u001b[38;5;124mx\u001b[39m\u001b[38;5;124m\"\u001b[39m] \u001b[38;5;241m=\u001b[39m start_node\u001b[38;5;241m.\u001b[39midentity\n",
      "File \u001b[1;32mc:\\Users\\sean.chang\\AppData\\Local\\anaconda3\\envs\\bibot\\lib\\site-packages\\py2neo\\matching.py:727\u001b[0m, in \u001b[0;36mRelationshipMatch._query_and_parameters.<locals>.verify_node\u001b[1;34m(n)\u001b[0m\n\u001b[0;32m    725\u001b[0m \u001b[38;5;28;01mdef\u001b[39;00m \u001b[38;5;21mverify_node\u001b[39m(n):\n\u001b[0;32m    726\u001b[0m     \u001b[38;5;28;01mif\u001b[39;00m n\u001b[38;5;241m.\u001b[39mgraph \u001b[38;5;241m!=\u001b[39m \u001b[38;5;28mself\u001b[39m\u001b[38;5;241m.\u001b[39mgraph:\n\u001b[1;32m--> 727\u001b[0m         \u001b[38;5;28;01mraise\u001b[39;00m \u001b[38;5;167;01mValueError\u001b[39;00m(\u001b[38;5;124m\"\u001b[39m\u001b[38;5;124mNode \u001b[39m\u001b[38;5;132;01m%r\u001b[39;00m\u001b[38;5;124m does not belong to this graph\u001b[39m\u001b[38;5;124m\"\u001b[39m \u001b[38;5;241m%\u001b[39m n)\n\u001b[0;32m    728\u001b[0m     \u001b[38;5;28;01mif\u001b[39;00m n\u001b[38;5;241m.\u001b[39midentity \u001b[38;5;129;01mis\u001b[39;00m \u001b[38;5;28;01mNone\u001b[39;00m:\n\u001b[0;32m    729\u001b[0m         \u001b[38;5;28;01mraise\u001b[39;00m \u001b[38;5;167;01mValueError\u001b[39;00m(\u001b[38;5;124m\"\u001b[39m\u001b[38;5;124mNode \u001b[39m\u001b[38;5;132;01m%r\u001b[39;00m\u001b[38;5;124m is not bound to a graph\u001b[39m\u001b[38;5;124m\"\u001b[39m \u001b[38;5;241m%\u001b[39m n)\n",
      "\u001b[1;31mValueError\u001b[0m: Node Node('table', name='DIM_ORG') does not belong to this graph"
     ]
    }
   ],
   "source": [
    "if existing_relationships:\n",
    "\n",
    "    print(1)"
   ]
  },
  {
   "cell_type": "code",
   "execution_count": 28,
   "metadata": {},
   "outputs": [],
   "source": [
    "if existing_relationships:\n",
    "    relationship_exists = any(\n",
    "            rel for rel in existing_relationships if rel['condition'] == property_dictionary.get('condition') or rel['merge'] == property_dictionary.get('merge')\n",
    "        )"
   ]
  },
  {
   "cell_type": "code",
   "execution_count": 29,
   "metadata": {},
   "outputs": [
    {
     "data": {
      "text/plain": [
       "True"
      ]
     },
     "execution_count": 29,
     "metadata": {},
     "output_type": "execute_result"
    }
   ],
   "source": [
    "relationship_exists"
   ]
  },
  {
   "cell_type": "code",
   "execution_count": 81,
   "metadata": {},
   "outputs": [
    {
     "data": {
      "text/plain": [
       "{'condition': \"Filter: DIM_ORG.rpt_used = 'ESG碳排分析'\"}"
      ]
     },
     "execution_count": 81,
     "metadata": {},
     "output_type": "execute_result"
    }
   ],
   "source": [
    "property_dictionary = {}\n",
    "rel_item = rel_item.replace(\"(\", \"\").replace(\")\", \"\").replace(\",\", \"\")\n",
    "if \"Filter\" in rel_item:\n",
    "    property_dictionary['condition'] = rel_item\n",
    "elif \"JOIN\" in rel_item:\n",
    "    property_dictionary['merge'] = rel_item\n",
    "property_dictionary"
   ]
  },
  {
   "cell_type": "code",
   "execution_count": 86,
   "metadata": {},
   "outputs": [
    {
     "name": "stdout",
     "output_type": "stream",
     "text": [
      "Node A: (_0:table {name: 'WACES_CARBON_EMS_DF'})\n",
      "Relationship: (WACES_CARBON_EMS_DF)-[:FROM {merge: 'JOIN: WACES_CARBON_EMS_DF.org_code = DIM_ORG.org_code'}]->(DIM_ORG)\n",
      "Node B: (_1:table {name: 'DIM_ORG'})\n",
      "Node A: (_2:table {name: 'DIM_ORG'})\n",
      "Relationship: (DIM_ORG)-[:FROM {merge: 'JOIN: WACES_CARBON_EMS_DF.org_code = DIM_ORG.org_code'}]->(WACES_CARBON_EMS_DF)\n",
      "Node B: (_3:table {name: 'WACES_CARBON_EMS_DF'})\n",
      "Node A: (_4:table {name: 'DIM_ORG'})\n",
      "Relationship: (DIM_ORG)-[:FROM {condition: \"Filter: DIM_ORG.rpt_used = 'ESG\\u78b3\\u6392\\u5206\\u6790'\"}]->(WACES_CARBON_EMS_DF)\n",
      "Node B: (_5:table {name: 'WACES_CARBON_EMS_DF'})\n"
     ]
    }
   ],
   "source": [
    "# Query to match the nodes and relationship\n",
    "query = \"\"\"\n",
    "MATCH (a)-[r:FROM]->(b)\n",
    "RETURN a, r, b\n",
    "\"\"\"\n",
    "\n",
    "# Execute the query and get the result\n",
    "result = graph.run(query)\n",
    "\n",
    "# Iterate over the result and print it\n",
    "for record in result:\n",
    "    print(f\"Node A: {record['a']}\")\n",
    "    print(f\"Relationship: {record['r']}\")\n",
    "    print(f\"Node B: {record['b']}\")\n"
   ]
  },
  {
   "cell_type": "code",
   "execution_count": 105,
   "metadata": {},
   "outputs": [
    {
     "data": {
      "text/html": [
       "<table><tr><th>a</th><th>r</th><th>b</th></tr><tr><td style=\"text-align:left\">(_0:table {name: &#039;WACES_CARBON_EMS_DF&#039;})</td><td style=\"text-align:left\">(WACES_CARBON_EMS_DF)-[:FROM {merge: &#039;JOIN: WACES_CARBON_EMS_DF.org_code = DIM_ORG.org_code&#039;}]-&gt;(DIM_ORG)</td><td style=\"text-align:left\">(_1:table {name: &#039;DIM_ORG&#039;})</td></tr><tr><td style=\"text-align:left\">(_2:table {name: &#039;DIM_ORG&#039;})</td><td style=\"text-align:left\">(DIM_ORG)-[:FROM {merge: &#039;JOIN: WACES_CARBON_EMS_DF.org_code = DIM_ORG.org_code&#039;}]-&gt;(WACES_CARBON_EMS_DF)</td><td style=\"text-align:left\">(_3:table {name: &#039;WACES_CARBON_EMS_DF&#039;})</td></tr><tr><td style=\"text-align:left\">(_4:table {name: &#039;DIM_ORG&#039;})</td><td style=\"text-align:left\">(DIM_ORG)-[:FROM {condition: &quot;Filter: DIM_ORG.rpt_used = &#039;ESG\\u78b3\\u6392\\u5206\\u6790&#039;&quot;}]-&gt;(WACES_CARBON_EMS_DF)</td><td style=\"text-align:left\">(_5:table {name: &#039;WACES_CARBON_EMS_DF&#039;})</td></tr></table>"
      ],
      "text/plain": [
       " a                                        | r                                                                                                                | b                                        \n",
       "------------------------------------------|------------------------------------------------------------------------------------------------------------------|------------------------------------------\n",
       " (_0:table {name: 'WACES_CARBON_EMS_DF'}) | (WACES_CARBON_EMS_DF)-[:FROM {merge: 'JOIN: WACES_CARBON_EMS_DF.org_code = DIM_ORG.org_code'}]->(DIM_ORG)        | (_1:table {name: 'DIM_ORG'})             \n",
       " (_2:table {name: 'DIM_ORG'})             | (DIM_ORG)-[:FROM {merge: 'JOIN: WACES_CARBON_EMS_DF.org_code = DIM_ORG.org_code'}]->(WACES_CARBON_EMS_DF)        | (_3:table {name: 'WACES_CARBON_EMS_DF'}) \n",
       " (_4:table {name: 'DIM_ORG'})             | (DIM_ORG)-[:FROM {condition: \"Filter: DIM_ORG.rpt_used = 'ESG\\u78b3\\u6392\\u5206\\u6790'\"}]->(WACES_CARBON_EMS_DF) | (_5:table {name: 'WACES_CARBON_EMS_DF'}) "
      ]
     },
     "execution_count": 105,
     "metadata": {},
     "output_type": "execute_result"
    }
   ],
   "source": [
    "query = \"\"\"\n",
    "MATCH (a)-[r:FROM]->(b)\n",
    "RETURN a, r, b\n",
    "\"\"\"\n",
    "\n",
    "# Execute the query and get the result\n",
    "result = graph.run(query)\n",
    "result"
   ]
  },
  {
   "cell_type": "code",
   "execution_count": 89,
   "metadata": {},
   "outputs": [
    {
     "data": {
      "text/html": [
       "(No data)"
      ],
      "text/plain": [
       "(No data)"
      ]
     },
     "execution_count": 89,
     "metadata": {},
     "output_type": "execute_result"
    }
   ],
   "source": [
    "# Delete all relationships\n",
    "graph.run(\"MATCH ()-[r]->() DELETE r\")\n",
    "\n",
    "# Delete all nodes\n",
    "graph.run(\"MATCH (n) DELETE n\")"
   ]
  }
 ],
 "metadata": {
  "kernelspec": {
   "display_name": "bibot",
   "language": "python",
   "name": "python3"
  },
  "language_info": {
   "codemirror_mode": {
    "name": "ipython",
    "version": 3
   },
   "file_extension": ".py",
   "mimetype": "text/x-python",
   "name": "python",
   "nbconvert_exporter": "python",
   "pygments_lexer": "ipython3",
   "version": "3.10.14"
  }
 },
 "nbformat": 4,
 "nbformat_minor": 2
}
