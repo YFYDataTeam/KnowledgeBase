{
 "cells": [
  {
   "cell_type": "code",
   "execution_count": 1,
   "metadata": {},
   "outputs": [
    {
     "name": "stderr",
     "output_type": "stream",
     "text": [
      "c:\\Users\\sean.chang\\AppData\\Local\\anaconda3\\envs\\bibot\\lib\\site-packages\\tqdm\\auto.py:21: TqdmWarning: IProgress not found. Please update jupyter and ipywidgets. See https://ipywidgets.readthedocs.io/en/stable/user_install.html\n",
      "  from .autonotebook import tqdm as notebook_tqdm\n"
     ]
    }
   ],
   "source": [
    "from utils import read_config, OracleAgent\n",
    "import re\n",
    "import os\n",
    "from langchain.prompts import PromptTemplate\n",
    "from langchain.prompts.chat import (\n",
    "    ChatPromptTemplate,\n",
    "    SystemMessagePromptTemplate,\n",
    "    HumanMessagePromptTemplate\n",
    ")\n",
    "\n",
    "\n",
    "import google.generativeai as genai\n",
    "from langchain_google_genai import (\n",
    "    ChatGoogleGenerativeAI,\n",
    "    HarmBlockThreshold,\n",
    "    HarmCategory,\n",
    ")\n"
   ]
  },
  {
   "cell_type": "code",
   "execution_count": 2,
   "metadata": {},
   "outputs": [],
   "source": [
    "configs = read_config(\".env/info.json\")\n",
    "\n",
    "os.environ[\"GOOGLE_API_KEY\"] = configs['gkey']"
   ]
  },
  {
   "cell_type": "code",
   "execution_count": 3,
   "metadata": {},
   "outputs": [],
   "source": [
    "configs = read_config(\".env/info.json\")\n",
    "# BIDB = configs['BIDB_conn_info']\n",
    "# bi_agent = OracleAgent(BIDB)\n",
    "DWDB = configs['DW_conn_info']\n",
    "dw_agent = OracleAgent(DWDB)\n",
    "\n"
   ]
  },
  {
   "cell_type": "code",
   "execution_count": 4,
   "metadata": {},
   "outputs": [],
   "source": [
    "query = \"\"\"\n",
    "    SELECT view_name, text FROM ALL_Views\n",
    "    where owner = 'YFYDW'\n",
    "\"\"\"\n",
    "\n",
    "view_info = dw_agent.read_table(query=query)"
   ]
  },
  {
   "cell_type": "code",
   "execution_count": 5,
   "metadata": {},
   "outputs": [
    {
     "data": {
      "text/html": [
       "<div>\n",
       "<style scoped>\n",
       "    .dataframe tbody tr th:only-of-type {\n",
       "        vertical-align: middle;\n",
       "    }\n",
       "\n",
       "    .dataframe tbody tr th {\n",
       "        vertical-align: top;\n",
       "    }\n",
       "\n",
       "    .dataframe thead th {\n",
       "        text-align: right;\n",
       "    }\n",
       "</style>\n",
       "<table border=\"1\" class=\"dataframe\">\n",
       "  <thead>\n",
       "    <tr style=\"text-align: right;\">\n",
       "      <th></th>\n",
       "      <th>view_name</th>\n",
       "      <th>text</th>\n",
       "    </tr>\n",
       "  </thead>\n",
       "  <tbody>\n",
       "    <tr>\n",
       "      <th>0</th>\n",
       "      <td>WACES_CARBON_EMS01_DF_V</td>\n",
       "      <td>SELECT\\n    ORG.ORG_NAME,\\n    CHECKTYPE_CODE,...</td>\n",
       "    </tr>\n",
       "    <tr>\n",
       "      <th>1</th>\n",
       "      <td>WACES_CARBON_EMS02_MF_V</td>\n",
       "      <td>select \\n    org.org_name,\\n    c.check_date p...</td>\n",
       "    </tr>\n",
       "  </tbody>\n",
       "</table>\n",
       "</div>"
      ],
      "text/plain": [
       "                 view_name                                               text\n",
       "0  WACES_CARBON_EMS01_DF_V  SELECT\\n    ORG.ORG_NAME,\\n    CHECKTYPE_CODE,...\n",
       "1  WACES_CARBON_EMS02_MF_V  select \\n    org.org_name,\\n    c.check_date p..."
      ]
     },
     "execution_count": 5,
     "metadata": {},
     "output_type": "execute_result"
    }
   ],
   "source": [
    "view_info"
   ]
  },
  {
   "cell_type": "code",
   "execution_count": 6,
   "metadata": {},
   "outputs": [],
   "source": [
    "# re.DOTALL: This is a flag that allows the '.' in the regular expression to match newline characters\n",
    "# re.IGNORECASE: This flag makes the search case-insenitive. So it will match \"FROM\", \"from\", \"From\" etc\n",
    "view_info['data_source'] = view_info['text'].apply(lambda x: re.search(r'FROM\\s+(.*)', x, re.DOTALL | re.IGNORECASE).group(0))"
   ]
  },
  {
   "cell_type": "code",
   "execution_count": 7,
   "metadata": {},
   "outputs": [
    {
     "data": {
      "text/html": [
       "<div>\n",
       "<style scoped>\n",
       "    .dataframe tbody tr th:only-of-type {\n",
       "        vertical-align: middle;\n",
       "    }\n",
       "\n",
       "    .dataframe tbody tr th {\n",
       "        vertical-align: top;\n",
       "    }\n",
       "\n",
       "    .dataframe thead th {\n",
       "        text-align: right;\n",
       "    }\n",
       "</style>\n",
       "<table border=\"1\" class=\"dataframe\">\n",
       "  <thead>\n",
       "    <tr style=\"text-align: right;\">\n",
       "      <th></th>\n",
       "      <th>view_name</th>\n",
       "      <th>text</th>\n",
       "      <th>data_source</th>\n",
       "    </tr>\n",
       "  </thead>\n",
       "  <tbody>\n",
       "    <tr>\n",
       "      <th>0</th>\n",
       "      <td>WACES_CARBON_EMS01_DF_V</td>\n",
       "      <td>SELECT\\n    ORG.ORG_NAME,\\n    CHECKTYPE_CODE,...</td>\n",
       "      <td>FROM WACES_CARBON_EMS_DF F,\\n       DIM_ORG  O...</td>\n",
       "    </tr>\n",
       "    <tr>\n",
       "      <th>1</th>\n",
       "      <td>WACES_CARBON_EMS02_MF_V</td>\n",
       "      <td>select \\n    org.org_name,\\n    c.check_date p...</td>\n",
       "      <td>from WBIPD_PRODUCTION_INDS_MF p,\\n       (sele...</td>\n",
       "    </tr>\n",
       "  </tbody>\n",
       "</table>\n",
       "</div>"
      ],
      "text/plain": [
       "                 view_name                                               text  \\\n",
       "0  WACES_CARBON_EMS01_DF_V  SELECT\\n    ORG.ORG_NAME,\\n    CHECKTYPE_CODE,...   \n",
       "1  WACES_CARBON_EMS02_MF_V  select \\n    org.org_name,\\n    c.check_date p...   \n",
       "\n",
       "                                         data_source  \n",
       "0  FROM WACES_CARBON_EMS_DF F,\\n       DIM_ORG  O...  \n",
       "1  from WBIPD_PRODUCTION_INDS_MF p,\\n       (sele...  "
      ]
     },
     "execution_count": 7,
     "metadata": {},
     "output_type": "execute_result"
    }
   ],
   "source": [
    "view_info"
   ]
  },
  {
   "cell_type": "code",
   "execution_count": 8,
   "metadata": {},
   "outputs": [
    {
     "name": "stdout",
     "output_type": "stream",
     "text": [
      "SELECT\n",
      "    ORG.ORG_NAME,\n",
      "    CHECKTYPE_CODE,\n",
      "    CHECKTYPE_NAME,\n",
      "    CHECK_DATE,\n",
      "    PRODUCT_CODE,\n",
      "    PRODUCT_NAME,\n",
      "    EMISSION_CATEGORY,\n",
      "    CO2_QTY\n",
      "  FROM WACES_CARBON_EMS_DF F,\n",
      "       DIM_ORG  ORG\n",
      " WHERE 1=1\n",
      "   AND ORG.RPT_USED = 'ESG碳排分析'\n",
      "   AND F.ORG_CODE = ORG.ORG_CODE\n"
     ]
    }
   ],
   "source": [
    "print(view_info.iloc[0].text)"
   ]
  },
  {
   "cell_type": "code",
   "execution_count": 9,
   "metadata": {},
   "outputs": [],
   "source": [
    "system_template = \"\"\"\n",
    "    I will provide the table_name and the datasource by SQL. Tell me the relationship\n",
    "\n",
    "    with the following format:\n",
    "    \n",
    "    table_name: {table_name}\n",
    "\n",
    "    datasource: {datasource}\n",
    "\n",
    "    \"\"\"\n",
    "\n",
    "messages = [\n",
    "    SystemMessagePromptTemplate.from_template(system_template),\n",
    "    HumanMessagePromptTemplate.from_template(\"{table_name}, {datasource}\")\n",
    "]\n",
    "\n",
    "CHAT_PROMPT = ChatPromptTemplate.from_messages(messages)"
   ]
  },
  {
   "cell_type": "code",
   "execution_count": 10,
   "metadata": {},
   "outputs": [],
   "source": [
    "llm = ChatGoogleGenerativeAI(\n",
    "    model=\"gemini-pro\",\n",
    "    convert_system_message_to_human=True,\n",
    "    safety_settings={\n",
    "        HarmCategory.HARM_CATEGORY_HATE_SPEECH: HarmBlockThreshold.BLOCK_NONE,\n",
    "        HarmCategory.HARM_CATEGORY_HARASSMENT: HarmBlockThreshold.BLOCK_NONE,\n",
    "        HarmCategory.HARM_CATEGORY_DANGEROUS_CONTENT: HarmBlockThreshold.BLOCK_NONE,\n",
    "    },\n",
    ")"
   ]
  },
  {
   "cell_type": "code",
   "execution_count": 12,
   "metadata": {},
   "outputs": [
    {
     "name": "stderr",
     "output_type": "stream",
     "text": [
      "c:\\Users\\sean.chang\\AppData\\Local\\anaconda3\\envs\\bibot\\lib\\site-packages\\langchain_google_genai\\chat_models.py:352: UserWarning: Convert_system_message_to_human will be deprecated!\n",
      "  warnings.warn(\"Convert_system_message_to_human will be deprecated!\")\n"
     ]
    }
   ],
   "source": [
    "chain = CHAT_PROMPT | llm\n",
    "input_data = {\n",
    "    \"table_name\": view_info.iloc[0].view_name,\n",
    "    \"datasource\": view_info.iloc[0].data_source\n",
    "}\n",
    "llm_response = chain.invoke(input_data)"
   ]
  },
  {
   "cell_type": "code",
   "execution_count": 15,
   "metadata": {},
   "outputs": [
    {
     "data": {
      "text/plain": [
       "'The relationship between the table_name and the datasource is that the table_name, WACES_CARBON_EMS01_DF_V, is derived from the data in the datasource. The datasource is a SQL query that selects data from the tables WACES_CARBON_EMS_DF and DIM_ORG, and then joins the two tables on the ORG_CODE column. The resulting table is then used to create the WAGES_CARBON_EMS01_DF_V table.'"
      ]
     },
     "execution_count": 15,
     "metadata": {},
     "output_type": "execute_result"
    }
   ],
   "source": [
    "llm_response.content"
   ]
  }
 ],
 "metadata": {
  "kernelspec": {
   "display_name": "bibot",
   "language": "python",
   "name": "python3"
  },
  "language_info": {
   "codemirror_mode": {
    "name": "ipython",
    "version": 3
   },
   "file_extension": ".py",
   "mimetype": "text/x-python",
   "name": "python",
   "nbconvert_exporter": "python",
   "pygments_lexer": "ipython3",
   "version": "3.10.14"
  }
 },
 "nbformat": 4,
 "nbformat_minor": 2
}
