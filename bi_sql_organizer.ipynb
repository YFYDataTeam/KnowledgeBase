{
 "cells": [
  {
   "cell_type": "code",
   "execution_count": 1,
   "metadata": {},
   "outputs": [],
   "source": [
    "from utils import read_config, OracleAgent"
   ]
  },
  {
   "cell_type": "code",
   "execution_count": 2,
   "metadata": {},
   "outputs": [],
   "source": [
    "configs = read_config(\".env/info.json\")\n",
    "# BIDB = configs['BIDB_conn_info']\n",
    "# bi_agent = OracleAgent(BIDB)\n",
    "DWDB = configs['DW_conn_info']\n",
    "dw_agent = OracleAgent(DWDB)"
   ]
  },
  {
   "cell_type": "code",
   "execution_count": 3,
   "metadata": {},
   "outputs": [
    {
     "data": {
      "text/html": [
       "<div>\n",
       "<style scoped>\n",
       "    .dataframe tbody tr th:only-of-type {\n",
       "        vertical-align: middle;\n",
       "    }\n",
       "\n",
       "    .dataframe tbody tr th {\n",
       "        vertical-align: top;\n",
       "    }\n",
       "\n",
       "    .dataframe thead th {\n",
       "        text-align: right;\n",
       "    }\n",
       "</style>\n",
       "<table border=\"1\" class=\"dataframe\">\n",
       "  <thead>\n",
       "    <tr style=\"text-align: right;\">\n",
       "      <th></th>\n",
       "      <th>owner</th>\n",
       "      <th>view_name</th>\n",
       "      <th>text_length</th>\n",
       "      <th>text</th>\n",
       "      <th>text_vc</th>\n",
       "      <th>type_text_length</th>\n",
       "      <th>type_text</th>\n",
       "      <th>oid_text_length</th>\n",
       "      <th>oid_text</th>\n",
       "      <th>view_type_owner</th>\n",
       "      <th>view_type</th>\n",
       "      <th>superview_name</th>\n",
       "      <th>editioning_view</th>\n",
       "      <th>read_only</th>\n",
       "      <th>container_data</th>\n",
       "      <th>bequeath</th>\n",
       "      <th>origin_con_id</th>\n",
       "    </tr>\n",
       "  </thead>\n",
       "  <tbody>\n",
       "    <tr>\n",
       "      <th>0</th>\n",
       "      <td>YFYDW</td>\n",
       "      <td>WACES_CARBON_EMS01_DF_V</td>\n",
       "      <td>285</td>\n",
       "      <td>SELECT\\n    ORG.ORG_NAME,\\n    CHECKTYPE_CODE,...</td>\n",
       "      <td>SELECT\\n    ORG.ORG_NAME,\\n    CHECKTYPE_CODE,...</td>\n",
       "      <td>None</td>\n",
       "      <td>None</td>\n",
       "      <td>None</td>\n",
       "      <td>None</td>\n",
       "      <td>None</td>\n",
       "      <td>None</td>\n",
       "      <td>None</td>\n",
       "      <td>N</td>\n",
       "      <td>N</td>\n",
       "      <td>N</td>\n",
       "      <td>DEFINER</td>\n",
       "      <td>0</td>\n",
       "    </tr>\n",
       "    <tr>\n",
       "      <th>1</th>\n",
       "      <td>YFYDW</td>\n",
       "      <td>WACES_CARBON_EMS02_MF_V</td>\n",
       "      <td>611</td>\n",
       "      <td>select \\n    org.org_name,\\n    c.check_date p...</td>\n",
       "      <td>select \\n    org.org_name,\\n    c.check_date p...</td>\n",
       "      <td>None</td>\n",
       "      <td>None</td>\n",
       "      <td>None</td>\n",
       "      <td>None</td>\n",
       "      <td>None</td>\n",
       "      <td>None</td>\n",
       "      <td>None</td>\n",
       "      <td>N</td>\n",
       "      <td>N</td>\n",
       "      <td>N</td>\n",
       "      <td>DEFINER</td>\n",
       "      <td>0</td>\n",
       "    </tr>\n",
       "  </tbody>\n",
       "</table>\n",
       "</div>"
      ],
      "text/plain": [
       "   owner                view_name  text_length  \\\n",
       "0  YFYDW  WACES_CARBON_EMS01_DF_V          285   \n",
       "1  YFYDW  WACES_CARBON_EMS02_MF_V          611   \n",
       "\n",
       "                                                text  \\\n",
       "0  SELECT\\n    ORG.ORG_NAME,\\n    CHECKTYPE_CODE,...   \n",
       "1  select \\n    org.org_name,\\n    c.check_date p...   \n",
       "\n",
       "                                             text_vc type_text_length  \\\n",
       "0  SELECT\\n    ORG.ORG_NAME,\\n    CHECKTYPE_CODE,...             None   \n",
       "1  select \\n    org.org_name,\\n    c.check_date p...             None   \n",
       "\n",
       "  type_text oid_text_length oid_text view_type_owner view_type superview_name  \\\n",
       "0      None            None     None            None      None           None   \n",
       "1      None            None     None            None      None           None   \n",
       "\n",
       "  editioning_view read_only container_data bequeath  origin_con_id  \n",
       "0               N         N              N  DEFINER              0  \n",
       "1               N         N              N  DEFINER              0  "
      ]
     },
     "execution_count": 3,
     "metadata": {},
     "output_type": "execute_result"
    }
   ],
   "source": [
    "query = \"\"\"\n",
    "    SELECT * FROM ALL_Views\n",
    "    where owner = 'YFYDW'\n",
    "\"\"\"\n",
    "\n",
    "dw_agent.read_table(query=query)"
   ]
  }
 ],
 "metadata": {
  "kernelspec": {
   "display_name": "bibot",
   "language": "python",
   "name": "python3"
  },
  "language_info": {
   "codemirror_mode": {
    "name": "ipython",
    "version": 3
   },
   "file_extension": ".py",
   "mimetype": "text/x-python",
   "name": "python",
   "nbconvert_exporter": "python",
   "pygments_lexer": "ipython3",
   "version": "3.10.14"
  }
 },
 "nbformat": 4,
 "nbformat_minor": 2
}
