{
 "cells": [
  {
   "cell_type": "code",
   "execution_count": 11,
   "metadata": {},
   "outputs": [],
   "source": [
    "from utils import read_config, OracleAgent\n",
    "import re\n",
    "import os\n",
    "from langchain.prompts import PromptTemplate\n",
    "from langchain_openai.chat_models import ChatOpenAI\n",
    "from langchain.prompts.chat import (\n",
    "    ChatPromptTemplate,\n",
    "    SystemMessagePromptTemplate,\n",
    "    HumanMessagePromptTemplate\n",
    ")\n",
    "\n",
    "\n",
    "import google.generativeai as genai\n",
    "from langchain_google_genai import (\n",
    "    ChatGoogleGenerativeAI,\n",
    "    HarmBlockThreshold,\n",
    "    HarmCategory,\n",
    ")\n"
   ]
  },
  {
   "cell_type": "code",
   "execution_count": 12,
   "metadata": {},
   "outputs": [],
   "source": [
    "configs = read_config(\".env/info.json\")\n",
    "\n",
    "os.environ[\"GOOGLE_API_KEY\"] = configs['gkey']\n",
    "\n",
    "O_KEY = configs['okey']\n",
    "os.environ[\"OPENAI_API_KEY\"] = O_KEY\n",
    "# openai.api_key = os.environ[\"OPENAI_API_KEY\"]"
   ]
  },
  {
   "cell_type": "code",
   "execution_count": 13,
   "metadata": {},
   "outputs": [],
   "source": [
    "configs = read_config(\".env/info.json\")\n",
    "# BIDB = configs['BIDB_conn_info']\n",
    "# bi_agent = OracleAgent(BIDB)\n",
    "DWDB = configs['DW_conn_info']\n",
    "dw_agent = OracleAgent(DWDB)\n",
    "\n"
   ]
  },
  {
   "cell_type": "code",
   "execution_count": 14,
   "metadata": {},
   "outputs": [],
   "source": [
    "query = \"\"\"\n",
    "    SELECT view_name, text FROM ALL_Views\n",
    "    where owner = 'YFYDW'\n",
    "\"\"\"\n",
    "\n",
    "view_info = dw_agent.read_table(query=query)"
   ]
  },
  {
   "cell_type": "code",
   "execution_count": 15,
   "metadata": {},
   "outputs": [
    {
     "data": {
      "text/html": [
       "<div>\n",
       "<style scoped>\n",
       "    .dataframe tbody tr th:only-of-type {\n",
       "        vertical-align: middle;\n",
       "    }\n",
       "\n",
       "    .dataframe tbody tr th {\n",
       "        vertical-align: top;\n",
       "    }\n",
       "\n",
       "    .dataframe thead th {\n",
       "        text-align: right;\n",
       "    }\n",
       "</style>\n",
       "<table border=\"1\" class=\"dataframe\">\n",
       "  <thead>\n",
       "    <tr style=\"text-align: right;\">\n",
       "      <th></th>\n",
       "      <th>view_name</th>\n",
       "      <th>text</th>\n",
       "    </tr>\n",
       "  </thead>\n",
       "  <tbody>\n",
       "    <tr>\n",
       "      <th>0</th>\n",
       "      <td>WACES_CARBON_EMS01_DF_V</td>\n",
       "      <td>SELECT\\n    ORG.ORG_NAME,\\n    CHECKTYPE_CODE,...</td>\n",
       "    </tr>\n",
       "    <tr>\n",
       "      <th>1</th>\n",
       "      <td>WACES_CARBON_EMS02_MF_V</td>\n",
       "      <td>select \\n    org.org_name,\\n    c.check_date p...</td>\n",
       "    </tr>\n",
       "  </tbody>\n",
       "</table>\n",
       "</div>"
      ],
      "text/plain": [
       "                 view_name                                               text\n",
       "0  WACES_CARBON_EMS01_DF_V  SELECT\\n    ORG.ORG_NAME,\\n    CHECKTYPE_CODE,...\n",
       "1  WACES_CARBON_EMS02_MF_V  select \\n    org.org_name,\\n    c.check_date p..."
      ]
     },
     "execution_count": 15,
     "metadata": {},
     "output_type": "execute_result"
    }
   ],
   "source": [
    "view_info"
   ]
  },
  {
   "cell_type": "code",
   "execution_count": 16,
   "metadata": {},
   "outputs": [],
   "source": [
    "# re.DOTALL: This is a flag that allows the '.' in the regular expression to match newline characters\n",
    "# re.IGNORECASE: This flag makes the search case-insenitive. So it will match \"FROM\", \"from\", \"From\" etc\n",
    "view_info['data_source'] = view_info['text'].apply(lambda x: re.search(r'FROM\\s+(.*)', x, re.DOTALL | re.IGNORECASE).group(0))"
   ]
  },
  {
   "cell_type": "code",
   "execution_count": 17,
   "metadata": {},
   "outputs": [
    {
     "data": {
      "text/html": [
       "<div>\n",
       "<style scoped>\n",
       "    .dataframe tbody tr th:only-of-type {\n",
       "        vertical-align: middle;\n",
       "    }\n",
       "\n",
       "    .dataframe tbody tr th {\n",
       "        vertical-align: top;\n",
       "    }\n",
       "\n",
       "    .dataframe thead th {\n",
       "        text-align: right;\n",
       "    }\n",
       "</style>\n",
       "<table border=\"1\" class=\"dataframe\">\n",
       "  <thead>\n",
       "    <tr style=\"text-align: right;\">\n",
       "      <th></th>\n",
       "      <th>view_name</th>\n",
       "      <th>text</th>\n",
       "      <th>data_source</th>\n",
       "    </tr>\n",
       "  </thead>\n",
       "  <tbody>\n",
       "    <tr>\n",
       "      <th>0</th>\n",
       "      <td>WACES_CARBON_EMS01_DF_V</td>\n",
       "      <td>SELECT\\n    ORG.ORG_NAME,\\n    CHECKTYPE_CODE,...</td>\n",
       "      <td>FROM WACES_CARBON_EMS_DF F,\\n       DIM_ORG  O...</td>\n",
       "    </tr>\n",
       "    <tr>\n",
       "      <th>1</th>\n",
       "      <td>WACES_CARBON_EMS02_MF_V</td>\n",
       "      <td>select \\n    org.org_name,\\n    c.check_date p...</td>\n",
       "      <td>from WBIPD_PRODUCTION_INDS_MF p,\\n       (sele...</td>\n",
       "    </tr>\n",
       "  </tbody>\n",
       "</table>\n",
       "</div>"
      ],
      "text/plain": [
       "                 view_name                                               text  \\\n",
       "0  WACES_CARBON_EMS01_DF_V  SELECT\\n    ORG.ORG_NAME,\\n    CHECKTYPE_CODE,...   \n",
       "1  WACES_CARBON_EMS02_MF_V  select \\n    org.org_name,\\n    c.check_date p...   \n",
       "\n",
       "                                         data_source  \n",
       "0  FROM WACES_CARBON_EMS_DF F,\\n       DIM_ORG  O...  \n",
       "1  from WBIPD_PRODUCTION_INDS_MF p,\\n       (sele...  "
      ]
     },
     "execution_count": 17,
     "metadata": {},
     "output_type": "execute_result"
    }
   ],
   "source": [
    "view_info"
   ]
  },
  {
   "cell_type": "code",
   "execution_count": 18,
   "metadata": {},
   "outputs": [
    {
     "name": "stdout",
     "output_type": "stream",
     "text": [
      "select \n",
      "    org.org_name,\n",
      "    c.check_date period_date,\n",
      "    EMISSION_CATEGORY,\n",
      "    c.co2_qty co2_qty,\n",
      "    p.prod_qty\n",
      "  from WBIPD_PRODUCTION_INDS_MF p,\n",
      "       (select \n",
      "            org_code,\n",
      "            check_date,\n",
      "            EMISSION_CATEGORY,\n",
      "            sum(co2_qty) co2_qty\n",
      "          from WACES_CARBON_EMS_DF\n",
      "         where 1=1\n",
      "           and checktype_name = '月盤查'\n",
      "         group by org_code, check_date,EMISSION_CATEGORY) c,\n",
      "      DIM_ORG org\n",
      " where 1=1\n",
      "   and c.org_code = p.org_code(+)\n",
      "   and c.check_date = p.period_date(+)\n",
      "   and org.org_code = c.org_code\n",
      "   and org.rpt_used = 'ESG碳排分析'\n"
     ]
    }
   ],
   "source": [
    "print(view_info.iloc[1].text)"
   ]
  },
  {
   "cell_type": "code",
   "execution_count": 24,
   "metadata": {},
   "outputs": [],
   "source": [
    "system_template = \"\"\"\n",
    "    I will provide the table_name and the datasource by SQL. \n",
    "    Following is the example, give me the answer based on real case:\n",
    "    1. Give me the child table name as a list, like following:\n",
    "        child_list = [child_table_1, child_table_2]\n",
    "    2. Give me the condition if there is, such as: carbon_volume > 20\n",
    "    3. Give me the merge condition if ther is, such as F.ORG_CODE = ORG.ORG_CODE, then the result is ORG_CODE\n",
    "\n",
    "    Just export the summary without any other description.\n",
    "    \n",
    "    table_name: {table_name}\n",
    "\n",
    "    datasource: {datasource}\n",
    "\n",
    "    \"\"\"\n",
    "\n",
    "messages = [\n",
    "    SystemMessagePromptTemplate.from_template(system_template),\n",
    "    HumanMessagePromptTemplate.from_template(\"{table_name}, {datasource}\")\n",
    "]\n",
    "\n",
    "CHAT_PROMPT = ChatPromptTemplate.from_messages(messages)"
   ]
  },
  {
   "cell_type": "code",
   "execution_count": 25,
   "metadata": {},
   "outputs": [],
   "source": [
    "llm = ChatOpenAI(model='gpt-4o-mini', openai_api_key = O_KEY)"
   ]
  },
  {
   "cell_type": "code",
   "execution_count": 26,
   "metadata": {},
   "outputs": [],
   "source": [
    "# llm = ChatGoogleGenerativeAI(\n",
    "#     model=\"gemini-pro\",\n",
    "#     convert_system_message_to_human=True,\n",
    "#     safety_settings={\n",
    "#         HarmCategory.HARM_CATEGORY_HATE_SPEECH: HarmBlockThreshold.BLOCK_NONE,\n",
    "#         HarmCategory.HARM_CATEGORY_HARASSMENT: HarmBlockThreshold.BLOCK_NONE,\n",
    "#         HarmCategory.HARM_CATEGORY_DANGEROUS_CONTENT: HarmBlockThreshold.BLOCK_NONE,\n",
    "#     },\n",
    "# )"
   ]
  },
  {
   "cell_type": "code",
   "execution_count": 27,
   "metadata": {},
   "outputs": [],
   "source": [
    "chain = CHAT_PROMPT | llm\n",
    "input_data = {\n",
    "    \"table_name\": view_info.iloc[1].view_name,\n",
    "    \"datasource\": view_info.iloc[1].data_source\n",
    "}\n",
    "llm_response = chain.invoke(input_data)"
   ]
  },
  {
   "cell_type": "code",
   "execution_count": 28,
   "metadata": {},
   "outputs": [
    {
     "name": "stdout",
     "output_type": "stream",
     "text": [
      "from WBIPD_PRODUCTION_INDS_MF p,\n",
      "       (select \n",
      "            org_code,\n",
      "            check_date,\n",
      "            EMISSION_CATEGORY,\n",
      "            sum(co2_qty) co2_qty\n",
      "          from WACES_CARBON_EMS_DF\n",
      "         where 1=1\n",
      "           and checktype_name = '月盤查'\n",
      "         group by org_code, check_date,EMISSION_CATEGORY) c,\n",
      "      DIM_ORG org\n",
      " where 1=1\n",
      "   and c.org_code = p.org_code(+)\n",
      "   and c.check_date = p.period_date(+)\n",
      "   and org.org_code = c.org_code\n",
      "   and org.rpt_used = 'ESG碳排分析'\n"
     ]
    }
   ],
   "source": [
    "print(view_info.iloc[1].data_source)"
   ]
  },
  {
   "cell_type": "code",
   "execution_count": 29,
   "metadata": {},
   "outputs": [
    {
     "name": "stdout",
     "output_type": "stream",
     "text": [
      "child_list = [WACES_CARBON_EMS_DF, WBIPD_PRODUCTION_INDS_MF, DIM_ORG]\n",
      "condition = org.rpt_used = 'ESG碳排分析'\n",
      "merge_condition = c.org_code = p.org_code, c.check_date = p.period_date, org.org_code = c.org_code\n"
     ]
    }
   ],
   "source": [
    "print(llm_response.content)"
   ]
  },
  {
   "cell_type": "code",
   "execution_count": 33,
   "metadata": {},
   "outputs": [],
   "source": [
    "system_template = \"\"\"\n",
    "    I will provide the table_name and the corresponing Oracle SQL. \n",
    "    Recongize all the unique identifer such as DIM_ORG org, the unique identifier is org.\n",
    "    Understand the relationship, such as org.org_code which means the column org_code in DIM_ORG.\n",
    "    Return the answer with the ORIGINAL table name instead of the unique identifier.\n",
    "\n",
    "    Following is the example, give me the answer based on real case:\n",
    "    ### Oracle SQL:\n",
    "            from WBIPD_PRODUCTION_INDS_MF p,\n",
    "            (select \n",
    "                    org_code,\n",
    "                    check_date,\n",
    "                    EMISSION_CATEGORY,\n",
    "                    sum(co2_qty) co2_qty\n",
    "                from WACES_CARBON_EMS_DF\n",
    "                where 1=1\n",
    "                and checktype_name = '月盤查'\n",
    "                group by org_code, check_date,EMISSION_CATEGORY) c,\n",
    "            DIM_ORG org\n",
    "        where 1=1\n",
    "        and c.org_code = p.org_code(+)\n",
    "        and c.check_date = p.period_date(+)\n",
    "        and org.org_code = c.org_code\n",
    "        and org.rpt_used = 'ESG碳排分析'\n",
    "    ### Result:\n",
    "        [\n",
    "        (GROUPBY: WACES_CARBON_EMS_DF filter with checktype_name = '月盤查', group by org_code, check_date,EMISSION_CATEGORY)\n",
    "        (JOIN: WACES_CARBON_EMS_DF.org_code = WBIPD_PRODUCTION_INDS_MF.org_code(+)),\n",
    "        (JOIN: WACES_CARBON_EMS_DF.period_date = WBIPD_PRODUCTION_INDS_MF.period_date(+)),\n",
    "        (JOIN: DIM_ORG.org_code = WACES_CARBON_EMS_DF.org_code),\n",
    "        (Filter: DIM_ORG.rpt_used = 'ESG碳排分析')\n",
    "        ]\n",
    "\n",
    "    Just export the summary without any other description.\n",
    "    \n",
    "    table_name: {table_name}\n",
    "\n",
    "    datasource: {datasource}\n",
    "\n",
    "    \"\"\"\n",
    "\n",
    "messages = [\n",
    "    SystemMessagePromptTemplate.from_template(system_template),\n",
    "    HumanMessagePromptTemplate.from_template(\"{table_name}, {datasource}\")\n",
    "]\n",
    "\n",
    "CHAT_PROMPT = ChatPromptTemplate.from_messages(messages)"
   ]
  },
  {
   "cell_type": "code",
   "execution_count": 36,
   "metadata": {},
   "outputs": [],
   "source": [
    "chain = CHAT_PROMPT | llm\n",
    "input_data = {\n",
    "    \"table_name\": view_info.iloc[0].view_name,\n",
    "    \"datasource\": view_info.iloc[0].data_source\n",
    "}\n",
    "llm_response = chain.invoke(input_data)"
   ]
  },
  {
   "cell_type": "code",
   "execution_count": 37,
   "metadata": {},
   "outputs": [
    {
     "name": "stdout",
     "output_type": "stream",
     "text": [
      "[\n",
      "    (Filter: DIM_ORG.rpt_used = 'ESG碳排分析'),\n",
      "    (JOIN: WACES_CARBON_EMS_DF.org_code = DIM_ORG.org_code)\n",
      "]\n"
     ]
    }
   ],
   "source": [
    "print(llm_response.content)"
   ]
  },
  {
   "cell_type": "markdown",
   "metadata": {},
   "source": []
  }
 ],
 "metadata": {
  "kernelspec": {
   "display_name": "bibot",
   "language": "python",
   "name": "python3"
  },
  "language_info": {
   "codemirror_mode": {
    "name": "ipython",
    "version": 3
   },
   "file_extension": ".py",
   "mimetype": "text/x-python",
   "name": "python",
   "nbconvert_exporter": "python",
   "pygments_lexer": "ipython3",
   "version": "3.10.14"
  }
 },
 "nbformat": 4,
 "nbformat_minor": 2
}
